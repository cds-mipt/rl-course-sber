{
  "cells": [
    {
      "cell_type": "code",
      "execution_count": 1,
      "id": "01522ae4-74b9-45c2-9efd-d22d931e2962",
      "metadata": {
        "id": "01522ae4-74b9-45c2-9efd-d22d931e2962"
      },
      "outputs": [],
      "source": [
        "import gym\n",
        "import numpy as np\n",
        "import matplotlib.pyplot as plt\n",
        "from tqdm import tqdm"
      ]
    },
    {
      "cell_type": "code",
      "execution_count": 2,
      "id": "06f02921-8bc3-47ff-99ea-1eda3d2a51dd",
      "metadata": {
        "id": "06f02921-8bc3-47ff-99ea-1eda3d2a51dd"
      },
      "outputs": [],
      "source": [
        "env = gym.make('Taxi-v3')"
      ]
    },
    {
      "cell_type": "code",
      "source": [
        "env.reset()\n",
        "env.render()"
      ],
      "metadata": {
        "colab": {
          "base_uri": "https://localhost:8080/"
        },
        "id": "xxtlGNeV77Ty",
        "outputId": "61ddf050-c2b4-4813-c4b4-88becdae3eb6"
      },
      "id": "xxtlGNeV77Ty",
      "execution_count": 3,
      "outputs": [
        {
          "output_type": "stream",
          "name": "stdout",
          "text": [
            "+---------+\n",
            "|\u001b[35mR\u001b[0m: |\u001b[43m \u001b[0m: :\u001b[34;1mG\u001b[0m|\n",
            "| : | : : |\n",
            "| : : : : |\n",
            "| | : | : |\n",
            "|Y| : |B: |\n",
            "+---------+\n",
            "\n"
          ]
        }
      ]
    },
    {
      "cell_type": "markdown",
      "id": "d3380333-10da-44e2-89be-5f8eaf07d6c2",
      "metadata": {
        "id": "d3380333-10da-44e2-89be-5f8eaf07d6c2"
      },
      "source": [
        "Используем метод динамического программирования для оценки функции полезности действий"
      ]
    },
    {
      "cell_type": "code",
      "execution_count": 4,
      "id": "85896dc3-4544-460d-af0d-598726e6fce2",
      "metadata": {
        "id": "85896dc3-4544-460d-af0d-598726e6fce2"
      },
      "outputs": [],
      "source": [
        "class MDP:\n",
        "    def __init__(self, env):\n",
        "        n_states = env.observation_space.n\n",
        "        n_actions = env.action_space.n\n",
        "        P = np.zeros((n_states, n_actions), dtype=np.int32)\n",
        "        R = np.zeros((n_states, n_actions))\n",
        "        d = np.zeros((n_states, n_actions))\n",
        "        for s in env.P.keys():\n",
        "            for a in env.P[s].keys():\n",
        "                assert len(env.P[s][a]) == 1\n",
        "                for p, s1, r, done in env.P[s][a]:\n",
        "                    assert p == 1\n",
        "                    P[s, a] = s1\n",
        "                    R[s, a] = r\n",
        "                    d[s, a] = int(not done)\n",
        "        self.n_states = P.shape[0]\n",
        "        self.n_actions = P.shape[1]\n",
        "        self.P = P\n",
        "        self.R = R\n",
        "        self.d = d\n",
        "        \n",
        "    def get_value(self, policy, gamma):\n",
        "        \"\"\"\n",
        "        Args:\n",
        "          policy ([n_states, n_actions]):\n",
        "          gamma (float):\n",
        "        \"\"\"\n",
        "        Q = np.zeros((self.n_states, self.n_actions))\n",
        "        for i in range(100):\n",
        "            Q = self.R + gamma * (Q * policy).sum(1)[self.P] * self.d\n",
        "        return Q"
      ]
    },
    {
      "cell_type": "code",
      "execution_count": 5,
      "id": "1de122b3-eb2b-4fe5-b6aa-b912d07e2149",
      "metadata": {
        "id": "1de122b3-eb2b-4fe5-b6aa-b912d07e2149"
      },
      "outputs": [],
      "source": [
        "n_states = env.observation_space.n\n",
        "n_actions = env.action_space.n"
      ]
    },
    {
      "cell_type": "code",
      "execution_count": 6,
      "id": "412f0272-9c18-42a9-bd8c-1f315fc76f34",
      "metadata": {
        "id": "412f0272-9c18-42a9-bd8c-1f315fc76f34"
      },
      "outputs": [],
      "source": [
        "mdp = MDP(env)"
      ]
    },
    {
      "cell_type": "markdown",
      "id": "19c7086f-0964-442e-9c13-43ac27f94a0d",
      "metadata": {
        "id": "19c7086f-0964-442e-9c13-43ac27f94a0d"
      },
      "source": [
        "Функция `eps_greedy` выставляет для каждого состояния $s$ все вероятности действий равными $\\frac{\\varepsilon}{|\\mathcal{A}|}$ кроме действия $\\arg\\max_a Q(s, a)$. Для него вероятность равна $1 - \\varepsilon + \\frac{\\varepsilon}{|\\mathcal{A}|}$. Таким образом, с вероятностью $1 - \\varepsilon$, мы делаем лучшее действие, а с вероятностью $\\varepsilon$ - случайное"
      ]
    },
    {
      "cell_type": "code",
      "execution_count": 7,
      "id": "51f0f8e2-c447-43bf-99ec-cb5e1b24ee0e",
      "metadata": {
        "id": "51f0f8e2-c447-43bf-99ec-cb5e1b24ee0e"
      },
      "outputs": [],
      "source": [
        "def eps_greedy(Q, eps=0.1):\n",
        "    policy = np.zeros((n_states, n_actions))\n",
        "    # делаем все дейсвия равновероятными, вероятность по формуле ниже:\n",
        "    policy[...] = eps / n_actions\n",
        "    # вероятность действия на месте argmax_a Q(., a) равна 1 - epsilon + epsilon / n_actions\n",
        "    np.put_along_axis(policy, Q.argmax(1)[:, None], (1 - eps) + eps / n_actions, axis=1)\n",
        "    return policy"
      ]
    },
    {
      "cell_type": "markdown",
      "id": "c94bee07-5dda-49f2-ba7e-693bfd693024",
      "metadata": {
        "id": "c94bee07-5dda-49f2-ba7e-693bfd693024"
      },
      "source": [
        "Пример работы функции `eps_greedy`:"
      ]
    },
    {
      "cell_type": "code",
      "execution_count": 8,
      "id": "b591887b-516d-4f7a-a6f5-9ae213b2068c",
      "metadata": {
        "colab": {
          "base_uri": "https://localhost:8080/"
        },
        "id": "b591887b-516d-4f7a-a6f5-9ae213b2068c",
        "outputId": "3c3bd026-1ee4-4a2a-89f3-2d290c76c66d"
      },
      "outputs": [
        {
          "output_type": "execute_result",
          "data": {
            "text/plain": [
              "array([0.04, 0.04, 0.04, 0.8 , 0.04, 0.04])"
            ]
          },
          "metadata": {},
          "execution_count": 8
        }
      ],
      "source": [
        "eps_greedy(Q=np.random.randn(n_states, n_actions), eps=0.24)[20]"
      ]
    },
    {
      "cell_type": "code",
      "execution_count": 9,
      "id": "b1e9c36e-4726-441c-b11d-5a73fd0fb5cb",
      "metadata": {
        "id": "b1e9c36e-4726-441c-b11d-5a73fd0fb5cb"
      },
      "outputs": [],
      "source": [
        "def evaluate_online(env, policy, episodes=100, gamma=0.99):\n",
        "    \"\"\"\n",
        "    :param policy: [n_states,n_actions] \n",
        "    :returns: total_reward\n",
        "    \"\"\"\n",
        "    rewards = []\n",
        "\n",
        "    for _ in range(episodes):\n",
        "        total_reward = 0.\n",
        "        s = env.reset()\n",
        "        done = False\n",
        "        g = 1\n",
        "        while not done:\n",
        "            a = np.random.choice(policy.shape[1], p=policy[s])\n",
        "            s, r, done, info = env.step(a)\n",
        "            total_reward += r * g\n",
        "            g *= gamma\n",
        "        rewards.append(total_reward)\n",
        "    return np.mean(rewards)"
      ]
    },
    {
      "cell_type": "code",
      "execution_count": 10,
      "id": "1e97f32b-dbcf-4dac-bc97-9ef866c4e967",
      "metadata": {
        "id": "1e97f32b-dbcf-4dac-bc97-9ef866c4e967"
      },
      "outputs": [],
      "source": [
        "from IPython.display import clear_output\n",
        "def show_progress(**kwargs):\n",
        "    clear_output(True)\n",
        "    plt.figure(figsize=[8, 6])\n",
        "    for k, v in kwargs.items():\n",
        "        if v is not None:\n",
        "            plt.plot(v, label=f'{k}')\n",
        "    plt.ylim(-15, np.max(v) * 1.1)\n",
        "    plt.legend(loc=4)\n",
        "    plt.show()"
      ]
    },
    {
      "cell_type": "code",
      "source": [
        ""
      ],
      "metadata": {
        "id": "YTgA1G5YE7Rl"
      },
      "id": "YTgA1G5YE7Rl",
      "execution_count": 10,
      "outputs": []
    },
    {
      "cell_type": "code",
      "execution_count": 12,
      "id": "666fecdc-72a1-4cd8-893c-3f496337dd9e",
      "metadata": {
        "tags": [],
        "colab": {
          "base_uri": "https://localhost:8080/",
          "height": 392
        },
        "id": "666fecdc-72a1-4cd8-893c-3f496337dd9e",
        "outputId": "6c297778-aa60-4e21-a439-75e45f55c3dd"
      },
      "outputs": [
        {
          "output_type": "display_data",
          "data": {
            "text/plain": [
              "<Figure size 576x432 with 1 Axes>"
            ],
            "image/png": "[encoded data removed]"
          },
          "metadata": {
            "needs_background": "light"
          }
        },
        {
          "output_type": "stream",
          "name": "stderr",
          "text": [
            "100%|██████████| 200/200 [00:55<00:00,  3.61it/s]\n"
          ]
        }
      ],
      "source": [
        "gamma = 0.99\n",
        "epsilon = 0.2\n",
        "policy = np.ones((n_states, n_actions)) / n_actions\n",
        "expected_rewards = []\n",
        "actual_rewards = []\n",
        "\n",
        "for i in tqdm(range(200)):\n",
        "    # policy evaluation stage\n",
        "    Q = mdp.get_value(policy, gamma)\n",
        "    expected_reward = ((Q * policy).sum(1) * env.isd).sum()\n",
        "    actual_rewards.append(evaluate_online(env, policy, gamma=gamma))\n",
        "    expected_rewards.append(expected_reward)\n",
        "    # policy improvement stage\n",
        "    policy = eps_greedy(Q, eps=epsilon)\n",
        "    \n",
        "    epsilon *= 0.98\n",
        "    show_progress(\n",
        "        expected_reward_policy_iteration_eps_greedy=expected_rewards,\n",
        "        policy_iteration_eps_greedy=actual_rewards,\n",
        "    )"
      ]
    },
    {
      "cell_type": "code",
      "execution_count": 13,
      "id": "f79e18c9-8b44-49f1-bdc2-6f73aa5c0fd0",
      "metadata": {
        "colab": {
          "base_uri": "https://localhost:8080/"
        },
        "id": "f79e18c9-8b44-49f1-bdc2-6f73aa5c0fd0",
        "outputId": "121d3b50-3b50-41bb-9c94-9c5378d25d00"
      },
      "outputs": [
        {
          "output_type": "stream",
          "name": "stdout",
          "text": [
            "+---------+\n",
            "|R: | : :G|\n",
            "| : | : : |\n",
            "| : : : : |\n",
            "| | : | : |\n",
            "|Y| : |\u001b[35m\u001b[34;1m\u001b[43mB\u001b[0m\u001b[0m\u001b[0m: |\n",
            "+---------+\n",
            "  (Dropoff)\n",
            "step=11, state=475, action=5, reward=20\n"
          ]
        }
      ],
      "source": [
        "from time import sleep\n",
        "s = env.reset()\n",
        "clear_output(True)\n",
        "env.render()\n",
        "done = False\n",
        "i = 0\n",
        "while not done:\n",
        "    a = np.random.choice(n_actions, p=policy[s])\n",
        "    s, reward, done, info = env.step(a)\n",
        "    clear_output(True)\n",
        "    env.render()\n",
        "    print(f'step={i}, state={s}, action={a}, reward={reward}')\n",
        "    sleep(0.5)\n",
        "    i += 1"
      ]
    },
    {
      "cell_type": "code",
      "source": [
        ""
      ],
      "metadata": {
        "id": "84qTkE7EnjP-"
      },
      "id": "84qTkE7EnjP-",
      "execution_count": null,
      "outputs": []
    }
  ],
  "metadata": {
    "kernelspec": {
      "display_name": "Python 3 (ipykernel)",
      "language": "python",
      "name": "python3"
    },
    "language_info": {
      "codemirror_mode": {
        "name": "ipython",
        "version": 3
      },
      "file_extension": ".py",
      "mimetype": "text/x-python",
      "name": "python",
      "nbconvert_exporter": "python",
      "pygments_lexer": "ipython3",
      "version": "3.7.13"
    },
    "colab": {
      "name": "02-policy-iteration.ipynb",
      "provenance": [],
      "collapsed_sections": []
    }
  },
  "nbformat": 4,
  "nbformat_minor": 5
}