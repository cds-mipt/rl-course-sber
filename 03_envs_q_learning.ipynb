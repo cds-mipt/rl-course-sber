{
  "cells": [
    {
      "cell_type": "markdown",
      "metadata": {
        "id": "TDqfgGd0bL3C"
      },
      "source": [
        "# Машинное обучение с подкреплением. Сбербанк июнь 2022.\n",
        "## Семинар 2: Обзор сред. Q-обучение. Апроксимация Q-функции. \n",
        "\n",
        "### 1. Обзор сред\n",
        "\n",
        "* [Classic Control](https://gym.openai.com/envs/#classic_control)\n",
        "* [Box2D](https://gym.openai.com/envs/#box2d)\n",
        "* [Atari](https://gym.openai.com/envs/#atari)\n",
        "* [Gym Retro](https://openai.com/blog/gym-retro/)\n",
        "* [Mujoco](https://gym.openai.com/envs/#mujoco)\n",
        "* [Robotics](https://gym.openai.com/envs/#robotics)\n",
        "* [Universe](https://openai.com/blog/universe/)\n",
        "* [MineRL](https://minerl.io/) \\(использует проект [malmo](https://www.microsoft.com/en-us/research/project/project-malmo/))\n",
        "* [Starcraft II](https://github.com/deepmind/pysc2)\n",
        "* [Biomechanics: Learning to move](https://www.aicrowd.com/challenges/neurips-2019-learning-to-move-walk-around)\n",
        "* [Procgen](https://openai.com/blog/procgen-benchmark/)\n",
        "* [Halitate on Kaggle](https://www.kaggle.com/c/halite) \n",
        "* [Flatland](https://www.aicrowd.com/challenges/neurips-2020-flatland-challenge)\n",
        "* Настольные игры: Chess, GO и т.д. (множество среда на github)\n",
        "* [Learning to Run a Power Network](https://competitions.codalab.org/competitions/20767) \\(ссылка на [NIPS](https://nips.cc/Conferences/2020/CompetitionTrack))\n",
        "* ..."
      ]
    },
    {
      "cell_type": "markdown",
      "metadata": {
        "id": "ajUaHPOJH-3Z"
      },
      "source": [
        "### 2. Q-обучение\n"
      ]
    },
    {
      "cell_type": "markdown",
      "metadata": {
        "id": "fIX-e9zJKk23"
      },
      "source": [
        "Одним из наиболее популярных алгоритм обучения на основе временных различий является Q-обучение.\n",
        "\n",
        "<img src=\"https://wikimedia.org/api/rest_v1/media/math/render/svg/678cb558a9d59c33ef4810c9618baf34a9577686\">\n",
        "\n",
        "\n",
        "Раскроем скобки:\n",
        "$$Q(s,a)\\leftarrow (1 - \\alpha) \\times Q(s,a)+\\alpha \\times \\big (r(s)+\\gamma\\max_{a'}Q(a',s')\\big ).$$"
      ]
    },
    {
      "cell_type": "markdown",
      "metadata": {
        "id": "WJ79cSTLLPb-"
      },
      "source": [
        "Для обучения будем использовать среду Taxi-v3. Подробнее про данное окружение можно посмотреть в документации: https://gym.openai.com/envs/Taxi-v3/."
      ]
    },
    {
      "cell_type": "code",
      "execution_count": 1,
      "metadata": {
        "id": "ud0_kfOGLUwo"
      },
      "outputs": [],
      "source": [
        "import gym\n",
        "import numpy as np\n",
        "import matplotlib.pyplot as plt\n",
        "import random"
      ]
    },
    {
      "cell_type": "code",
      "execution_count": 2,
      "metadata": {
        "colab": {
          "base_uri": "https://localhost:8080/"
        },
        "id": "uwqXBprJKk26",
        "outputId": "be981143-39c5-4749-862b-8b0c5fec6654"
      },
      "outputs": [
        {
          "output_type": "stream",
          "name": "stdout",
          "text": [
            "+---------+\n",
            "|\u001b[35mR\u001b[0m: | : :\u001b[34;1mG\u001b[0m|\n",
            "| : | :\u001b[43m \u001b[0m: |\n",
            "| : : : : |\n",
            "| | : | : |\n",
            "|Y| : |B: |\n",
            "+---------+\n",
            "\n"
          ]
        }
      ],
      "source": [
        "env = gym.make(\"Taxi-v3\")\n",
        "env.render()"
      ]
    },
    {
      "cell_type": "code",
      "execution_count": 3,
      "metadata": {
        "id": "Phe3a5aTQBsd"
      },
      "outputs": [],
      "source": [
        "def show_progress(rewards_batch, log, reward_range=None):\n",
        "    \"\"\"\n",
        "    Удобная функция, которая отображает прогресс обучения.\n",
        "    \"\"\"\n",
        "\n",
        "    if reward_range is None:\n",
        "        reward_range = [-990, +10]\n",
        "    mean_reward = np.mean(rewards_batch)\n",
        "    log.append([mean_reward])\n",
        "\n",
        "    clear_output(True)\n",
        "    plt.figure(figsize=[8, 4])\n",
        "    plt.subplot(1, 2, 1)\n",
        "    plt.plot(list(zip(*log))[0], label='Mean rewards')\n",
        "    plt.legend(loc=4)\n",
        "    plt.grid()\n",
        "    plt.grid()\n",
        "    plt.show()"
      ]
    },
    {
      "cell_type": "markdown",
      "metadata": {
        "id": "m_Pbvpm4Kk2-"
      },
      "source": [
        "#### Задание 1\n",
        "\n",
        "Создайте таблицу из нулей, используя информацию из окружения о количестве состояний и действий"
      ]
    },
    {
      "cell_type": "code",
      "execution_count": 4,
      "metadata": {
        "id": "_bddYTsDQmVL"
      },
      "outputs": [],
      "source": [
        "import random\n",
        "from IPython.display import clear_output\n",
        "\n",
        "# гиперпараметры алгоритма\n",
        "alpha = 0.1\n",
        "gamma = 0.9\n",
        "epsilon = 0.1\n",
        "episodes_number = 10001"
      ]
    },
    {
      "cell_type": "code",
      "execution_count": 5,
      "metadata": {
        "id": "8QjwLO_CKk3B"
      },
      "outputs": [],
      "source": [
        "def initialize_q_table(observation_space_n, action_space_n):\n",
        "    # Q = [state][action]\n",
        "    ####### Здесь ваш код ########\n",
        "    Q = np.zeros([observation_space_n, action_space_n])\n",
        "    ##############################\n",
        "    return Q"
      ]
    },
    {
      "cell_type": "code",
      "execution_count": 6,
      "metadata": {
        "id": "aa8ZqT0NepxL"
      },
      "outputs": [],
      "source": [
        "# Добавить проверку таблицы - размеры, тип.\n",
        "n_states, n_actions = 3, 5\n",
        "Q = initialize_q_table(n_states, n_actions)\n",
        "assert isinstance(Q, np.ndarray) and len(Q.shape) == 2, 'результат должен быть 2D нумпаевским вектором'\n",
        "assert Q.shape[0] == n_states and Q.shape[1] == n_actions, 'проверь размерности: [N состояний][M действий]'\n",
        "assert not Q.any(), 'инициализация должна быть нулями'"
      ]
    },
    {
      "cell_type": "markdown",
      "metadata": {
        "id": "pG9YEmftQtu0"
      },
      "source": [
        "#### Задание 2\n",
        "\n",
        "Допишите недостающий код для алгоритма Q-обучения\n"
      ]
    },
    {
      "cell_type": "code",
      "execution_count": 7,
      "metadata": {
        "colab": {
          "base_uri": "https://localhost:8080/",
          "height": 283
        },
        "id": "DUthRLiaIuuV",
        "outputId": "3a618eb5-1ced-4ce2-a1a9-3e994fb7affa"
      },
      "outputs": [
        {
          "output_type": "display_data",
          "data": {
            "text/plain": [
              "<Figure size 576x288 with 1 Axes>"
            ],
            "image/png": "[encoded data removed]"
          },
          "metadata": {
            "needs_background": "light"
          }
        },
        {
          "output_type": "stream",
          "name": "stdout",
          "text": [
            "Episode: 10000, Reward: 7\n"
          ]
        }
      ],
      "source": [
        "# определяем память, в которой будет храниться Q(s,a)\n",
        "q_table = initialize_q_table(env.observation_space.n, env.action_space.n)\n",
        "log = []\n",
        "rewards_batch = []\n",
        "\n",
        "for i in range(1, episodes_number):\n",
        "    state = env.reset()\n",
        "\n",
        "    episode, r, episode_reward = 0, 0, 0\n",
        "    done = False\n",
        "    \n",
        "    while not done:\n",
        "        # получаем жадное действие\n",
        "        action_greed = np.argmax(q_table[state])\n",
        "        # выбираем действие, используя eps-greedy исследование среды\n",
        "        # с вероятностью epsilon выбираем случайное действие, иначе \n",
        "        # используем жадно действие \n",
        "        # подсказка: для выбора случайного действия можно использовать \n",
        "        # методы среды - env.action_space.sample()\n",
        "        # action = \n",
        "        ####### Здесь ваш код ########\n",
        "        if epsilon < np.random.random():\n",
        "            # используем Q-функцию\n",
        "            action = np.argmax(q_table[state])\n",
        "        else:\n",
        "            action = np.random.choice(q_table.shape[1])\n",
        "        ##############################\n",
        "        \n",
        "        # выполняем действие в среде \n",
        "        next_state, r, done, info = env.step(action) \n",
        "        \n",
        "        # получаем old_value и value_estimate (estimate of optimal future value)\n",
        "        old_value = q_table[state, action]\n",
        "        next_value_estimate = np.max(q_table[next_state])\n",
        "        \n",
        "        # посчитайте new_value (temporal difference target)\n",
        "        # new_value = \n",
        "        ####### Здесь ваш код ########\n",
        "        new_value = r + gamma * next_value_estimate\n",
        "        ##############################\n",
        "        \n",
        "        q_table[state, action] = (1 - alpha) * old_value + alpha *  new_value \n",
        "\n",
        "        state = next_state\n",
        "        episode += 1\n",
        "        episode_reward += r\n",
        "    rewards_batch.append(episode_reward)\n",
        "     \n",
        "    if i % 100 == 0:\n",
        "        show_progress(rewards_batch, log)\n",
        "        rewards_batch = []\n",
        "        print(f\"Episode: {i}, Reward: {episode_reward}\")"
      ]
    },
    {
      "cell_type": "code",
      "execution_count": 7,
      "metadata": {
        "id": "mQTJi_UMX7-X"
      },
      "outputs": [],
      "source": [
        ""
      ]
    },
    {
      "cell_type": "markdown",
      "metadata": {
        "id": "QCvfdLORQOf0"
      },
      "source": [
        "### Интерпретация результатов:\n",
        "Если все сделано правильно, то график должен выйти на плато около 0. Значение вознаграждение будет в диапазоне [-5, 10], за счет случайного выбора начальной позиции такси и пассажира. Попробуйте изменить гиперпараметры и сравните результаты."
      ]
    },
    {
      "cell_type": "markdown",
      "metadata": {
        "id": "f7sfWBeBq8Wx"
      },
      "source": [
        "## 4. Аппроксимация Q-функции\n",
        "\n",
        "В данном пункте мы будем использовать библиотеку pytorch для обучения нейронной сети, хотя можно использовать и любую другую библиотеку."
      ]
    },
    {
      "cell_type": "code",
      "execution_count": 8,
      "metadata": {
        "id": "mXq0LL5sxmQ4"
      },
      "outputs": [],
      "source": [
        "import gym\n",
        "import numpy as np\n",
        "import pandas as pd\n",
        "import matplotlib.pyplot as plt\n",
        "%matplotlib inline"
      ]
    },
    {
      "cell_type": "code",
      "execution_count": 9,
      "metadata": {
        "id": "13uA4vJMxm0o"
      },
      "outputs": [],
      "source": [
        "env = gym.make(\"CartPole-v0\").env\n",
        "env.reset()\n",
        "n_actions = env.action_space.n\n",
        "state_dim = env.observation_space.shape\n",
        "\n",
        "# plt.imshow(env.render(\"rgb_array\"))\n",
        "env.close()"
      ]
    },
    {
      "cell_type": "markdown",
      "metadata": {
        "id": "qJNuUIXUxo3F"
      },
      "source": [
        "Так как описание состояния в задаче с маятником представляет собой не \"сырые\" признаки, а уже предобработанные (координаты, углы), нам не нужна для начала сложная архитектура, начнем с такой:\n",
        "<img src=\"https://raw.githubusercontent.com/Tviskaron/mipt/master/2020/RL/figures/DQN.svg\">\n",
        "Для начала попробуйте использовать только полносвязные слои (``torch.nn.Linear``) и простые активационные функции (``torch.nn.ReLU``). Сигмоиды и другие функции не будут работать с ненормализованными входными данными."
      ]
    },
    {
      "cell_type": "code",
      "execution_count": 10,
      "metadata": {
        "id": "scnIW4CKxp-8"
      },
      "outputs": [],
      "source": [
        "import torch\n",
        "import torch.nn as nn\n",
        "import torch.nn.functional as F"
      ]
    },
    {
      "cell_type": "code",
      "execution_count": 11,
      "metadata": {
        "colab": {
          "base_uri": "https://localhost:8080/"
        },
        "id": "gHszhI8vcHjK",
        "outputId": "f8cf0509-27d2-44f3-9cd9-cc1cb017f4a5"
      },
      "outputs": [
        {
          "output_type": "stream",
          "name": "stdout",
          "text": [
            "torch @ https://download.pytorch.org/whl/cu113/torch-1.11.0%2Bcu113-cp37-cp37m-linux_x86_64.whl\n",
            "torchaudio @ https://download.pytorch.org/whl/cu113/torchaudio-0.11.0%2Bcu113-cp37-cp37m-linux_x86_64.whl\n",
            "torchsummary==1.5.1\n",
            "torchtext==0.12.0\n",
            "torchvision @ https://download.pytorch.org/whl/cu113/torchvision-0.12.0%2Bcu113-cp37-cp37m-linux_x86_64.whl\n"
          ]
        }
      ],
      "source": [
        "!pip freeze | grep torch"
      ]
    },
    {
      "cell_type": "markdown",
      "metadata": {
        "id": "CS9rWHk4xq6T"
      },
      "source": [
        "Определяем граф вычислений:"
      ]
    },
    {
      "cell_type": "code",
      "execution_count": 12,
      "metadata": {
        "id": "5qM-DR3uxr44"
      },
      "outputs": [],
      "source": [
        "# network = nn.Sequential(\n",
        "# torch.nn.Linear(state_dim[0], ...),\n",
        "# ...\n",
        "####### Здесь ваш код ########\n",
        "hidden_dims = [128, 128]\n",
        "network = nn.Sequential(\n",
        "    nn.Linear(state_dim[0], hidden_dims[0]), \n",
        "    nn.ReLU(),\n",
        "    nn.Linear(hidden_dims[0], hidden_dims[1]),\n",
        "    nn.ReLU(),\n",
        "    nn.Linear(hidden_dims[1], n_actions),\n",
        ")\n",
        "##############################"
      ]
    },
    {
      "cell_type": "code",
      "execution_count": 13,
      "metadata": {
        "id": "VVHBpe87xtmS"
      },
      "outputs": [],
      "source": [
        "def get_action(state, epsilon=0):\n",
        "    \"\"\"\n",
        "    сэмплируем (eps greedy) действие\n",
        "    \"\"\"\n",
        "    # [3, 2]\n",
        "    # [[3, 2]]\n",
        "    state = torch.tensor(state[None], dtype=torch.float32)\n",
        "    q_values = network(state).detach().numpy()\n",
        "    \n",
        "    # action = \n",
        "    ####### Здесь ваш код ########\n",
        "    if epsilon < np.random.random_sample():\n",
        "        action = np.argmax(q_values)\n",
        "    else:\n",
        "        n_actions = q_values.shape[-1]\n",
        "        action = np.random.choice(n_actions)\n",
        "    ##############################\n",
        "    \n",
        "    return int(action)"
      ]
    },
    {
      "cell_type": "code",
      "execution_count": 14,
      "metadata": {
        "colab": {
          "base_uri": "https://localhost:8080/"
        },
        "id": "pYDZqXvaxuw8",
        "outputId": "2d002b6f-fd46-4c1a-be22-3513117ca531"
      },
      "outputs": [
        {
          "output_type": "stream",
          "name": "stderr",
          "text": [
            "/usr/local/lib/python3.7/dist-packages/ipykernel_launcher.py:2: UserWarning: Creating a tensor from a list of numpy.ndarrays is extremely slow. Please consider converting the list to a single numpy.ndarray with numpy.array() before converting to a tensor. (Triggered internally at  ../torch/csrc/utils/tensor_new.cpp:210.)\n",
            "  \n"
          ]
        },
        {
          "output_type": "stream",
          "name": "stdout",
          "text": [
            "e=0.0 тесты пройдены\n",
            "e=0.1 тесты пройдены\n",
            "e=0.5 тесты пройдены\n",
            "e=1.0 тесты пройдены\n"
          ]
        }
      ],
      "source": [
        "s = env.reset()\n",
        "assert tuple(network(torch.tensor([s]*3, dtype=torch.float32)).size()) == (\n",
        "    3, n_actions), \"Убедитесь, что модель переводит s -> [Q(s,a0), ..., Q(s, a_last)]\"\n",
        "assert isinstance(list(network.modules(\n",
        "))[-1], nn.Linear), \"убедитесь, что вы предсказываете q без нелинейности\"\n",
        "assert isinstance(get_action(\n",
        "    s), int), \"убедитесь, что функция get_action() возвращает только одно действие типа integer\" % (type(get_action(s)))\n",
        "\n",
        "# проверяем исследование среды\n",
        "for eps in [0., 0.1, 0.5, 1.0]:\n",
        "    state_frequencies = np.bincount(\n",
        "        [get_action(s, epsilon=eps) for i in range(10000)], minlength=n_actions)\n",
        "    best_action = state_frequencies.argmax()\n",
        "    assert abs(state_frequencies[best_action] -\n",
        "               10000 * (1 - eps + eps / n_actions)) < 200\n",
        "    for other_action in range(n_actions):\n",
        "        if other_action != best_action:\n",
        "            assert abs(state_frequencies[other_action] -\n",
        "                       10000 * (eps / n_actions)) < 200\n",
        "    print('e=%.1f тесты пройдены' % eps)"
      ]
    },
    {
      "cell_type": "markdown",
      "metadata": {
        "id": "cQQ393Vjxwa6"
      },
      "source": [
        "Теперь будем приближать Q-функцию агента, минимизируя TD функцию потерь:\n",
        "$$ L = { 1 \\over N} \\sum_i (Q_{\\theta}(s,a) - [r(s,a) + \\gamma \\cdot max_{a'} Q_{-}(s', a')]) ^2,$$\n",
        "где\n",
        "* $s, a, r, s'$ состояние, действие, вознаграждение и следующее состояние \n",
        "* $\\gamma$ дисконтирующий множетель.\n",
        "\n",
        "Основная тонкость состоит в использовании $Q_{-}(s',a')$. Эта та же самая функция, что и $Q_{\\theta}$, которая является выходом нейронной сети, но при обучении сети, мы не пропускаем через эти слои градиенты. "
      ]
    },
    {
      "cell_type": "code",
      "execution_count": 15,
      "metadata": {
        "id": "q0ONl7rHxvZw"
      },
      "outputs": [],
      "source": [
        "def compute_td_loss(states, actions, rewards, next_states, is_done, gamma=0.99, check_shapes=False):\n",
        "    \"\"\" Считатет td ошибку, используя лишь операции фреймворка torch. Используйте формулу выше. \"\"\"\n",
        "    \n",
        "    # переводим входные данные в тензоры\n",
        "    states = torch.tensor(states, dtype=torch.float32)    # shape: [batch_size, state_size]\n",
        "    actions = torch.tensor(actions, dtype=torch.long)     # shape: [batch_size] \n",
        "    rewards = torch.tensor(rewards, dtype=torch.float32)  # shape: [batch_size]\n",
        "    \n",
        "    \n",
        "    next_states = torch.tensor(next_states, dtype=torch.float32) # shape: [batch_size, state_size]\n",
        "    is_done = torch.tensor(is_done, dtype=torch.uint8)    # shape: [batch_size]\n",
        "\n",
        "    # получаем значения q для всех действий из текущих состояний\n",
        "    predicted_qvalues = network(states)\n",
        "\n",
        "    # получаем q-values для выбранных действий\n",
        "    predicted_qvalues_for_actions = predicted_qvalues[range(states.shape[0]), actions]\n",
        "\n",
        "    # применяем сеть для получения q-value для следующих состояний (next_states)\n",
        "    # predicted_next_qvalues =\n",
        "    ####### Здесь ваш код ########\n",
        "    predicted_next_qvalues = network(next_states)\n",
        "    ##############################\n",
        "    \n",
        "    # вычисляем V*(next_states), что соответствует max_{a'} Q(s',a')\n",
        "    # next_state_values =\n",
        "    ####### Здесь ваш код ########\n",
        "    next_state_values = torch.max(predicted_next_qvalues.detach(), axis=-1)[0]\n",
        "    ##############################\n",
        "    \n",
        "    assert next_state_values.dtype == torch.float32\n",
        "\n",
        "    # вычисляем target q-values для функции потерь, \n",
        "    # что соответствует выражению в квадртаных скобках\n",
        "    #  target_qvalues_for_actions =\n",
        "    ####### Здесь ваш код ########\n",
        "    target_qvalues_for_actions = rewards + gamma * next_state_values \n",
        "    ##############################\n",
        "    \n",
        "    # для последнего действия используем \n",
        "    # упрощенную формулу Q(s,a) = r(s,a), \n",
        "    # т.к. s' для него не существует\n",
        "    target_qvalues_for_actions = torch.where(is_done, rewards, target_qvalues_for_actions)\n",
        "\n",
        "    # MSE loss для минимизации\n",
        "    loss = torch.mean((predicted_qvalues_for_actions - target_qvalues_for_actions.detach()) ** 2)\n",
        "\n",
        "    if check_shapes:\n",
        "        assert predicted_next_qvalues.data.dim(\n",
        "        ) == 2, \"убедитесь, что вы предсказали q-значения для всех действий в следующем состоянии\"\n",
        "        assert next_state_values.data.dim(\n",
        "        ) == 1, \"убедитесь, что вы вычислили V (s ') как максимум только по оси действий, а не по всем осям\"\n",
        "        assert target_qvalues_for_actions.data.dim(\n",
        "        ) == 1, \"что-то не так с целевыми q-значениями, они должны быть вектором\"\n",
        "\n",
        "    return loss"
      ]
    },
    {
      "cell_type": "code",
      "execution_count": 16,
      "metadata": {
        "id": "KZtPqvVwxzCu",
        "colab": {
          "base_uri": "https://localhost:8080/"
        },
        "outputId": "812597f9-c15e-42c9-d60e-de3aa120ea05"
      },
      "outputs": [
        {
          "output_type": "stream",
          "name": "stderr",
          "text": [
            "/usr/local/lib/python3.7/dist-packages/ipykernel_launcher.py:43: UserWarning: where received a uint8 condition tensor. This behavior is deprecated and will be removed in a future version of PyTorch. Use a boolean condition instead. (Triggered internally at  ../aten/src/ATen/native/TensorCompare.cpp:333.)\n"
          ]
        }
      ],
      "source": [
        "# небольшие проверки\n",
        "s = env.reset()\n",
        "a = env.action_space.sample()\n",
        "next_s, r, done, _ = env.step(a)\n",
        "loss = compute_td_loss([s], [a], [r], [next_s], [done], check_shapes=True)\n",
        "loss.backward()\n",
        "\n",
        "assert len(loss.size()) == 0, \"функция должна вычислять скалярный loss - среднее по батчу\"\n",
        "assert np.any(next(network.parameters()).grad.detach().numpy() !=\n",
        "              0), \"loss должен быть дифференцируемым по весам сети\""
      ]
    },
    {
      "cell_type": "code",
      "execution_count": 17,
      "metadata": {
        "id": "Lk5wfnQdx0GZ"
      },
      "outputs": [],
      "source": [
        "opt = torch.optim.Adam(network.parameters(), lr=1e-4)"
      ]
    },
    {
      "cell_type": "code",
      "execution_count": 18,
      "metadata": {
        "id": "KC8axVwLx0tD"
      },
      "outputs": [],
      "source": [
        "def generate_session(env, t_max=1000, epsilon=0, train=False):\n",
        "    \"\"\"генерация сессии и обучение\"\"\"\n",
        "    total_reward = 0\n",
        "    s = env.reset()\n",
        "\n",
        "    for t in range(t_max):\n",
        "        a = get_action(s, epsilon=epsilon)\n",
        "        next_s, r, done, _ = env.step(a)\n",
        "\n",
        "        if train:\n",
        "            opt.zero_grad()\n",
        "            compute_td_loss([s], [a], [r], [next_s], [done]).backward()\n",
        "            opt.step()\n",
        "\n",
        "        total_reward += r\n",
        "        s = next_s\n",
        "        if done:\n",
        "            break\n",
        "\n",
        "    return total_reward"
      ]
    },
    {
      "cell_type": "code",
      "execution_count": 19,
      "metadata": {
        "id": "3oppnr-ux2Er"
      },
      "outputs": [],
      "source": [
        "epsilon = 0.5"
      ]
    },
    {
      "cell_type": "code",
      "execution_count": 20,
      "metadata": {
        "colab": {
          "base_uri": "https://localhost:8080/"
        },
        "id": "h-y8pRD4x2ek",
        "outputId": "2305ac92-2026-4754-b360-85fd34f32bbe"
      },
      "outputs": [
        {
          "output_type": "stream",
          "name": "stdout",
          "text": [
            "Epoch: #0\tmean reward = 13.860\tepsilon = 0.500\n",
            "Epoch: #1\tmean reward = 14.040\tepsilon = 0.450\n",
            "Epoch: #2\tmean reward = 13.160\tepsilon = 0.405\n",
            "Epoch: #3\tmean reward = 14.890\tepsilon = 0.365\n",
            "Epoch: #4\tmean reward = 14.800\tepsilon = 0.328\n",
            "Epoch: #5\tmean reward = 21.620\tepsilon = 0.295\n",
            "Epoch: #6\tmean reward = 34.690\tepsilon = 0.266\n",
            "Epoch: #7\tmean reward = 23.940\tepsilon = 0.239\n",
            "Epoch: #8\tmean reward = 33.620\tepsilon = 0.215\n",
            "Epoch: #9\tmean reward = 35.030\tepsilon = 0.194\n",
            "Epoch: #10\tmean reward = 72.960\tepsilon = 0.174\n",
            "Epoch: #11\tmean reward = 90.370\tepsilon = 0.157\n",
            "Epoch: #12\tmean reward = 147.460\tepsilon = 0.141\n",
            "Epoch: #13\tmean reward = 180.150\tepsilon = 0.127\n",
            "Epoch: #14\tmean reward = 116.920\tepsilon = 0.114\n",
            "Epoch: #15\tmean reward = 168.440\tepsilon = 0.103\n",
            "Epoch: #16\tmean reward = 184.730\tepsilon = 0.093\n",
            "Epoch: #17\tmean reward = 103.650\tepsilon = 0.083\n",
            "Epoch: #18\tmean reward = 62.060\tepsilon = 0.075\n",
            "Epoch: #19\tmean reward = 61.020\tepsilon = 0.068\n",
            "Epoch: #20\tmean reward = 104.650\tepsilon = 0.061\n",
            "Epoch: #21\tmean reward = 169.590\tepsilon = 0.055\n",
            "Epoch: #22\tmean reward = 119.620\tepsilon = 0.049\n",
            "Epoch: #23\tmean reward = 35.910\tepsilon = 0.044\n",
            "Epoch: #24\tmean reward = 57.320\tepsilon = 0.040\n",
            "Epoch: #25\tmean reward = 156.190\tepsilon = 0.036\n",
            "Epoch: #26\tmean reward = 228.810\tepsilon = 0.032\n",
            "Принято!\n"
          ]
        }
      ],
      "source": [
        "for i in range(150):\n",
        "    session_rewards = [generate_session(env, epsilon=epsilon, train=True) for _ in range(100)]\n",
        "    print(\"Epoch: #{}\\tmean reward = {:.3f}\\tepsilon = {:.3f}\".format(i, np.mean(session_rewards), epsilon))\n",
        "\n",
        "    epsilon *= 0.9\n",
        "    assert epsilon >= 1e-4, \"убедитесь, что epsilon не становится < 0\"\n",
        "\n",
        "    if np.mean(session_rewards) > 200:\n",
        "        print(\"Принято!\")\n",
        "        break"
      ]
    },
    {
      "cell_type": "markdown",
      "metadata": {
        "id": "6Nt9sDgSx4SK"
      },
      "source": [
        "### Интерпретация результатов:\n",
        "\n",
        "Добро пожаловать в мир глубокого обучения с подкреплением! Не ждите, что вознаграждение агента будет увеличиваться плавно. Может быть оно начнет расти, если сочтет ваш код достойным :)\n",
        "\n",
        "А если серьезно,\n",
        "* __mean reward__ $-$ это среднее вознаграждение за игру. При правильной реализации оно может оставаться низким в течение первых 10 эпох, а затем начнет расти, и сойдется к ~50-100 эпохе, в зависимости от архитектуры сети.\n",
        "* Если со сходимость возникли проблемы $-$ попробуйте увеличить количество скрытых нейронов или обратите внимание на эпсилон.\n",
        "* __epsilon__ $-$ agent's willingness to explore. Если вы видите, что эпислон находится на уровне <0.01, до того, как агент достиг вознаграждения >= 200, установите первоначальное значение 0.1 - 0.5."
      ]
    },
    {
      "cell_type": "markdown",
      "metadata": {
        "id": "i6m2LRUBCmFf"
      },
      "source": [
        "### Посмотрим на результаты:\n",
        "\n",
        "Подключаем визуализацию:"
      ]
    },
    {
      "cell_type": "code",
      "execution_count": 15,
      "metadata": {
        "colab": {
          "base_uri": "https://localhost:8080/"
        },
        "id": "h8ile4WJCmYU",
        "outputId": "102fcfaf-3201-4f99-f1f0-b1ee32d8ed1a"
      },
      "outputs": [
        {
          "output_type": "stream",
          "name": "stdout",
          "text": [
            "\u001b[K     |████████████████████████████████| 448 kB 7.0 MB/s \n",
            "\u001b[?25hSelecting previously unselected package python-opengl.\n",
            "(Reading database ... 155632 files and directories currently installed.)\n",
            "Preparing to unpack .../python-opengl_3.1.0+dfsg-1_all.deb ...\n",
            "Unpacking python-opengl (3.1.0+dfsg-1) ...\n",
            "Setting up python-opengl (3.1.0+dfsg-1) ...\n",
            "Selecting previously unselected package xvfb.\n",
            "(Reading database ... 157987 files and directories currently installed.)\n",
            "Preparing to unpack .../xvfb_2%3a1.19.6-1ubuntu4.10_amd64.deb ...\n",
            "Unpacking xvfb (2:1.19.6-1ubuntu4.10) ...\n",
            "Setting up xvfb (2:1.19.6-1ubuntu4.10) ...\n",
            "Processing triggers for man-db (2.8.3-2ubuntu0.1) ...\n",
            "\u001b[K     |████████████████████████████████| 67 kB 3.7 MB/s \n",
            "\u001b[?25h"
          ]
        }
      ],
      "source": [
        "try:\n",
        "    import colab\n",
        "    COLAB = True\n",
        "except ModuleNotFoundError:\n",
        "    COLAB = False\n",
        "    pass\n",
        "\n",
        "if COLAB:\n",
        "    !wget https://gist.githubusercontent.com/Tviskaron/4d35eabce2e057dd2ea49a00b00aaa41/raw/f1e25fc6ac6d8f11cb585559ce8b2ab9ffefd67b/colab_render.sh -O colab_render.sh -q\n",
        "    !sh colab_render.sh\n",
        "    !wget https://gist.githubusercontent.com/Tviskaron/d91decc1ca5f1b09af2f9f080011a925/raw/0d3474f65b4aea533996ee00edf99a37e4da5561/colab_render.py -O colab_render.py -q \n",
        "    import colab_render"
      ]
    },
    {
      "cell_type": "code",
      "execution_count": 16,
      "metadata": {
        "id": "4-s3nmP5CoGa"
      },
      "outputs": [],
      "source": [
        "# библиотеки и функции, которые потребуеются для показа видео\n",
        "\n",
        "import glob\n",
        "import io\n",
        "import base64\n",
        "from IPython import display as ipythondisplay\n",
        "from IPython.display import HTML\n",
        "from gym.envs.classic_control import rendering\n",
        "import matplotlib.pyplot as plt\n",
        "\n",
        "%matplotlib inline\n",
        "\n",
        "\n",
        "org_constructor = rendering.Viewer.__init__\n",
        "\n",
        "\n",
        "def constructor(self, *args, **kwargs):\n",
        "    org_constructor(self, *args, **kwargs)\n",
        "    self.window.set_visible(visible=False)\n",
        "\n",
        "\n",
        "rendering.Viewer.__init__ = constructor\n",
        "\n",
        "\n",
        "def show_video(folder=\"./video\"):\n",
        "    mp4list = glob.glob(folder + '/*.mp4')\n",
        "    if len(mp4list) > 0:\n",
        "        mp4 = sorted(mp4list, key=lambda x: x[-15:], reverse=True)[0]\n",
        "        video = io.open(mp4, 'r+b').read()\n",
        "        encoded = base64.b64encode(video)\n",
        "        ipythondisplay.display(HTML(data='''<video alt=\"test\" autoplay \n",
        "                loop controls style=\"height: 400px;\">\n",
        "                <source src=\"data:video/mp4;base64,{0}\" type=\"video/mp4\" />\n",
        "             </video>'''.format(encoded.decode('ascii'))))\n",
        "    else:\n",
        "        print(\"Could not find video\")"
      ]
    },
    {
      "cell_type": "code",
      "execution_count": 17,
      "metadata": {
        "colab": {
          "base_uri": "https://localhost:8080/",
          "height": 421
        },
        "id": "W5bxrCYsCprE",
        "outputId": "af62866c-55df-4d00-f17f-59b261e6dedc"
      },
      "outputs": [
        {
          "output_type": "display_data",
          "data": {
            "text/plain": [
              "<IPython.core.display.HTML object>"
            ],
            "text/html": [
              "<video alt=\"test\" autoplay \n",
              "                loop controls style=\"height: 400px;\">\n",
              "                <source src=\"data:video/mp4;base64,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\" type=\"video/mp4\" />\n",
              "             </video>"
            ]
          },
          "metadata": {}
        }
      ],
      "source": [
        "env = gym.make(\"CartPole-v0\")\n",
        "env = gym.wrappers.Monitor(env, \"./video\", force=True)\n",
        "\n",
        "generate_session(env, epsilon=0, train=False)\n",
        "\n",
        "env.close()\n",
        "show_video()"
      ]
    },
    {
      "cell_type": "code",
      "source": [
        ""
      ],
      "metadata": {
        "id": "aIWX26_60_Sg"
      },
      "execution_count": null,
      "outputs": []
    }
  ],
  "metadata": {
    "accelerator": "GPU",
    "colab": {
      "collapsed_sections": [],
      "name": "03_envs_q_learning.ipynb",
      "provenance": []
    },
    "interpreter": {
      "hash": "0ae9852e294fbf2b2b0eacdfd3d6d4e938db8bb43ec3c0e9f15013d6c5e5b458"
    },
    "kernelspec": {
      "display_name": "Python 3.7.13 ('env')",
      "language": "python",
      "name": "python3"
    },
    "language_info": {
      "codemirror_mode": {
        "name": "ipython",
        "version": 3
      },
      "file_extension": ".py",
      "mimetype": "text/x-python",
      "name": "python",
      "nbconvert_exporter": "python",
      "pygments_lexer": "ipython3",
      "version": "3.7.13"
    }
  },
  "nbformat": 4,
  "nbformat_minor": 0
}