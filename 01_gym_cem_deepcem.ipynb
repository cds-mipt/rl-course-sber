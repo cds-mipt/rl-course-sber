{
  "nbformat": 4,
  "nbformat_minor": 0,
  "metadata": {
    "colab": {
      "name": "01-gym_cem_deepcem.ipynb",
      "provenance": [],
      "collapsed_sections": []
    },
    "kernelspec": {
      "display_name": "Python 3",
      "language": "python",
      "name": "python3"
    },
    "language_info": {
      "codemirror_mode": {
        "name": "ipython",
        "version": 3
      },
      "file_extension": ".py",
      "mimetype": "text/x-python",
      "name": "python",
      "nbconvert_exporter": "python",
      "pygments_lexer": "ipython3",
      "version": "3.8.5"
    }
  },
  "cells": [
    {
      "cell_type": "markdown",
      "metadata": {
        "id": "XkG_ZcvCuQJ0"
      },
      "source": [
        "# Машинное обучение с подкреплением. Сбербанк июнь 2022.\n",
        "## Семинар 1: OpenAI gym, CrossEntropy Method (CEM), Deep CEM.\n",
        " "
      ]
    },
    {
      "cell_type": "markdown",
      "metadata": {
        "id": "Mh44RkMOlwmr"
      },
      "source": [
        "Импортируем необходимые библиотеки и настраиваем визуализацию:"
      ]
    },
    {
      "cell_type": "code",
      "metadata": {
        "colab": {
          "base_uri": "https://localhost:8080/"
        },
        "id": "G3ImfRnglwmr",
        "outputId": "f7339904-8091-4c01-f0b6-391c31dbfd35"
      },
      "source": [
        "try:\n",
        "    import colab\n",
        "    COLAB = True\n",
        "except ModuleNotFoundError:\n",
        "    COLAB = False\n",
        "    pass\n",
        "\n",
        "if COLAB:\n",
        "    !wget https://gist.githubusercontent.com/Tviskaron/4d35eabce2e057dd2ea49a00b00aaa41/raw/f1e25fc6ac6d8f11cb585559ce8b2ab9ffefd67b/colab_render.sh -O colab_render.sh -q\n",
        "    !sh colab_render.sh\n",
        "    !wget https://gist.githubusercontent.com/Tviskaron/d91decc1ca5f1b09af2f9f080011a925/raw/0d3474f65b4aea533996ee00edf99a37e4da5561/colab_render.py -O colab_render.py -q \n",
        "    import colab_render"
      ],
      "execution_count": null,
      "outputs": [
        {
          "output_type": "stream",
          "text": [
            "\u001b[K     |████████████████████████████████| 450kB 4.6MB/s \n",
            "\u001b[?25hSelecting previously unselected package python-opengl.\n",
            "(Reading database ... 160980 files and directories currently installed.)\n",
            "Preparing to unpack .../python-opengl_3.1.0+dfsg-1_all.deb ...\n",
            "Unpacking python-opengl (3.1.0+dfsg-1) ...\n",
            "Setting up python-opengl (3.1.0+dfsg-1) ...\n",
            "Selecting previously unselected package xvfb.\n",
            "(Reading database ... 163335 files and directories currently installed.)\n",
            "Preparing to unpack .../xvfb_2%3a1.19.6-1ubuntu4.8_amd64.deb ...\n",
            "Unpacking xvfb (2:1.19.6-1ubuntu4.8) ...\n",
            "Setting up xvfb (2:1.19.6-1ubuntu4.8) ...\n",
            "Processing triggers for man-db (2.8.3-2ubuntu0.1) ...\n",
            "\u001b[K     |████████████████████████████████| 71kB 3.2MB/s \n",
            "\u001b[K     |████████████████████████████████| 92kB 3.9MB/s \n",
            "\u001b[?25h"
          ],
          "name": "stdout"
        }
      ]
    },
    {
      "cell_type": "code",
      "metadata": {
        "id": "YjP0JuoBlwmr"
      },
      "source": [
        "# библиотеки и функции, которые потребуеются для показа видео\n",
        "\n",
        "import glob\n",
        "import io\n",
        "import base64\n",
        "from IPython import display as ipythondisplay\n",
        "from IPython.display import HTML\n",
        "from gym.envs.classic_control import rendering\n",
        "import matplotlib.pyplot as plt\n",
        "\n",
        "%matplotlib inline\n",
        "\n",
        "\n",
        "org_constructor = rendering.Viewer.__init__\n",
        "\n",
        "\n",
        "def constructor(self, *args, **kwargs):\n",
        "    org_constructor(self, *args, **kwargs)\n",
        "    self.window.set_visible(visible=False)\n",
        "\n",
        "\n",
        "rendering.Viewer.__init__ = constructor\n",
        "\n",
        "\n",
        "def show_video(folder=\"./video\"):\n",
        "    mp4list = glob.glob(folder + '/*.mp4')\n",
        "    if len(mp4list) > 0:\n",
        "        mp4 = sorted(mp4list, key=lambda x: x[-15:], reverse=True)[0]\n",
        "        video = io.open(mp4, 'r+b').read()\n",
        "        encoded = base64.b64encode(video)\n",
        "        ipythondisplay.display(HTML(data='''<video alt=\"test\" autoplay \n",
        "                loop controls style=\"height: 400px;\">\n",
        "                <source src=\"data:video/mp4;base64,{0}\" type=\"video/mp4\" />\n",
        "             </video>'''.format(encoded.decode('ascii'))))\n",
        "    else:\n",
        "        print(\"Could not find video\")"
      ],
      "execution_count": null,
      "outputs": []
    },
    {
      "cell_type": "markdown",
      "metadata": {
        "id": "VBu75eDUlwmr"
      },
      "source": [
        "## 1. OpenAI Gym"
      ]
    },
    {
      "cell_type": "markdown",
      "metadata": {
        "id": "KVunU7AGlwmr"
      },
      "source": [
        "[Gym](https://gym.openai.com) $-$ это набор инструментов для разработки и сравнения алгоритмов обучения с подкреплением, который также включает в себя большой [набор окружений](https://gym.openai.com/envs/)."
      ]
    },
    {
      "cell_type": "markdown",
      "metadata": {
        "id": "B44xeWtLlwmr"
      },
      "source": [
        "### Создание окружения\n",
        "\n",
        "Для создания окружения используется функция ```gym.make(<имя окружения>)```. "
      ]
    },
    {
      "cell_type": "code",
      "metadata": {
        "colab": {
          "base_uri": "https://localhost:8080/"
        },
        "id": "pJP5uWS6lwmr",
        "outputId": "1e51c376-1a98-4094-da9d-907f224bfebe"
      },
      "source": [
        "import gym\n",
        "\n",
        "# Создаем окружение\n",
        "env = gym.make(\"MountainCar-v0\")\n",
        "\n",
        "# Инициализируем окружение\n",
        "state = env.reset()\n",
        "print(f\"state: {state}\")\n",
        "\n",
        "# Выполняем действие в среде \n",
        "next_state, r, done, info = env.step(0)\n",
        "print(f\"next_state: {next_state} , r: {r}, done: {done}, info: {info}\")\n",
        "\n",
        "# Закрываем окружение\n",
        "env.close()"
      ],
      "execution_count": null,
      "outputs": [
        {
          "output_type": "stream",
          "text": [
            "state: [-0.44292797  0.        ]\n",
            "next_state: [-0.44452711 -0.00159914] , r: -1.0, done: False, info: {}\n"
          ],
          "name": "stdout"
        }
      ]
    },
    {
      "cell_type": "markdown",
      "metadata": {
        "id": "L1qnheA_lwmr"
      },
      "source": [
        "### Основные методы окружения:\n",
        "\n",
        "* ``reset()`` $-$ инициализация окружения, возвращает первое наблюдение (состояние).  \n",
        "* ``step(a)`` $-$ выполнить в среде действие $\\mathbf{a}$ и получить кортеж: $\\mathbf{\\langle s_{t+1}, r_t, done, info \\rangle}$, где $\\mathbf{s_{t+1}}$ - следующее состояние, $\\mathbf{r_t}$ - вознаграждение, $\\mathbf{done}$ - флаг заверешния, $\\mathbf{info}$ - дополнительная информация\n",
        "\n",
        "### Дополнительные методы:\n",
        "* ``render()`` $-$ визуализация текущего состояния среды (удобно, если мы запускаем локально, в колабе ничего не увидим)\n",
        "\n",
        "* ``close()`` $-$ закрывает окружение "
      ]
    },
    {
      "cell_type": "markdown",
      "metadata": {
        "id": "J4X0Nr2llwmr"
      },
      "source": [
        "### Свойства среды:\n",
        "* ``env.observation_space`` $-$ информация о пространстве состояний\n",
        "* ``env.action_space`` $-$ информация о пространстве действий\n"
      ]
    },
    {
      "cell_type": "code",
      "metadata": {
        "colab": {
          "base_uri": "https://localhost:8080/"
        },
        "id": "ilcxwQOblwmr",
        "outputId": "106c08a9-7173-4c55-9609-d9505cce0518"
      },
      "source": [
        "print(f\"env.observation_space: {env.observation_space}\")\n",
        "print(f\"env.action_space: {env.action_space}\")"
      ],
      "execution_count": null,
      "outputs": [
        {
          "output_type": "stream",
          "text": [
            "env.observation_space: Box(-1.2000000476837158, 0.6000000238418579, (2,), float32)\n",
            "env.action_space: Discrete(3)\n"
          ],
          "name": "stdout"
        }
      ]
    },
    {
      "cell_type": "markdown",
      "metadata": {
        "id": "geFkzXSUlwmr"
      },
      "source": [
        "### Среда ``MountainCar-v0``\n",
        "\n",
        "Информацию о любой среде можно найти в [исходниках](https://github.com/openai/gym/blob/master/gym/envs/classic_control/mountain_car.py) или на [сайте](https://gym.openai.com/envs/MountainCar-v0/). О ``MountainCar-v0`` мы можем узнать следующее: \n",
        "\n",
        "#### Задание:\n",
        "Автомобиль едет по одномерному треку между двумя холмами. Цель состоит в том, чтобы заехать на правый холм; однако двигатель машины недостаточно мощный, чтобы взобраться на холм за один проход. Следовательно, единственный способ добиться успеха $-$ это двигаться вперед и назад, чтобы набрать обороты.\n",
        "\n",
        "#### Пространство состояний Box(2):\n",
        "\n",
        "\n",
        "\n",
        "Num | Observation  | Min  | Max  \n",
        "----|--------------|------|----   \n",
        "0   | position     | -1.2 | 0.6\n",
        "1   | velocity     | -0.07| 0.07\n",
        "\n",
        "\n",
        "#### Пространство действий Discrete(3):\n",
        "\n",
        "\n",
        "\n",
        "Num | Action|\n",
        "----|-------------|\n",
        "0   | push left   |\n",
        "1   | no push     |\n",
        "2   | push right  |\n",
        "\n",
        "* Вознаграждения: -1 за каждый шаг, пока не достигнута цель \n",
        "\n",
        "* Начальное состояние: Случайная позиция от -0.6 до -0.4 с нулевой скоростью."
      ]
    },
    {
      "cell_type": "markdown",
      "metadata": {
        "id": "EzLOupOilwmr"
      },
      "source": [
        "### Пример со случайной стратегией:\n",
        "\n",
        "Для выбора действия используется ``env.action_space.sample()``"
      ]
    },
    {
      "cell_type": "code",
      "metadata": {
        "colab": {
          "base_uri": "https://localhost:8080/",
          "height": 421
        },
        "id": "UT40wJ-8lwmr",
        "outputId": "1e0cdad0-ae86-4b71-910f-b15a4086ef11"
      },
      "source": [
        "# создаем окружение\n",
        "env = gym.make(\"MountainCar-v0\")\n",
        "# добавляем wrapper (обертку), чтобы задать ограничение на число шагов в среде\n",
        "env = gym.wrappers.TimeLimit(env, max_episode_steps=250)\n",
        "# добавляем визуализацию\n",
        "env = gym.wrappers.Monitor(env, \"./video\", force=True)\n",
        "\n",
        "# проводим инициализацию и запоминаем начальное состояние\n",
        "s = env.reset()\n",
        "done = False\n",
        "\n",
        "while not done:\n",
        "    # выполняем действие, получаем s, r, done, info\n",
        "    s, r, done, _ = env.step(env.action_space.sample())\n",
        "    \n",
        "env.close()\n",
        "\n",
        "# Сначала закрываем окружение, чтобы видео записалось полностью\n",
        "env.close()\n",
        "show_video()"
      ],
      "execution_count": null,
      "outputs": [
        {
          "output_type": "display_data",
          "data": {
            "text/html": [
              "<video alt=\"test\" autoplay \n",
              "                loop controls style=\"height: 400px;\">\n",
              "                <source src=\"data:video/mp4;base64,AAAAIGZ0eXBpc29tAAACAGlzb21pc28yYXZjMW1wNDEAAAAIZnJlZQAAi1NtZGF0AAACrgYF//+q3EXpvebZSLeWLNgg2SPu73gyNjQgLSBjb3JlIDE1MiByMjg1NCBlOWE1OTAzIC0gSC4yNjQvTVBFRy00IEFWQyBjb2RlYyAtIENvcHlsZWZ0IDIwMDMtMjAxNyAtIGh0dHA6Ly93d3cudmlkZW9sYW4ub3JnL3gyNjQuaHRtbCAtIG9wdGlvbnM6IGNhYmFjPTEgcmVmPTMgZGVibG9jaz0xOjA6MCBhbmFseXNlPTB4MzoweDExMyBtZT1oZXggc3VibWU9NyBwc3k9MSBwc3lfcmQ9MS4wMDowLjAwIG1peGVkX3JlZj0xIG1lX3JhbmdlPTE2IGNocm9tYV9tZT0xIHRyZWxsaXM9MSA4eDhkY3Q9MSBjcW09MCBkZWFkem9uZT0yMSwxMSBmYXN0X3Bza2lwPTEgY2hyb21hX3FwX29mZnNldD0tMiB0aHJlYWRzPTMgbG9va2FoZWFkX3RocmVhZHM9MSBzbGljZWRfdGhyZWFkcz0wIG5yPTAgZGVjaW1hdGU9MSBpbnRlcmxhY2VkPTAgYmx1cmF5X2NvbXBhdD0wIGNvbnN0cmFpbmVkX2ludHJhPTAgYmZyYW1lcz0zIGJfcHlyYW1pZD0yIGJfYWRhcHQ9MSBiX2JpYXM9MCBkaXJlY3Q9MSB3ZWlnaHRiPTEgb3Blbl9nb3A9MCB3ZWlnaHRwPTIga2V5aW50PTI1MCBrZXlpbnRfbWluPTI1IHNjZW5lY3V0PTQwIGludHJhX3JlZnJlc2g9MCByY19sb29rYWhlYWQ9NDAgcmM9Y3JmIG1idHJlZT0xIGNyZj0yMy4wIHFjb21wPTAuNjAgcXBtaW49MCBxcG1heD02OSBxcHN0ZXA9NCBpcF9yYXRpbz0xLjQwIGFxPTE6MS4wMACAAAARC2WIhAA3//728P4FNjuY0JcRzeidMx+/Fbi6NDe9zgAAAwAAAwAACNCLwW1jsC2M+AAAJZAt9C+gGAAN3dq5XHPUJqMQ9STIE4h5i1p0ovAz2D6+0y6GAp6iGk03o7xeeJnNFlP7pyt72mmO8alQPFkcQS/hupH7h4mJTeRhtQk621kLNt8RFPKKRW6wQBeqa/bIUz2QUD/5/AKR9JghRtwUcbJYDG+GJMPfc0Z9+Ky2ZULlDK+ObhIm0waUlSDFaiGatI7Cv9YYX3GwANdOvfJULx5gqPt4GHqavREAVJQU2iOKP5G+WttIUpCgmsc99A8Dcsc4NyqwXB/Wn1HghqJQQTXBhrqdl+eCJeXRZ8bhBdBnr0sWP5YVPan+zifC1CRYcA7fnq256iVjYkyvp6grqbaJSiuDI5DbujXnFly7nle/W7NR/1S2Vof4k+CO61XnSIdtvxgWBwUWA46h0k1oBtMIQvNUXU33AM8G80Ey7IIx18o8b2mKF3zbUTMnFoBoXl6eDPvaN5fHuWZowtenf+WYDl1jSre9SqRT06h/6ZRDv7xTAHJNq6qxYSI0NftlMttSAzKr+nSofw/95u7GewZDF0yP7yLs82zMDY+0kJ1m7wus3HJL/RKeMZXAAAADABOd+97ZsfU/AetTFlL3eGUPI3gGHjOnAH31e4cNjmvsmesMTTM4eiERjIRWvHAU2TClT9QN4TxKLEodabOQADnwf0FnYOL2zQOiHdi3H/i0RT8Z6Q0OufexkjrfnBX8Ml+QdWQhPTOOVmynP2U537Z3NDuWSSw0CZz/THyMceaGg9XQ76ezrOt+G1EjwsVV9mb+q47cAwK/MLgHGq7Gck3N7ogAwAQ5YaQCO+lmuiUbPjz/Yd02QKOIDdL3mSY6VuxGFsKBYO8f0SRO+qjpT+Cm0RfoXnFLlFhjelV7VI7Aj+kvvWhqqdvsZh0oAjDuA/KteGfgQh2a4TwEB+IGv2Gkdqv3xJ9lIxX/3yowxySFuZ0+f1VUxedtXp5HyDwABORx1ZrGd+OIhIS8oWUL2EdmLP7P8IXICbCYmyEDV1ApwDnEiEFKoBVI7Zjll3KcVGMmcEDgBRlXZlJsPyA8JyP6fGtElmhHQ+E10HJ7Thld6rVLs/sbMDcspT4yhVk5V/cdobTn/kQ4ShBbsn1mFiUmUBjTYEwVOB8nRWYZ+fZRorSg+VbVzJwEziuojDaBme+4BQmK6S3hmx04jcjPXejw839OdX/0emPwxp6BBehtubLMbrrq+Kem0x/eRuI7IEeO9nvalmIHwarzjaNA80eco7v8zrqhCDQXtvbIBJZdISniHDToD9Vp42mUm6kHhfrXqeY8e5YvE+3q1aw1I3K58e2Q79VN900UgWF18QdfpQIPLBATdwg9uAABXVn0g9eAwYBDKBh09jReeRz/kgP9MBDPYe8dOVtgfULjZd9klC4VecBUoXp/+/Nxr25nUt3LNWyjZXfLHXhCqmA9rATdu88/aPY7n4+AGAT+ND337i/gEtQ4dRrGlDk61v16gcPogjUgVwKx1S3Zx+KKpV7WAYRfFTmnMBoGh+/rqA36lUBu8wIXFD8KGhlAtdrRoTlTqwsVDMspO1rMsY16Mzy9vKOik5cvigHNWkJYSI2kzf5xeYjU4G1qNAAAKeEh0P7f6H0DmPODvHjYSys6p7vhKP5r9wdkl+uV3Z6xqWa6/n2i3CaCbnaxxBF7rWQRZG7cyiWHlKfnkVk/FPmeB5yz60PqeexBVHUedbqSlUIFFn46vItwWNB5mdT+0Hk5XiCR5N6YJ60eWMgNuZunq3KmlwOgSF9IZFvTE5YmP/E+DqWFW25g+H8JrIC+4qVZU8h8qoFOEntb8Gan5nCwzXh2Cf1XJXipmQgC9UwMeE6iorSLm3mlsdcv1bA+L1Gxc51Egh7PKoDfoCfAMSh51NH/4r+nsBfaKnmjiSoxlIz6n6NnLJ6GZdgledksv2OEQ99NWzpFDN5fzOMEOoKSkP8iP1XiTAEosYw6eQtMq51ui6y+V8oEUBVHNLLXqOHl1oi/oYektmOyxg1Hd5eBPwgMQPWCYVYBQ2me0z2N0q1CmVfXrRQVszshaKzTxwLV0jPYm1Zlc8FsKyCo3pWKDEzPfx1B2sPBA4PZOmgMkq9HGsKIc5Sh8FXCUq8Iyh7v8ectcPz1hINsCBKl8QDSpbpcn5tIQBudtD7yaSsVO8xw5o3W2w8pAMcq/1an/tPs7NuJBW4O7gS7Ell7CnYIIZ9MO0OP1chcSVMbY/7+wVQ3c1Ph0CS5DvhM9iEbuhggBGVX1/BkWed0g1XrynA1m7mAWqZ34Clk+OlFhF4Xr5DM+q+Df2FUpysy1PHwPWh3Bd7Cki3d/K+SIDBJFHYxHM1tdUQ9P8ACdSHBQ42cYV6Ner4oK0o+2bcghkAIyh3zSC/X7GbWlLV95QLuvuZBxFSdTaYvSj0r2uByPQjOIrZHfhskOhfTZLNV5v/I+31vwyL4YwQr4BKE9JWHmxPEU2NFd2AQJNUpReb92cAt6hVXu12udLBXx+UfDnO6NARPTnYfwOZogS2uprKQGAqrqBMz0s6xAOG63e21z3p5AVddb+mqmUmelJz7GrVSz4MX+3DAav+U4IzJ/vfFD4V8bMz2iSD9RfPh2hBJaEn2DVku7rloC52Bf6czw4OegTryGK6hHumSJSD0VEmRRDqwj1W2uEYxgZ5nWiiZAnV/dNw4FBpjDYnGf0eoeCdV8Pf3H62OcAeLd75SYQFu1GDX+cMtaUuLwZMDCOr27Rb95Ax14Ok4yS9rVDbjdn+xXIL3aPCmFwpGiWj9X0IAjxkwPU5Q3DpSKwtnn1hpQAHb7VRd6vLWiquGKNsKhnYAmqdfD848xffseLvyWSPeoFhgZJm7pWnP7RsnlEVszor19i4JaG8SpB6oHAma2sZ+5mZ3BentE3Y5BFC/70Fg4nzcSfH+WEgaTz5RnCIwdZS7qXK484xv2U1QNyiL4lRE8MTm9Z9f+DsLRbSH44Xu7NU7itPXcZR73YXvsqQ/M7WMRp21Afj81jrXodsb9Q04y5Z8/rfzIxuP2ir8htD4I3KKxhmLWsfJjcNtd2OAF+Zu0Xk5asplaF0bDEq1Cl4fZFiqHaNzYqF9z81GWGdijm3fz3qPOQB5NMyT+R2ZsL1jGzD7mbzD3bLkTwoyXEZ8V1q+bZIn7RKYn1tvfVleNiAljTjLegyZQFap55cGC4xC0w3QTTn5yjqNeypmTUB0Nz9/bvk0H1fAwGyw1TC06BFNQedySTkKA+xEaB1s+OtPf8vNkXpX5Fjuhbil/Chk3aYjNnXkLbBhkP9lap4E+ihO27dcATbxoYiZBkNewn7RMoyWyUZnA8NGvJK1xqqCzC46d/zvFAVORiJ3h7T6vpgcDN3ReYHcNm4Rs7EJoFd+h+KYOvM6/67X1RthlbF56AJvIQ+MajL/GbaV3P6jGocoZNP/yk29MXcOXyHSixHZN7O+LQEGV3nun7YTf/97b/vo1VOAa4IsQ0lk5KlWt5o/dSGxhBOYEiIUYvxJ12GcFcx/paQ7paP87MjAZap+P+83+Q4VS3eNSfqbgdpP6K4E/0bqQdF5dJR7BaB6+Cfl/pHAAGnvC5dxSwZQ/USFks/Jy58WdOUDvVew2S7RaYhka0f75w83bkOjcm39m1XJQs3Lwnvyl4LvXNLo3SQqH+kv90wBF82nuYhuT/OHnWDEiTJdr9jPW5EXSuCbhiYI/7ArKem3YqEtcoepyX38xzCcOeWw/b21FwV4w3AglAXiU/HHy3XP8Q30ulmp/dZdr17Sj7Uo5H6AniyLVct9H/FefJjOO9Q7V4rRBuqJhnYYka0DT/128VnaPLbpAyM7UmoBjeWJOV1FC7fnAAEUC8ebGlie2A8ttljQRa9853NtBJo8TzOAGccfryT/RCX+KuNLf1VnJWN/yLjBCBSQqE0y0evfvtRXDUgcSFd0Z1L4atfYXv8p9KnMn8kac0oCRnc5ELxb5fJ8Gc/BLRpnngei+27SViuoO18rmoZfZ5iBqDb5wjfRoEmsHJq9l0M3sknD+wGgoh9Pxwlfn7XlVLp06U1Ov4sN6XwdVlBAx5lEncPMU7+3yyp8e+2w3swMNS/Ht9iQDafRMhcMS3TpXHEq+u6LWPgQQsJ+tKKveh0nE1VAane0pwAAAwDJcOncLZ5JDBOkDSCNoI+BgW2ZvWZni9sOftxm6tQCMFNBOj4JA9tfzIlbtsOk/ElvUSOU+5NmzB1nc+lKOjVhZVJSOUrJN7WZ8wckc1PJWAbjnuonaTtW1DCmGpAWuRljD6TP8B8ODGjQf//tWxxnKORGkUst1/h87B6NEV/riZH9T83uN798HtU0NO3AI9/vRoiaKsZP1fQyuf5AWD049A6TOZk7G7YAaXiT/lQKd+Vyng2N69Ai3DirUKRFQNX8WBF9otEimfA5/a9apeIMGqePEYPPW3JiSjv5cBVS0y3pGxVk6NU6/ruHoAvI+k1SGFwEyZLHveCAD9H4POYuMTF+Rh4239djHLCkfBdE2j4KdKKoYUsQd7ol1o37nl1WIm/hqhfIMAAHhyRlHU8ZbZWmIBAkXfo2T6tTinUwwUNSbAUIV6SWbv0CBRLRXBmr6RGULmeTA3idi1tG8F8oDPIfbZXzFu5FXhCTGZEFT29HFSgWWU1GJS+M5KuJPLsSN9YvR8yM/AvPS82V9uaZp2oI3DJMnY3CkcUeQCWTM9vtn45RpEJOhuBAGyruieXsHa+cZkKTSFDCbDi5inQos6sBR26aWWtWetr2nMc9rMLP+FnzewgvCJsDDOjLF8CZaONznGBs5gBZ9NqqOxtnnY/i+aJii3rjRa6MdCafNk8n3o86nFTHYRQm5v+7mz5C9nJv/25eqU9PXM9gPK2i2idDPTMnWONBEADmaQGllM9OoQ/u6Z6k2H8D0gigyuHL9V0GqAxoEaU+waOuq1kDSIc9LkHTEkcxIJ1IVDjhQIPbFIKdmyN/4YKhJjP49FoD/JwhBOmidqv18v0EhHQHAkrL4oec4irFIKXNy7NgfNID5ubeUvI/NDstlnC71qReutDK9IdY9GI4K0Pjll9DlaVFU0j2/exUbPMvjVXcYzvJjzhDhDpasprx+MonRCump71SlH56d1DSX1IgAPwXDSVJT47UQnKTCj2PeTzBOtzuRIB19nP1pTz4I1AmCpoTQPYxhh/g58D8WT6ntG4cxAmwdp7gKhj3p2HsNTRQdueRUNbn/N0QU9rF1yOp+3QpdB1hIDCEbq1W6jenuzH0YZZpTcSwhedvs8dH/RhIG09jhXgW/xds6FbQNeXzmfbcett+kz+5zRsVNdPyT3bkL5JzBKAhrx/M8pqqxGvQDt8QEUxh7Qn7UCxnu6jqzI/B7OCF2iy6zgLeQAA0347Q+/4YaD12yYS9U87FJGB7R4zUlDmCdmCkkB+xaVbXLr01lV0AvBFLKsdNCNOTKIkiZR4UuPhS+jXmZdqPPe7IIlqrGeU/XQ1//tX9tjxd90tj/sIiE0EcZPMrxXvXB+DEZA22O4QrHnmLE1w9WYPm3z5Ib3ydN8soh7Ryj/jzvkdWd4rHyZf5IKzeYyu2enp/BCNk9BvkaprjioCytLarp8hI1+yIU3txb8f6zMsZAZ6SYiAE0665yp+pqEptpO9zEWkXbtvUM2BQS21u7eWqxnQA6QG8u0YPcTSfgAV6USOQ0HFkLJ/lm6IujVSG7sX1y8ABH9uUTS+R7JdjLGC6QRjWOJrF07bX2X2pVJXshPSrT9niH02/d84cSxBIBM0AAAJGQZokbEN//qeEAR2a4SCmAOABYdcWNR2NNpk97PNpWRMEEgsG5uI4FQEX4VZnWLLqnlzT7XFTQ0XeprNL/QLTGC4dO1Mqk78kdRrcW8dN6bZPtSTa29mQpcG5ZxxBg5LCTX1qDOgWy6krYzyBh8eEXoOL+OlnXl9lOXXgVQcGHPxH9szff6dzi8QOyJdNAu6xmsrQ8YprCv5ws5apwRO9o3+LOxQNV+04i0AEoAQIdm9/8SqXf/oQwqV4KNndPT4qdpIhASEIuIOHD0m4S8DTjRq41CuuyQv3CXKHA+t1n0+ybtOy0H9ob6JzrJTL5EEFg2imvpxg1Y7HkhcoyAKwt27ubeof5HRG61CIlS2LIFe5qc9grhMkRepuQk2TSVa0OYty3UetSfr/+Dwek4SmHAtTj1stwA9u/wV2vpFNzKt+lTXViW9lx3Tj3dYLCDY3kbe+OqCSMVknEY/NCFgz4oP7qmlMMm4hlGpLg5nmMc7H4H1sC/0pdKQoomzx9ajh7gLbG/v3PyHN+CsQKKNTtic0k40Nvp5pSraDyqGQfgEsOrhLbHStbR10ZPRIRvsKunCveoE1vGUR7yQ11giSHQB6RDTVnmqBzUogsri8RTxVWZiIIMHyx+tQtW1JwwlxGMFnepvyWsJZTdNhGsE2LhoXXQS3whXV36MedEBVIcDMo/yJE/sOLkSWE3Q3MK1NukeSFm8zCr2pMDgC95zdhD+Y24YyGC4siD7mqJ0NW1RzoX5bLBTdK7fdSIvRq6a9uZUibcjEAAAAx0GeQniFfwANgP+V7ayBXEOMRKfZDvDsMLfa+Nh6a4XtnLXvcZMmyudsHgNDWdrv5fzJGcND/b8VR0u2nUKYxuRgAhGJmYcfJJh1lW3uhb4gIFK+2BzjxaQY94kt1vZ8mrv10lsvgRtceMoyAjWt6j1/M8F4jTJu5VDdsX8EZVPdybibSCpjcxOx5P/C04yJJ63IgQDto069+F9FIeqiS82nV4w5DKIbQ7HB9LjhD7NcJJZpTLSKuRM71elU0cdu31SiH5diBn0AAACHAZ5hdEJ/ABFWk9vkvsLdwvYxgwZGXgw6D521vGfLnPULiJD4j1XQJ8nuGqO/ccpfW5oiST7ENsy5mqqVtPqgALqOp4SK06NgVtwjJpnwV+pCMfdN2Vllv0sOOMDXi2/1Ieii2fVDij3XjcwBn3APWCxwCC82c6Fl9Xho6IBazs3IU3O0knRAAAAAbAGeY2pCfwAGceAmd50a7wPjYgTd3telkQAQjI8QunHS9V2cX9pThaU/FaM1bZPYBySSFGEoQyDVUor4swleBa1Cunxr4BUQaAv6kIupvJmarDffjySwbVBB9G+aCeZgt1BwXv3fcCrAvnAz+QAAANFBmmZJqEFomUwU8N/+p4QAK17wn+O1BfBpvwoACLZP1y0uZYAJ295nK/X/oIcmVGNSm3tBht9S9Rh97wWHvsvCKhiEraQWOOsPWEQnYd+jzJ2dZbaZkpX3SrmqYms/gq2FoXwd7wcgzkE0GO13dxGuQNix0bng15LFgm0gGSQWoxdMiuZaItr5joYYL5Vy7kLqB87sMvFfJmbOdOU8qrX0/Lf4kaGtUG9TTpkOPZbROSB4EwPCwP3meaFW86KqHCteto4vsqvQvc18W93rc1fLnQAAAJEBnoVqQn8ALWzNpORRvQ8UmY2iYB5lxc2Qxb1GTfABOjr6ynSDOUCDhT6h5uAwF9bMTfEzCCUqhEXPuR9SkWYsS1o6iPeckTsZ/gRLMy+lCGSwpdP5oeK4xLGF7QfuMc7idMHJFHOObg5O3Epv7Dgc1/+XbsLQ5sPetTm30xdilwetIIzcRE+RLF84w3iT+IZ5AAAAvkGah0nhClJlMCG//qeEAAADAAAdDLm0EeUADcUZm+aP5O8ulhlX7HF1ryjQQmaS67wHyxovbDBhaISDWdY6fuBQwKcMmotR9xd0epjR6nw4nRUdFy0C45Mmk08ztu5jK8z25vIC/B3cViti63lEGzdm+5Pa1nPAQL66LnA/ruiJsPjRLRWCOFcYTfL99R/xfdmAtvEhsi6dRXeZaFOagoucHnxyv1w8GVJHjn4JZs5jSh7ArkcNjiQFXpABPMEAAADxQZqrSeEOiZTAhv/+p4QAAAMAAE26b1+7oEsbgSnvt+2IT5oABuKM5X4ALJ5AWwPhMuoXw9jbcZy/MTHAj6j0VMFkcZR5XEVwtM2dpBbunhP5gQwPNc2++SKO2+NXK6Q9u1U1XBFeN2q0eckFiCnC3egcJHV9FVCRV2rln6W8sZRVJyseT8ZCB/lUt2zvZsW5K7Ck3eUVm3do69MerNNTxsTWQMy2Z5yVyKmYDsjq/k4783I4gu8w5+8Ip+xJmuUSYc/meNzlv2vfbvUUtI306AkFidZBzltlNid2HEEf/2WgW66gWKxLRZrMCEuthO5mgAAAAI1BnslFETwr/wAB8Y3YDXrDIGWlNzZvPnxrVHJm6aoP8eZeHWAFuFsu8jy581/xHZMkptqU8LAYmPYh/cAXH9BZJrEK7yVq9GAk9WHBotYwBqVtUE8qrUPgifk8cGgxCZivAwi9RsDSIdA7fv40N9btpNv85ZUx8FEwr20CfH/5JpSJYmAYDjq/VgZls7UAAABtAZ7odEJ/AAKOjGr7sbYIaelYi7uWQAStQgZKCE/Ba+5AUsYW2yynBYUeHfwXVVk5f2JnSs+rePRAlPGG2AbyWcu2GJsJYfJ7a/ldyxlNMpwJQANtoXu1W/s0SpWM3za1bE/IOEyLJo4W4yQpaQAAAGMBnupqQn8AAo9v4GumK4S1OHF9KlcgchOBRABw7XRMRdLEROVAk4oRIwZqnLl1CM6tNVO4aItMCYYZj6gqofi4hlpze0reRphtv9K1pfyHHkLpQ2F1LTI5Ana+ZzvfI3Eq+7sAAADkQZrvSahBaJlMCG///qeEAAADAABLR/+pH+4dHaAATrWEMefb3kU9Kks0d/Q6EJAFl+Pm1RFtNn9ZuAHNHZrcxJWLBVb/zx0ro0yKqoUAYL9joSwrCDahiUzplQ/h1P6pzd7Oe5++FwpD1dNNM36ijszCmjKvUxbk9wb3WPukGytgJprvWRNcrafPmmb7O96sHw+NclSxz0EznjN0RE/9bDjRGW6nnfLSkl+SrwWgfGb42o1IV0UmKQXN2RI846hWAUpWVGYc0rt9sXP0p0xAphsX6BZLkRYAir+34QpTquU+juRAAAAAsUGfDUURLCv/AAHxr0RfroGwkwrPThtNYtMMmAA2o7jd78DCYLe/reYaTKFUe7ocdnmV8ENm0bGMfRJy3Qb2hkmJJ+bu7GMTR779w9IHp9sqi9KHxyYQJ8jCTmqGsJ9FO3HFnL+rsx+JxK85XaF6L90iglnjY5GOzidVK6AR4tjQwUUMaV+UzngHUtj71KbWImGatJ3Dblx3e2wKXyTjfLgaCnOD4/dlq/O/G/DtZMroNwAAAHwBnyx0Qn8AAo6Mavuxtghv4o2jbRn5p04i4/rZAAF8zp4hyWZPE8cOt9H5g2VX4KoyFO7WSoHdeguczBHUOGaWM1uwOlGwUxtUUYSqUWbKsyvig3HktR5KgYPoCcVq0Asz3+v4dTZtpWgr/MTrO7IXPBFehDp+HC+JiqCxAAAAfQGfLmpCfwACj2/ga6YrhNiYvLZ1LXIAG0WjZv2kSRq0ESCVFsReYFYob0z/2qxKZIVFb79n3HljefA0M1o/+9hhGTpTuT0TXsRVfRmg5bGSjpgqa/hsDlp6LlPMjmVTtlIJB/e9Sv4zaNDFGWpnMeRUVVRgNa+l3VoxUwNBAAAA4kGbM0moQWyZTAhv//6nhAAAAwAAS75F3gTBSgBNNazX/fwGHoN4Qyq1gjhg/wG5tpaiF6Xw+CAtXVRqducXO7GpHo1T7URS79uOx3GRqCfqziihVgur5C6ISbgMSSzXme9POSILjKKW7lG2KgPeUZ29SPNd+Hy4YEXTJbQomEyxk/365dyxrrW6hKFMpHvgdOkqbsmvCWn161ryaWNBG1rlWc/1Y+dzvd3BDxqng2rloq2LPbtocw+3uLwFE7/5N8Ar+MfBRiMWEQ8+QAzS6KLBOv7TOZq4pcmFJs4fc3GLM0AAAAB+QZ9RRRUsK/8AAfGvRF+ugbCTCs9FStJ0xJB6UO56RGy12JHi5tlvtCbGLfJPC4k+KgBMDRl0C0E/76R7zI9aLyAla2Dlid4Wu3FHtXT0LOliNzHm1LnEzObhXMQ6ssgMriRc+k3Kh3mc7eyXY70ePhiApV4HcGr9a1u5myrIAAAAVAGfcHRCfwACjoxq+7G2CGnotI0AE7eK6JiNGnEzpOyZADgkUE0hqEaSiBYS8L2QKZegVv+4/c1Q8m3abmDeNIBPQWik2tReiyWRMQq4yhZLb5UXMQAAAF0Bn3JqQn8AAo9v4GumK4TXChac4ATPizCW3wWIasQ/4vmMgdknnbtXbZWrCJ+uJEdminl1Qk0R8Rl3n506UEuksKVQdxN5/IfPPVeazQdMg6CN6I2oUlYR2WiB/yAAAAC6QZt3SahBbJlMCG///qeEAAADAABJb2BN5HEFroIhekbe5YASqMu29Uqif096Wjx0LjTvSLDpEdSo2LiWp/HX4wi7Ic1FaJvGVcuggbagL/dj3Rk0LIdAouF/IP/3prS2owMR0XMqZ4Uvs2TNtvBxlv8MZSP/D5HVJDxqRZWQLfJuFj/aijjZF3d8q/74dZpzLN/kF/TlEdfa0xUHW3rEuaJ62i4TomEaX3Aw9PIvFCSCYVoXCyx5UsA5AAAAXkGflUUVLCv/AAHxr0RfroGwkwrPPfdqdPuRr5CtgDasTPprPnABqtgWsQjmWTXOwIX7nR519eaG7HS2kctY70UOPMW7nRrFBJE3SskJx3Y7ltvn+9sxt091yHc+ZLcAAABiAZ+0dEJ/AAKOjGr7sbYIaehzzmwxNbD8abh+BOuIu4NbMly+FgAdZ8dYUUybdTk/T04KJTDhIbJRK6UQ1Vs+ih4CaT4DiCtgW0fEAyIhUIBYVzeQlHSm9n7N6AdkpcU3ACoAAABsAZ+2akJ/AAKPb+BrpiuE1ydQIZ/svSBCEDsAHOHU8Qunkm3VbYmqPV9v4GKvynITAsvISGoQx5bWkEqjaGJQeNkWzhqBRubN7Z/3utBbPdrrDU4OEsUknyPicZVrblDx3uRPcExfEUhxv5ybAAAA2kGbukmoQWyZTAhv//6nhAAAAwAASb5GwLjGKKUALK5d1fsG6urU0NkFANbFED0rE7IRQU6dG+h0S0aYJPQPSEC1iJ73h3+F3e1CDxLa7leev7wvGctrLyLa9wF7aQTj/ZnyrB6H9Aq4LGQRI8W1F8dk+nGnrt7CNZQsDIOxgcQbXga9for1CatW3La2mlXAVnbrBxWO71AFKOl/LKU6hp1VT83f1LG3n0ry/52JzWveJvu2z9ndWcXcVyDOYn1sLqUKTDk8r7LwLU99JW2LWS8DlOJd5WEf/v7NAAAAiUGf2EUVLCv/AAHxr0RfroGwkwrPPfcpXi1HMq3x9YpgAB1neVpaApg//u2VwwMvrq5ulRPN8Y8olkPEIRsX/XkAep96alr6xp/loIJxsXJ7aPgBpUVKbrmVlG+ZrexDEnAw+xeTh6Zjhhzjl4Uf+8kiIUrzot5XJPBKuG3RQ5FWofOLcFjUfqT4AAAAhAGf+WpCfwACj2/ga6YrhNcmtuxg2AKxmXAJpjZRy7A+m42a252qSSGoAhqV7A58ECXtvgdD4rCZ648EjQXFprajz/njopKczoavXUMYkB2TKNy/qkOSgCVo0z2FpyCwU26VNIz1K7C+LsIdCTqIQFoU7nO4ztUygKwkQJsTQKtSkIdEdQAAANBBm/5JqEFsmUwIb//+p4QAAAMAAB293lENHBXJfXLnQEAJpqal+Hs1X6egTla9S52TR2bKaDKoK1Cvx7qj0hotP8H/ub3qVjSI8ThDzgry/AXMwBHwB4M3ksfI77TLCjMkLUsQyUjESr4UYCIZYuEuH606blFXochA4oh7YRco97i1nXEaNO6CsJGcQN2V9ktWNFxbR7kcyjni9PsV9YlEfeXDedlYz/+vZ6ZR7yrOVmgk7Esoo7mRWJ1m00sKrq4ElPr+dikbW7qac2M+rPiwAAAAbEGeHEUVLCv/AAHxr0RfroGwkwrPPfBs6swY8qVbBBy5OjWAFvHa7trzLImYQYlAjMUQwv9iHtNvVk4CvpVIIzrz+8p1ifjnXgoCe7sgq24BS4/8fUJrIZeYXxfKt754IHYdLs3VOIgVONpvUQAAAFoBnjt0Qn8AAo6Mavuxtghp5Xvc6bnvEHABD86eIcngguPfJ5dy+w4PSNts9scFdmhffhhfZvCTSGnhOtYe6WMElGo/s95gAO2QCDxv/t6/9E5ohJ/wUi387GkAAABxAZ49akJ/AAKPb+BrpiuE1yZB7c65DIJagAXUdTxDMW3tXXIlXFSyYEQJUMUW5N0Zui2fTmB5oOsXE9Q7IBZMaCL+EoTU/DIQhXS0oXR75AnZZfym2kA7p4HAX4fzB9zTOA9VfmUH5j/U5jzZjBP1lBAAAADaQZoiSahBbJlMCG///qeEAAADAAAdpH3q1aPVIArD3K12wYumFLUCQsNGjZZ2EOYwxMS12QdZPYrG+3F8IIOHQM+fszMc9ZQLX24NzlyaiQ2Tw++ubiBYxBQuKyTJdtsAOqKL9xFZUXiWffQBZhgnS3t5GoK75Rj2h0vrU5o0la482Fw0jhiIquAvq5eyCdewZaNWxAF57S+EQENnHWLnHi9jeaqvLHUmHupljInWZCUAOOXlPkNF8JnHFiIx+mIDMCJZlNghxaRtZ2wJEFzsgzk/udhEcU0UydIAAABNQZ5ARRUsK/8AAfGvRF+ugbCTCs899ppu4m8wx/pU5nwwMeMtJUD4APdt1spaN6aD6YkUbxBUn2K5aTrikhxMEVuLUpOgTJ/M1dDRMREAAABXAZ5/dEJ/AAKOjGr7sbYIaeioLmFy3F8dvhuw5efcvAA5+Kq05qaSYYb0c3+VFpFpbsthLewQJwOd/WSjlFL/vqDGgJVklOY0HHbA4j3kar6ZZqXvz/dsAAAAHQGeYWpCfwACj2/ga6YrhNcnmEegTh8JafK0HlY5AAAAG0GaZkmoQWyZTAhv//6nhAAAAwAAAwPl823/ZgAAAHpBnoRFFSwr/wAB8a9EX66BsJMKzz33nBIWqlNlvVCEO8p/B5WlGaZQAbUTSarhTNV30PnWJmHk0kMEJQJlK+Krb3/PJpYdZBW12n87j/0awqlY5XBFfcp8vLr0fszkw+gX00ZUKY9ckjy0oPRcziwfj2HG0ukpaJUkdwAAAD0BnqN0Qn8AAo6Mavuxtghp6KguYXN/2DIPfwx9uf1kAEQdvpeFx4b5UWy1Z3HSW8T+t7+Vi7O82eV38wrnAAAAKwGepWpCfwACj2/ga6YrhNcnmEegVcUNV6tZYKaAC9aeekAIl3CHIZDO9rEAAAAxQZqqSahBbJlMCG///qeEAAADAAAKxvh0AEWgs1/7Wzm5gAjXGl0qD8LShGg4d/iAPwAAAEtBnshFFSwr/wAB8a9EX66BsJMKzz33nBIWqLQkBg7gEL3wATMhkxHY9v1hYyuf6CUg1ADqymMv+t6rBlU2LhOKR9/r2oG/x7DH4/AAAAAfAZ7ndEJ/AAKOjGr7sbYIaeioLmFD7h3uGjkAIObIgAAAABwBnulqQn8AAo9v4GumK4TXJ5hHoE4fCWl+6plhAAAAm0Ga7kmoQWyZTAhv//6nhAAAAwAAHaC7xlEZABGJ3/K/ojHdIJ3JCMpLM6Lo7BGxQfwpZr1Iqa7sTQ+1QpUphxE9YbRoXNlY4cFdn0JbBMSPACugtXsIzTqvtp9a4tJqnwrQjpi8fzQ5PaMYjpl5K5RoMJ5F7NiG4S2HjxQXUt3hsOA2RGicXXqHZnJowmyvUoAJlYrROIblZ8WAAAAAQUGfDEUVLCv/AAHxr0RfroGwkwrPPfecEhaqTuEi81MLMMv5kAEs1kDN0PvMtIlC57c0Uo6iP35hGXdDzGUkOa+AAAAAHwGfK3RCfwACjoxq+7G2CGnoqC5hcH59ZVre7oKn54EAAAAhAZ8takJ/AAKPb+BrpiuE1yeYR6BVxWbULd4Ipk+WW0sRAAAAw0GbMkmoQWyZTAhv//6nhAAAAwAAHb4OwBeh1L2JOwAkXQ//YYRbj+D51wyFj5cH7A5CmV/GODrFw27CsNzzfoIVxqsF5K88kXYmR2RtCu4G9/Zbey4E3KPb8a+ca6MopDgDq/3TmE+a9BxbUtla2I05elg9L8nO7FujuE8AHPWCGFjaFn1sUlxUizG6jObyFpicnggEVehpeNiNftSfKU3Ohgq30g+6OJAVrFfHG1yAx8e5WbL06BxlEY8WsB59/1mTpQAAAF9Bn1BFFSwr/wAB8a9EX66BsJMKzz33nBIWqk7X4TxAATpYSjWHlLGQg0yNh2KLejmUvV1e8tZKeRDN0x9//g9mQRNg0F50hKuu17USeTFNX/JcdFRUpLMzSlEOlSBr4AAAAC8Bn290Qn8AAo6Mavuxtghp6KguYUvVCPYGgw5AA2IbLmwTTrYgAHaPb1LMrg4IqAAAAE8Bn3FqQn8AAo9v4GumK4TXJ5hHoFW+d7cbABynx4g/tK1tbn7Ju/POBLRFOhQ8ZW1GsiNmHtl61y4SwjeQxYo2lc8wpB+fo4mIW1I+/nAPAAAAr0GbdkmoQWyZTAhv//6nhAAAAwAAHaC+FJACSZQuVBmsAPx6vHb2yd0cOpn1arn6FHZhmoD5P/f70Z7bDbSIGQWRMmBBw3w9Ok0oQGHR4V6nyaZzkK2yKU4aJUxSQDRXwC9NxEya+npouwfYSv/fJGi+Hp6zeuAjX/+yWdh8ljin05ofHCRfE6UA6gHqbLG10ZftjHjumja9nrai/pEmx76N7KSUtEKVUmToQ8cBOkAAAAAnQZ+URRUsK/8AAfGvRF+ugbCTCtE4V2DJfIkL2PpA6rq51uZM28RwAAAAMQGfs3RCfwACjoxq+7G2CGnoqC5hQzBbsTQYAECyACKLZdTHtknorQxW4+GCYoJbKdsAAABlAZ+1akJ/AAKPb+BrpiuE+o4nPjKYTooA6KRkAA/J/KXeUkx9xetBXusfru9GsUAmaC2wKhvht2ovAIXFRsG5ZJrm/DwWID7IEBVsOsqfKnHJhtoQERfpMhbft1Rzp2r9otTgv4AAAACSQZu6SahBbJlMCG///qeEAAADAAAdxmq1MJACSgM5X3jD+AcJVhglizLwVZgIey++h3rG/XfW5GAVvm5gjDFw3Vv/+8sF2QcGRTvIVwEAQSUMd3AZMkFss9ntEuZ5btlnew5mvtnAFU88X/Q6OnIwfPoCsp5yIxa/HSv8ZHudWEfDFo6VsWX6FNPmVVWi0Zw2fFkAAABbQZ/YRRUsK/8AAfGvRF+ugbCTCtEhm2G5w6Dca6I+YH+UdtAAuQEbCDKt6nej1q1hlVmC/LCVrC4Isy/yzq1Hx2+DrTk66tw8GUKT4prxrXcrtZ8RpHF0eKvU/QAAADMBn/d0Qn8AAo6MavuxtgippSekrmHFsNTpGNYDgAENqIeCnqQwHhdc3/9osVS1mzI2yeYAAAAvAZ/5akJ/AAKPb+BrpiuE+o4nPjKYTYBgAOyF6yNNeEqCDxbB6i3hE5MpBVGi2V8AAABwQZv+SahBbJlMCG///qeEAAADAAAdol/QAfwfM5X3k7EDuqGIr8Fogeo8J12ln0QnYt39/AthVyoc1IJ7kW8EkUpnKyZU6Vrqof1ehhNgxMuA47QZZ1ZVyzR4+lyA0ISDUapTrix5Ym8GgMfxeqRTgAAAAE1BnhxFFSwr/wAB8a9EX66BsJMK0SGbYbnDoNuP6yMWABLIeFOIa3sF7uv9YMS6YXJ5hadauZAWaitEMwen65CxH5bHlqttbaIqfSe+oQAAADQBnjt0Qn8AAo6MavuxtgippSekrmInWYNhc53aQALp+NcZwGLcp3GxRYoBgbdJpa8NszfbAAAAHwGePWpCfwACj2/ga6YrhPqOJz4ymEw5rFtdS0DHdiAAAAD7QZoiSahBbJlMCG///qeEAAADAABPduSACMMawK0ZS67cR7JniAE4cLFI5ze2jpf7rLarzry0pslNcLasfhrIBJtuR/mrsx1Ql/Qfk2NTjSOJy1bmimK81Xi2S/lRPvsILK/Tbny1YeoQU7mrDOn5vPLVrxJSHRWy4MCyA9A9LhQPum6t2clSV4Ox+soFwoc+8x5keIFTqWIeULo6sXY3T5AYBzLojOc9kIdb4aQiPY8n5JpSgJ64n5CNcEEXSld3N9ol7WlvHCUUiDnQvji/sUxU3vhrGq0smIb/YnrL0enbO6cjPKHYP6EEC/HwnL+k9uvCiiOf0px/YIAAAACBQZ5ARRUsK/8AAfGvRF+ugbCTCtEhm2G5w6DcFW77gAhGhK0qb6VL8oLmWzkTCslRPhgoqtVwJ1sYTBjOYI/kalWOfNuu1jo9Xl/GDVmvfVuNv/0a1G2u4zHq0Dm6O7pJY1EGFfevgZEur3UIIupPJF8aR1+47IHl305YJQ0EucV1AAAAWAGef3RCfwACjoxq+7G2CKmlJQpn4zhg2I86MsqyGodoFQAcfABwXPokFxihzJc8vh2spXzgP5bz53D2aMuYo/NN5mHUHyXXfaI/Cq4SGoI6rX+rc0J2YHAAAABPAZ5hakJ/AAKPb+BrpiuE/pggBXsWYSnX3QrfU5+foL4neL4SpfoWcM//9KY7cl5iDVN5HmbAeoGlv3XEBcnkR9GJ30MumvpLl5aCati8KQAAADhBmmVJqEFsmUwIb//+p4QAAAMAAEm+Rpf9A7bs14Aboc/yv4nmPZ/N6f55d7S0mM9MeF+OdvAQQAAAAFNBnoNFFSwr/wAB8a9EX66BsJMKzz34rhsvVgRSqXwAHORj73R26z7bZlL/j9k8qMs7aGvNd+AvpQgKEVVH5JqNGY38TAMte0VpEndklAOyGb3MCwAAACcBnqRqQn8AAo9v4GumK4TXIetWuhOADh4T/qG79/1PpWkY2h3zg2sAAACxQZqpSahBbJlMCG///qeEAAADAABP+ZdqDcjx6VYAAnWHY8/4MQT2ldDNm4rydCgeMnT8aNbTx7zL6yhaZLgQNwcIx0/UBnAhzPE35kLS1pHRs76YKhbBcotPBpvnBxOIv18fQjDNuLR5VPwGsWcvzIHOcOVpzQrvoGAgqd1Vvu9lO/+/jIKqiK2CzybFOc4Oo79COe1sLvz0Inia0VUxaq0vVyhxk+5TGV/qbcRSzGTBAAAAW0Gex0UVLCv/AAHxr0RfroGwkwrRbpoAc3YPi+DuGRqOcVvJulz4r4R2JhZJeWpnlm2WIyvHuc0B+RKtwg7xzijX00MmhNhMZEZxxFihRA13SzNZ5c0FREWqUV0AAAAmAZ7mdEJ/AAKOjGr7sbYIqaTEcPJ3IAF8zBHhGTQtrM89gUs+00gAAABiAZ7oakJ/AAKPb+BrpiuE+Ev5zHYgwADn5vo0DulnbT6KIJecDmk1vQ+HrRWctsYznKNfzJOB4oXU+qnpRYLS4uQDe3j77jvjdnyXHewvOd6d9wHVrR7XCn/RGarRXMf9XYAAAADeQZrtSahBbJlMCG///qeEAAADAAAdoFlIvPPm1kACwVq5R7DHrclL5AvsHPUoTh146wOQ12xoTGS20od/oHWfIwB7AGRyAt1WsdCdf4cJIjVC6W3rI5RgmTcDDxRN/IGC9/Ed7oMkKyxDfkhaK2G2u9LPdmTBRq/MrQgEgdnbPqYJGnsmt6g3AuyVGjEjBk6bg7SXCkGTc4k15TRa8/B//mVSW/B2MFobwxdsDNP1CdDm9DU2fKDs02PR4FkqQzkndNdgEGYrj665FqJ7cWwgWTsatnzp1c8vin91/hQxAAAAj0GfC0UVLCv/AAHxr0RfroGwkwrPPdvRwVAxaAumXlNhbDwHAATtke9xHBgIIiWcLCbx6myVEgeXY0j1TMK91B2BatTqoqSp9gNdaY8nOWHsgTyWduyC8RLYvJXDwf3Y6YynDF3QS4K878Q33W7teHQp2474Aw87gZ1RR9FU0oTJFYLX7/UsDVy/WznIuRVgAAAARQGfKnRCfwACjoxq+7G2CGnHGIeMytuB2QAPzGJd+M5PQu+7qxUCUB8yKXN8SwyXltp6Ks/V4xAmQSxzOkLn1cBj1yBeLwAAAGUBnyxqQn8AAo9v4GumK4TXGNXifVtFOL3f7TNmEnFWViyoA4YAB1Q9bCrdNg2I0K9CIr71o7JYT6uADXdSm0owo1yLEWk/jbWDNNGA0/Nup3EUji9jMVky1EaRYSAAYGvLflWawQAAAP5BmzFJqEFsmUwIb//+p4QAAAMAAElS7hIJBIAboeRl9/IlLU0EsCkao7hPINu7hQk6AXwJkdO39iq8nUEnl/9KKzOZLDXinjxv4rY3w8X8X67M4OAKnulF6gayMsdoH2JU1XqMnwl58eSpATCYyF95xxVT2GS/PFH9Vj5t2j5CQgMqTYORP8m6CQY0iU85cgFqwn4ea/PyRVvZXLlLlQ5Z84+khvZSBYbswlfELzFzzAtGwDbfmsevMnHeDg0uPnug7+b+u+HvAKa0sucP+kF6P5WU5RUd158G/PvyLtWPZpILPOof9+IRzeZ7lBnrlwxbG+Mtrgsuk89q/IFelQAAAK1Bn09FFSwr/wAB8a9EX66BsJMKzz34MH+Dki7/Pk7jG8Pg38tgATrPkrRuZUhr3qcZAaxTJ6oe0+EI85t0O07yV5btjMrCNnGPJUKrSdat8YYkCvnLXMHFcN8pNmhxWXVKO+hnhXdLVHxtNq4+75NfOqzSrSpUI29OR0TvaMt97LOlc89ZQHJJIXP3unFhyRmJs0+EMZaKPl958Mj1Q+PXRBTx1R+H+1s84MaWUwAAAGMBn250Qn8AAo6MavuxtghpxxLU0H8yxUOSKAB+tvOPlEuZUSjZvTrMPdigoSQykKua5NAy49UonTreUPyiE1j75EndgZA1IkJG89rN4Rbzt393Dbcl2A23vjr4elIraBGDXfAAAACKAZ9wakJ/AAKPb+BrpiuE1ydZGdxvvGc6LKHMABxtPMjcgCGy86O1ekv8hGnPaunZ8sAbXe8NTJRn0m7+uiamJ+v7aA4/FLsOJDgXMcLlziuLDrPaEd9DeN4jo+9x37Ymr7o7g+Z6WJrgeUpa4fEjT9qAS0PMX5cGzgOGdFYVw9URTwNIt/bis1U4AAABIEGbc0moQWyZTBRMN//+p4QAAAMAAEtL5uA/7iS5MCpL0Pax+DKqI6ENyoJbaRoBK9Pnt/YpVgNL5fBCOxWNYbrsW/CjN8CvCFHrzAmddjf6DKbE5WGTZE6ZLGObgHplGpdrnx9tSKaYaza2otg5cTAGh/8a6FLNT2wTg0F7g+1YQEvopnVvXKzN306S1uhiBNiyyHhr/qgADOGwpIum2+FOA9OEmiJRL82HEZI8YdQ0hhsItC9Ja3v40NNASSq8QtOVWUGCAkRvSErJqykij16JUya1Dge1X4ZQTSLjqEBPJHyUQMYEgRq3EtRejNmcDt4ICxZ9lSHEclUvv25S9XNPxzML6TCTOLwkjfgZcIDepoqe1Hm+tUziVkQ3POik0wAAAJwBn5JqQn8AAo/m/eLlRXFQ2tmk1EU9FEeUAH7ptR5xUJ8LeqHVhVslk2N0OMNQP6ckgH0KXh+xoqyTDdjd5G/ieKfB86arBYlJXZyQsoFuToh8iYuwFsOpW+QmxOpBV+XD/EYUr1KhOuAnejxWBeP43hLachYnX+DxL02OVrYraxMMqeW6BIuwU0E0Anwx3V0evV/QuKHVTmvm1nAAAAEMQZuXSeEKUmUwIb/+p4QAAAMAAEtH73FrL4ycpHcJACWUBnK/ABZVIhFMJWpInB9EbAd2graR0cDUIzhtUBcI+H/v/3Vpe7H3g4FiaGCPSj2kue8dCTK18elfnosL+t9Omj2p2q5WCrF9rLU2KpkQdE4sfOlFMme/MWvsx2cLC/dITBvjfT1T3+Syhk1IwaEBRAmWhX7nx4as411NyAmcsdw6pkvRZuA5G3Ed677Ytzwn3MF/pGurTi1nkPB7RkHq62FobzNnPoBPfxUtSOuP394RHr4HBMS6WevHDWq/7iK0sPAoZjdG1OIHKoyUfh4dLJYZGtxHLXNiBwnpP3FB5ZPZRh9zqVVetVDdgAAAAKRBn7VFNEwr/wAB8Y3YDXrDIGWlN0Rm1U8pCnUcBkT6EkAFqZmTtpx1syqYClHwv9KEaunCo4fkhgjjG92vYtRV8dMMtlNFgO9aJIK+brxgfs678Ez2c+oJkSG0iCZeqTKaAbzb3yRxOZFzLCrK0Bvtqzh3bke8XsREbH8TXbCB+crxwvLDoen1Mq6ipKtmDDbznJT+vbCbZkAG2TyL5P1U8KDfQQAAAIgBn9R0Qn8AAo6MavuxtggpoCpzgr8UTnsZptG/kUAAvmdPEOTwQxxrf1eApyMUTao9df18p+EoWY5TRj3VrL3X/KwpD+zQUmTmoclD3PdBsCqCH59PF34ceW8negTe6r/K9hSYcZ1CMx7oQoGFA5Sg9OTvZzoEoz2d+ehi2f9LDvsxUUxvRdaAAAAAhgGf1mpCfwACj2/ga6YrhLVUEPlT2rhBbaEZu0nUOTgAHPfulnIxRP62WXoibRdOW8KLuG7WTL06OdDQaMRliPbzZLJCUtjHL5ju99cxfprdURWfXi2Gcn2O3A92aGSw6sNnal11Nox7H1cGxpOOsRGs4/Dl5rpdHwAUy2vMLsYRsfecUwtRAAAA9EGb20moQWiZTAhv//6nhAAAAwAASUetj8A4AWu3YFQlvXz5DGbIDQj0RVAb8ThPIRlKJTT8M/vaHZSyYwd4ox0Dohh7oGS+Bd7BhplINcnf/8pGWHODkvxYEYWFaGd78MCIFrMooYHqt0tZ0busq4cYiwnoPMl9lfXkPrr0foJTJ0+QrxOxCuBr+A74QHQ4uT1WGKugrg7dR17aqmBVu7rMnsh7oDPZfLvv0AE9+4FbUx/B5FgqgjODT64Th425LRKF8iTjBlfu8alqD9Hb73FsWKMJ3MxTX7coQ+2Qr2Qzu63OblehHlrX1MDy6rJFBB8piLEAAAC9QZ/5RREsK/8AAfGvRF+ugbCTCsxcEaiBf6k6BHLeYFVRZGDdnkyzoRT+F8ACc+Mhc4Gbr9Sn5RBP/fa4ronSW2Ga8sUZdOZEzuv+L3UZY8c9ACyaXncQppDmDm6JcTbxyJ3m3mdI5UMGC+xzDI/rbCpP0OohIrUENcSLYam/0V3sYO2e9JbGtlBtXu80Fe2PD5oYZu9feAlA1qtSZVJNp85ZypH01az3eJojuJOrAq6s9vY0/H0Vqfvpbwy8AAAAggGeGHRCfwACjoxq+7G2B+28MRndoAIHO3Eq701jUwTH5Qxq5J+JYapK0d+JrGG4cNf3qrr23om28w0tlPZ1u31vqMJQCr3d70jZXqDqDPOFXjJULjpRm0D3Gk/3okgVEMyvMe1qwlQy1No/TNskBUfT5j1Rd7DAcaKsEqqJybSZcxUAAACHAZ4aakJ/AAKPb+BrpiuEkyJ4yZ3tAALc5f4j9gqM4wFbDbPbcPAcweY/ubkVhQwQwMrJVf0S+EaRAewfQiNwhts1DcBeXJplAsNSTZkTns60DYBv8LZxUSfTwgANAAgrIuD5gpz1E4EO7ZlXQtw5v3VmfxPLhD80k21h97oimqsAgCOIpDT4AAAA0UGaH0moQWyZTAhv//6nhAAAAwAASUetj52yWOLHLWQAEJVZr/7ePt+MIw81+zfZdcXNsqegcX5xOE8edWZiNuCLgeuyUnVoCAHcakeUQMWkoIPkzie4FU44zRJwDJorvJYzVAAo/hysb8ytxudcMOEo3yVFMzfvlcfmF5/xO9X7+LeMWMyIrfHE8rGqjiQ1Sky3aeX4sZWgc90J5BkcKDFpb6RC64nU62EIWsdJrhUEhxzFJtNPFLt08tsmCufeMfPU0k+L65SCYTZPGfsUbd5tAAAAeUGePUUVLCv/AAHxr0RfroGwkwrMXm74S8YgA3e67GlWmvjhZc6UJ1f//Q7yNBt4YTdTBBSfmj8cDy4m60QCFUWiPSp2kyDlRBAZPxnIn9Wl+/mP7ITA0zUZQRIwoNC6smLgANKXjIW4PxH3V70D2t4FdMiFm+DTen0AAACFAZ5cdEJ/AAKOjGr7sbYH7g7pDRaN7gyy8cFUr3fOgAOCV7FKv2+ylapAzd3rvjfq82XjGw4yBonSQ9voZzZBT+2t0WVxjSpbNaaH9w2KTtvBGuHrnK57QGFBJmUEmjSw4ltCLspwb06rijAkjYf52KqDTgj4FzT5iev4vVDgMtTffhHRgAAAABwBnl5qQn8AAo9v4GumK4R1YMFbKWrpelJ8ZyEJAAAApUGaQ0moQWyZTAhv//6nhAAAAwAASXM2L18ZhbMWBy/h/UGkyvAB6PuVUofSiUhZiekm07GeqeL3RKTr+YzkatXV77hl4miTZRtXsAu34xfmTOeXiwRA7nbqV4y6GLTMxOE+epU9tZE812Om3wzU1kXQqSQS4OvYo4NQe0TGiEy6DD3xgz2v/77NkL0VOTiZoJv7VmnVWOTMpZXNyfUaxmcmW6CPMQAAAI5BnmFFFSwr/wAB8a9EX66BsJMKzI28zGcisNcmiXh9ZCd7AA1W0djawGpVgnz+lskF/mXhka0cEpOByNUuBP1VH0DTrJ009YX2FJGaPY+dDoO/kt5VVUweIByqc8FH/iOcbVm9+vOwIsFV7msKftkYKJzWvLIR7zV7dhF0Hgcrln0Z2vmMXRlMvgka+pdGAAAAaQGegHRCfwACjoxq+7G2B77geDJjtSbDRUYOKLzMADsit9GXz0C5obiUSHw3gxePcMM3M4TXdJ3V+32GbdnQo949tFAfGEFuJ+bCxjwqpWWhqsE693Kfg+9njGSr060OqoL/ZvPq4FyX6QAAAHEBnoJqQn8AAo9v4GumK4SYkVY7/2SJNyJAbaax3gA2ipHWXvLMVoZsKhHIXVNUJUDnFp0Wj4czy/uxddLsqpSPrkgZjekidso5pcuqPhWymeycf06Z2UeTp1pvouCaMoUQ6eniMhwfJODw8Oj/1b6ycAAAAL9BmodJqEFsmUwIb//+p4QAAAMAAElH+84UAA7NAZyv4r//4oiahral8OxUP3bGFAzWrt/jDgeq4Oshu2/zC/eQjDqRyqFIpdVjmGoo/JpxnsAWz+BJ4bx3uU5TxEWj8KA+si1Vxt7bd1UZ2iHg9Nz3iXHzi5NC+7yenVRCQsbfgXAAldlo+Hyv68Yr4bmsCkQLU7xCWQQRvikRZeACM/PYxGmlaQy56M9/GtRJErmFr97dWHaDTboYScPKBnpTYQAAAKtBnqVFFSwr/wAB8a9EX66BsJMKy8maZZv5f5UAIFmpq2lTwXkxIxjnivKFVcoRF+cwKcvXe9RtvPsQlx44cAcnMHQV7VWZxQh3T56SF7HGTfk/S/Sg6dvRTFi6Wst0SWIL/UGPdt6OjjTQ66T/vBJwhfLrbhAMFK5/W6lEd4Kkb5o1a4Rh3lsBoU0wHQcAedv9zZ4xjeHC33vfb+VxryvxnNn0lnmCTR7eEYEAAACHAZ7EdEJ/AAKOjGr7sbYH7pAIAHWfHWE6W513hE158aF1cwmUvdjlzJiKALkO+ulCV5mfpEiGA6I/thTmYEhbEKFuQGqXMOecxw9ETIpC/SM/egLIy7SXS4UvO0/s/r/95ltwjAXRGr2oq1/Esstn+dNclJgNoBgX7p+ZbgZ67onnHVMFm1AhAAAAiAGexmpCfwACj2/ga6YrhJMihuWk7kYAA1Wb9JR7lIzmjBhwNLA7rXcQVetsGdQOknn+Lh8D2285vhDk4hEqMJZGzszRRwW5yzlm+kgRFbL7SJmy8YANh3iILYjq342hmVOV+WMlty7EtGZ9W8/RruirFLIcmJKx8rXUELWC9nXrMD8YCyL7lQMAAAD6QZrLSahBbJlMCG///qeEAAADAABLSLxUhfMSVyAA7KkC+0GeAFQhEI2zRglC5lzbBMQE4RdWFtKLJm1dNInkudJbyfxJfXdaVL7+Ptt04fK0a2kAk8IHpp3iHNtkLZ1IfuJq3fB84je/gG0CWiN9K+za66lCMm9uhNUpYdraX7/NSI9LhdjwvsWPgi4nc9Rn8DUk3MMaZSl71AMBMgpPHJXSrTKeFZA9naf7h4vq7/zVsWrvzCeEQ5iyvDh4TNDmTet6wf6dw2XyZ1iZXJ/oq00ctpyUKAA3Q2kf94wbbWDc+OkZBSAC1i8neU3T2PQBhVDwGd6/478OZAAAAK5BnulFFSwr/wAB8a9EX66BsJMKzz1yBPG6K/kpjxdqfnwAJN2AAHVd/74VUmCrbbBs3WNtmCR2JU/vkYbGCtFEiIebfxAdyhEjg+WOXZzHNwuC03VwnFMaXKJWyGM6fXg0TaP9+t/Q2el8grjs6ox9JN136mLamF+WL8lLFBheOe2dsJEtQM3D0nYM4qsWjn74Xfei+IqP8c0i1GjGaStixHb1pcfWvv1X/egvadAAAAB4AZ8IdEJ/AAKOjGr7sbYH7bZUwFQADVZv1h05VKtUGzMdZUR1oJ6XdKRyQdTTTsx/3tINom01VP/x2gkszTiMm+PwysxMmTj9TxOiYZI/V4wdQc44iHpG7yURdvi6Pe6aXOzipxccQWIqQhyl+UJ0SrggN2Lbm2PhAAAAfAGfCmpCfwACj2/ga6YrhLb2MAoRi54LO5RiCdvwANqZRn3/crZraqOCcWY7DFq/YqORXMlVLbCqQxktkT/cqtdo+GdyVoPaT+Jgso83bzW14kQKx5nDNhaowTxPDuZr5v/TH85PETzA86ak+WKW/KGYovRXdQYanti0aGgAAADmQZsPSahBbJlMCG///qeEAAADAABLvkWz2wY4w17hZwfREgpIAKWTVYQds8uyT7OfuO8Jb3K9f+SMuICennj2Gar143k4gLyP9lJi0khMRllt50ZqZ57EbZkfgEunwml/384wf9fAt6W+QRiX9f/m1R2lrF2+7l5QaOACbPXD5cpJdUTqXrRyaHjiJqQOzxYrUHTemJ7qCmY2p+RAe92F+1hDPFPuxmnwTBjJUSWPeefSrLHiUNMbKPaFz6VtJ2MsnF0Abt0uW7SYqTxcFo28kd9k0lBlOUOVMkg1HkVXFInUCP2HUGwAAACnQZ8tRRUsK/8AAfGvRF+ugbCTCs9G82MCqLnmDEmAsxZrK/5fzcAEN5HW6eDywPtshdiIOJB8bQwIpCFt0cwpQAx34qbQXOq3ddj2mwttPzVlIXv+FkBwEHO1vUQo9rkzDoLwb+lFv+libiCcrnl83v/PTggOSbestklGb4a7xFfkOlUYRrgpLOUimfsqKvNanbGfg30u9NEU1xBBOCIVr37i/8Df0ZEAAACBAZ9MdEJ/AAKOjGr7sbYIL+ge9jfwiViwf9PQAC6vuH5aGLKnfeHy+JzhiqxF3SFmujedMS4x0mBGeRc7WSTxHOzbkbQdxyN1BK/l6MjxgxLm/8LZC/+oOF3zAhr8ivoNWhgULN6knA7FPdk6pdLCR/IsFYQMdGxtCsmngBnvhcxTAAAAlgGfTmpCfwACj2/ga6YrhMiNfO0LvificAA/c5nSSwonATabgekkeK/fq/WQcecPdBj5KrOGTdIjcpR6BfJfUjuHpmTpsfY/OvxY5TFu+k93ozVz/QozuR2qpfhqIY9iGgxFvBzpa4xtNAmrY0LEw+37F6nggmfQMhLztqRwqliPPVvULMOeuZpToukBkfAqXarPc4ClGQAAAQ1Bm1NJqEFsmUwIZ//+nhAAAAMAATbjz4KN9YAdA3gtJK6NuDQGj24N3Gye/hh3G7sPRLkosp8PalVPwplD18D94uAnFJnA2ZLJZkGa/vX+XeZPwrdqhkn2d+zxBDTxNiMT6755x8QKpwkYx7uDmGnBVJdhz74KFowdQeEW3muZbMN3RnObfz9/zPZFtTLdl9i5pRxVCQH7PpJX+zFPyK+iu6GOPbCKv5D7YtY7KhoX3ojoxdG45K8Og6gf32zoBazsDpH8ITlUEXoePyf0LdRzAmN6TvivI4MDwjYzmN1zln6RSvc9BE8JGILBiGAGwu0PYsh7Ba6RM+kN5ZATXrpv/SDH+kKnmLP/jgnuYAAAALxBn3FFFSwr/wAB8a9EX66BsJMK0TfykaSXOdtMNX4GktubiwDFl8AHFFk+Uef8vA9385A+R0nS9HHAFyHjM1gbUNX+0KOv/Vp6riazQ+++GI/O6jLLFpaJeX0tuP8zANki8XJA/UVjgk/JvjpEO9WK4dK75ZbfqJZ5GZpOMRNC6bvaI0G0qickbrO25ifKVUExmGXnbtqH9mXY9lZuj+QR9AhnquAB44hLBL/MAV1apIXhcsGNURc96+/ckgAAAH0Bn5B0Qn8AAo6Mavuxtghp53SSqtbfqq7vY49FYtDGk+y6F+ef7WKYNdBAo0AEI42bl4qcb9cJMhhebF3HzWICUqkfplrAXjvnpZqgFHA7wEHURuaZHV7/udcN1phe/KX35MKgB5d3ni3sKqOXDN/auRcM4Q05Qv5195sa4QAAAIwBn5JqQn8AAo9v4GumK4T6jibkBQkPVSSVaABeud5OOR8TJTTnff7Zgnnd9tSrHPTJEClPjFUubSc99T4e3fE9G191JKjEn82O9aCVizh9M0k+kZYhPinw/EvwW6aEV/Zy+p8rJp2vZGlopCLGnHW64WSvImL1F0qvzWciSH8VXdU5HGAr3+miIzJ2oAAAAPtBm5VJqEFsmUwUTDP//p4QAAADAAE2irxtfegAQ/S4ECFp9PqqyDMWmYbwkTOaTwr7SRF7jfQ8m0MQnUgJYeSmgyNif9nJLEU/ChIfy/jzaf55j2gVqX08Ja+KUWCxHpQHKbddBLY7H2txi/8sPXen0RCnPfYncOxcMOfRdULKZ3u1/7/5H544/+WxEYBSNi08drhL4fwo2AE8Fzh3sJqzZJvzxJBYkXFgtDkgLwBTV3h0H3mxC3fxyds6ZfbnjCJTpg7zW4NOBcmLU0Yzjpn8SoJ39f2VOT+/yGEzQfZFMbB76lBsqCCa+atgHxKsO3NpAu+WZ5T+o/NrfgAAAIQBn7RqQn8AAo/m/eLlRXFQ2twexXtrbLxNBEjjIeS2QAEAi460AHOBpOeoXcQVr2vlVAiBKO7NlUVop6hq2z3Q14nL9qRyRpmstKc9P1ZzqdGKSJWXqoZl4+mLEQLrg8G02LC/gtUFAiGPRPHMGq05l6zqlo/Mr0h8Dek9g14kzfoVt/cAAAEfQZu2SeEKUmUwIb/+p4QAAAMAAFGwpCp3lClaiU1pyPOgAsEe2OniuImuCDIL572dmkvwdxI1H/OG1UmMq/rOoLOSHlbymnzgoa7e2/9fcktiTJWfNRWrPduXn5M9dAOJ7CsgU3TlYBYWg4SHOxiBKB4c87SVHOD6iwfPdp3O/J7IFXY8qT0YCuUW3bOj6y6/OK3IHsc5QwBtFkPY9my/khu5ptV/FUWrNKoq5X/du/LCXpwmtkb5CJkvgfGqG9Km5D7b/YrbJNz2pRkXRoL6RFWMZff3HhAOuEL98v4S4g4WMrZ1pGLpiIJmTYLimF+4ab67czdOYZb8mXIZGkCtCkav22PdHxDzA8PkUsak10R9RBLuPs4VykvW//CoPuMAAAFVQZvaSeEOiZTAhv/+p4QAAAMAAFGmP/I8zrrrZGI+e8akAG0oDOV+zqVBpHWOVnqXw6AxsP/i6Ul0MmYYAuXZx+rgfQwEn9/lTIARVypX7Nhsr4wkVdPU5hsKNy0/+3eb2SIRKgaHzhWxgJ2lWM/V/qAtO44+hmkkr/eP2w0juOgIP+erf3i2MIo3ymuY8Nq2HN91tAiNtNZbpumbzZwv52eFvWC6sTVDAqosyVUz/dwOP0etpnlyH6uJjvo6cNSgOJsjf0HxHR5Kb8UA9XwEbdaVIpL49TjxrNnQi4LncuBPEQCjlX4oEAXmRzyuf8raYZ7H2n+s+J4AqCkqMC0j1vOrCgnysZ6ghzAlAZ4+NKAilj36BCLkLAFzJFgGE4NAa7QFv5jdvmhqNmVgdueBmCkgFqMcqr9oZDC7GZdzOinUAhCnpHc1as6IWtXb/Y9isSzY+MEAAADBQZ/4RRE8K/8AAfGN2A16wyBlpThqIKsMgpABqHe91KXoCskhfKknxUjwkmxAlazgozALxy9AqCiYxqxA8hKQhdZaQ/z998iiIbqTdTFawE4qnW4oHwYw+nPTXcDqjwHInj2xwWa8sRwn35ECErtj4Z0BYpbBk2T7NqAvUfvyvsoDAGziEpDM6ghBLJ6GDIX3++Z4c39bZJGhiwuVaHn5OeVwq2tdUVfrT4q/OwWtMTUGAlIG5CAFGEIwXrtmPbKUJQAAAKoBnhd0Qn8AAo6MavuxtgjorNEZEAEJ1NnS4w12YKfHzIHx2qZiDc6K2e2oE1yCCVjsCEfYrfbCx7iRSNRdL2F5PqAZAHfM8fvxaTBY2eZ6wiUooy4AdrwpGwEowjemtHrprHsGDCNOLm1ZjJy6wOyx1HmgxjNCdhEePFDiPE5C8WWtCNAP2gPX61ViRRVVjA7KxLlNsUcsAVdDy/uqlP4Fi5vb6Dl1zDo55gAAAJgBnhlqQn8AAo9v4GumK4UY17Es2Lifve0GPGgAdmsx0ybo1gTqL1cH9GaJNwzt4218Sg6BspqEyFVaS+LW9NgdKqCNy3tFlBog1zTPM1O0sQrRSLkmNbqNlvC00du3Ukm7pTtKGpAZNj2/FbnfF/lx4Ta4lrE43zAnGOc2ty8kzTdMzZPviZYo4pahYPNzLbj7FmjEz7/QQQAAAShBmh5JqEFomUwIZ//+nhAAAAMAAUZ1itSuqkTXGoAbqAG2vTZ1i+AwIzCbsP+epIti0hX3SYhWBAWSbFDq/UFB3KzswEnmVyNLYCCvVeyoI0gLd4+035dfOr1RHaVVh+CWa74SsWsIFFdSBIwfw5M13M9ZRq3YblwNBE92RccfjClqyb+taBZkx7qKAebU7AuLGgxsPgPOdUKRi7by5IoL8AfebuRedrUdwlBeIkiRDb/YN8yKWzn/0rtNo7nZaZPESjm9HxTfLlqiRXFy7s4gx2sxo+xP7cjU3azv34UnWivJZJKsL/aRZOQX/vv98W7tilx/XOM6RUuKPmvZMmrvxlD/TVomCKoERbXrQcyjnXJZYzIJHidQihrjwPtwBcMOLBYtXCooWAAAAJtBnjxFESwr/wAB8a9EX66BsL8yvDjIQl6bBZ8x/jFWcjYAGq2kVqjKgXglxneUSOHjExCqnC4KKqwngAQl+8MCg0NJyhGI+jxWaWyIHKSZ88oxTa42K+dQHgfgDyOo645oUlq1eFpKAT7IhjB1dUV06U9ho1W3j4N0Lu6XAeSzh9x9e6SZpr3hmDu+f8o7NPUlJ1zEncRGmC4vgQAAAJgBnlt0Qn8AAo6MavuxtgkvpzxrOGDC2H73/ABzQtcVBSpUcqSlUFtk6SC55c6+IUq7LvrrxKxIgG/sRl+mMar43u/uGJqvPCTBHDO06p4lHeDbTgYyOIlJanLrdSMi6AITu1gVHJugfiteCq74+8G2/vhGnQMNZBg2XrdLNUjMiGhJhXY5FxnmSqdnBQrh55EG0XCS5iBlgQAAAHgBnl1qQn8AAo9v4GumK42D0aMRFYqgIB6maVa+7k8Hba/lXXPwGAAcOSktjljbJDwSq507F02BiuArYQdszH1LiqacknFsuWLOF90ADdL96hd6x/jnsO/FI4Rzb3qmHmaMiV9cSHUvmfupaiPlHEY6lyASsByQTYAAAADqQZpfSahBbJlMCG///qeEAAADAABUZKi9KXGFaABcmVqcJxMyVdc/CSrapryLu+3Mhf1YZMLoxF+yfvb+w9LOq4aWAQ79aE26K52SPSq0Rem1bdj+/+UoqlrU5b/JlmP3kOFchfqs7I36InwDlLyRMjioIphSYnula4MeijAOlJeMAq8JRVE6z4+LcKdpH+sznlNTcc/K1vpShEWMBAS8ctJ90AGHroLY77sRsexSR+diNcnxfv43pKdWPPZgT/5WXePICad/H0asjfhgiWzmMdxo6mrTfw251r1prcdkhrpSZDs0F5llwxXgAAAAcUGaY0nhClJlMCG//qeEAAADAABUTByLhBACVRl3V9Vjqz/KQ1boejOBXGIVXGnj62O7Qv49hwWwnsAxGSOxTDCDg2MfTGEBMu2gNozuEYq9kp8Bp9iWZHuB0SpXtJk3tUCVSdPqp7izrQ/N66ahS9FhAAAAjkGegUU0TCv/AAHxjdgNesMggPKdzbmyc6oAIg831C/U5PZ44pAJmwhOtD8iaR/+MDA2EiAWQ2et8UWK4/KtpVjzbHLBaGjtmiXPfSWWuXnJETIxoZFVtmRrP0gPrrsTXxmB66o1xr1MUKDXx9KOESfj3wiBHx417kmV9dVAH1/izcTLKhpcTpdgp2jdkEAAAABlAZ6gdEJ/AAKOjGr7sbYJIzEsDvMJO/4AOU+OCfY1U3L6fn3S0V2mcflFfwkUO5o3u+3wrwcOcnJR9axSFgWxc4Ylo21SupjngUUz7svDZp8un7uF1+ytedtDJzvddyDHzduodQUAAABuAZ6iakJ/AAKPb+BrpiuFPWvSMAbwMgAOU+OCfY1U3L5hm/Nkg9M4/KK/hIodzRu00TJJ9guVMEKnSVd0wRJtFjxa0nPWBqosNHwKEeH2b7lTk5gZNR1VuLqWlKXy9Q+CqH9g6AJC1RvIDUQwioAAAADfQZqlSahBaJlMFPDf/qeEAAADAABUV0/vaeuEXFywAfDtLlIzmSIfZetvarTOPc5ze9Rt/99g0Uk01VrHYBHvF/6D37YyQ//kM9LLz+4zDlMru9/j7R/zkrRg5smfMPvH5s+oHLQ/t7usA9sD7TO3EhLLDIA/UrPibHsmZPefc2xGa8PQuhZC36qvt/Og3kuLN6JzbUugbSUWTGbSU/LM4RArmeJIbFqkLtWGToCNfXmqw2mBZO0ZtH/7XQAJog9cdroAXggwh8cSYpQDCuhUSTpzOHIRzo2hEMiYWP+8LQAAAF4BnsRqQn8AAo/m/eLlRXFQ2uEJoercYAfkAC3OX5LnBSWaf1KBJOUy1Q2rhWdd1LzPpNa0sIRAECXg3Px3WvgtLLXev/E9OfSjjqoUknsOKPubV2ookGNEwL5tspgZAAAA6kGayUnhClJlMCGf/p4QAAADAAFI5lzoCHdORQ4yrQWZ5YAOb68byQWf243p2ZYO46IemLS5Z4M8Qa1pZ867NZnjLl2PcZcRcPCbASdk8o5gASKtEOloAwtHvJMDHFMhdP3F6nAUy70/XWG/9LNW6Lu/anzJZfYfLAuKvKHHIgIexqmgVdjYU/DEcHUuIw61wfE63ke4RdZpvejv/Q+CWeBwOPFpCR/xNWg5TcCPpn62gYZArECCs+3A/a3wq/0Ya7wMBjukgcF+g4L1cTPjkWijEYP0L3zffPxFb88xcXFdb2R+iFfb4wXeFwAAAKFBnudFNEwr/wAB8Y3YDXrDIGWlON1/PREgSVMTT0ka4gAqGIG5oQAlU6je7Ip+vMZzrbOj9SpC5QScpigmQTb77WXvH7caVi2s26UFgE8UNf+sVHFA03mZ/7KYIlwXYCDd9xQeQrqbdOS+C458lL0cpCofgrQZFXrJD86b+UtSprGgXEX0gsp9OGe76fcWS0MJlkD6bstwGKQp07QQWT4CcwAAAH8BnwZ0Qn8AAo6MavuxtgkvMBFVhZM//gA4eb9X2UpmAy/MO7zDoZGU9mSSbbcSBixb6iF7UcimqdhAssOwLkf/9wexsD410zgzBIec/xp6S+UkKpsOKOZiwtBACbbv1HkRQLpKJ9w5kJxC6M17BW95jhkCVWCCJ1mTDG/XMlncAAAAbQGfCGpCfwACj2/ga6YrhRl5nXD4NABzd0yR3Ldbt4JXIzjLC0l/n/avlGQ7Sq/n8EdtsVWvRcqkZEBhSDJPGQvfNj4aZxF7sR0CQHoGyBQXBA72UKaUvRMp8vF9kuK4f/elKbWnVZAEqDgNTYAAAAD1QZsLSahBaJlMFPDP/p4QAAADAAE9dOAktAH9BgIAD94kKsA5SPvGOouVyTSz9Nw0tEDySkWNcrcd33xlnTTtgiIn7Dw+ybUUCXQuxHW5YfrsWN5OL1SDqH6TtyApc4WewYdNBVrZtZRaZSjiCCic4w/Vrag9C6r0ssQBUFye8xI6Zfb12GFBPr5+ou6KvUKjdwWJjxT5gnhDty8MxnbqwjsHP2WBPAOQ/6HOJx2dtbS3EX4EgwDVOlnJXQHwUI/cwvfnddYmH5k9pAK1oor4BoouEJxfAHJMceoha8Rz9TS7sTUYIiCSu0hdrcYih9wlApnGWqEAAACHAZ8qakJ/AAKP5v3i5UVxUNrdIau9a4jvGoBz8GdJvcrluThWZxUAEPzp4hXVqhjftIUoPyEQsSW8bd5pS2fo3khjOSWqvbc5cMuNQuSL/Nro88YwWqWNK5YXUFUn3YSbSr7cgqjueicwlGyOYDfOroXYtAnKjpooa637SBlLX5y+TEa23pVAAAABA0GbLUnhClJlMFLDf/6nhAAAAwAAUcASD312QAcsYLMWxZThxnOEZrlsmVDPT6lDiz6AHk/doAX5M9COm9vmaA89Gh3szKZQQhYhyJ4RTxnWP9RHE8GRFvdYaftd+66roHoJ85D6QS+P63PK/vDPdhPcUoajqdWHZvuoGZbr3TidX+DwPTbfdJ419MiBo/xh50e3ZS0SIKwnfXG8W2E0WT4kChtXv/UCIsBSDlUutBzCIou0CO/Vr2+5r4pSLGxVqpsUZT5P5vwUaHCMElbGntvlthfF+wB2pxlO3H+o0WgyItilWF3AowfkzKoFZagZyqdFH5jTJ61pShqsH5T+UEpFK4AAAACcAZ9MakJ/AAADAABVP3VZH8AIPwuiYjOIT1NTha3yRdd7VBQJ76MWe/3l5/epwRrlYq9Ngj3ZVcrrcKbNVs9dVNtNEgLOHWNr28oxTOLjoG2+ZrCo+ya0NWL7mUrmR2TiradLXTx6v6u3JgprDz9g6VU1lTmSMcUdcDZNmKLBcPN94IdBecnN4PtM9NmLF9dvuTMPHizPCZeDinWBAAABBkGbT0nhDomUwUTDf/6nhAAAAwAAUjmXYYjhC50fvUAC7B5GY7QAoulKx9dwJ7Qv2t5XiJEw64qfy5VmIF7bnrMCj90c7ZD5NcpLe07clkpMdfWa2Ks9r/DDUEmTS8i/uPp1KbUDzmPkKdvqs6bZg/hEL9gudxqkrFXO55KbXEro2W33u3q7X/PQYJgsdvGf/CPXrgsBNzNCHeDlmbkFQmaoYR5n02QOH+mXh9Pn9li2NqVn3HAaETxozOYhmxFnDpbZLweFeDh9z+wuwOgRPwIRgLXdh6sjIqFpmJfDd46iATB36J/f5b8ONwdkHEjZ573H82mfrOSYvBhzbbOgeUbRpYvaWW8AAAChAZ9uakJ/AAADAABWUnOlfDptBUtYlCWhABceVIQ6phLKkPoY5QV083MfHuwvvDQ01VWxgP+ynlQg8e5T8B4eLQJkWD3LbUQB5EIpg0yaICaTD2E2w9t1Fz0C3AD0kgB2Jc7JF2wxHLXdIGPKykqmB56AvUNIYBhx80zO+udWiVCaCvEr+7UoV21+DxX5JVrGCr7ss25VmytzJR688HF98OsAAAD0QZtxSeEPJlMFPDf//qeEAAADAABP9/fCMYwAA0b3mcrh5ZPDLryq5RH8wfxBI+OARrWDjNorWb7QqpJQOuUEz+dae3EuhgLLLgBXkSMFbuieON9e+3ZoCHpGD/Vl4nS/x2BuHvNI0UKLSLxmYCFdaHCtTe016ioRYHuB6XQfQPezWeOHPc0filHjSpyWUG20MX8AI+muBVSq+SEiTRtIGjlsIa4JTPc4WNfrNa2dJtSy1IfcQ89dFefWunRqUtVhvDXWv4S3kIkE0oZLvzMCJafC96O+lCFPYY3OMwUyFkamMgZ8t/tFNvzVcqWIyzz90Hdl+AAAAHMBn5BqQn8AAAMAAFPbvqmf73SiY4kJ1REJo1K5xzGEAHNVy5L9XFJ0CYE7/EpX2xs5WVXeBDR8vHJUEjZBN3ZXLE5oHvjl5pxQ1ZpNsWXVY0/hEq/HFu323GKLd8iBuXVqAN7YOjxGcEDAEKdcqa/pukpMAAAA80GblEnhDyZTAhv//qeEAAADAABP/eEt3sXRQv0DIvQEEncIf+/wL7IfDIz7pxYp8TsJ3LmJbQLtExBAA/EmIEGPsfD7RkHqcnEaDwvpVOLmRw4eoG1r6g+P+oOErGv3X6yin6LsqX4eYLWXWZWjqPj48MA8jWvBuXHt1yKDZx7Fzn4bhByaMWrVIJL+0pJ25lur/LPHjGeGnDN2hAScVbJknl1CKL10ys3BojYboeAqkWTbbKwTcCg/70u/3gkVt6IoNjar1Aa6NuqZQfTnYgFX0R+VnDZPv9Up/2xnhVC/T1sRLBg/9LegZSGOTQGnBxUswwAAAJFBn7JFETwr/wAAAwAAhtWDMmzQA38lYFiX89hXkZybr2kpVTB4DeVCYYc7nswABMdgA6JQ01gRTz/OrIpExlkwu4NTGtkMYcHLh85FrWAKgpSGE2mFW9eJKwO84UmQXWV2FKv7g2sFtECnjXoEXAMzLtM1SSaaJtotnWyJBUP/9XwlYt1WUbY+1Nl5R8Lc10eAAAAAlQGf02pCfwAAAwAATXcCLN5/5br0AAvXO/V/7StbW5+57ICQGCfVUJmamLZw+1+tOc8KyLsy43feohpC0hlFogUQtRgeCaNYCKt4x4OqjWylIzPkD13RhjCXHYS9wLZaM7CBjZNvJ23Ze94wvNYkiOBhex2y22UA46Ez7BK3b18eFk6LiKSdJoG0/hstKK2lSc9yNDgcAAAA40Gb10moQWiZTAhv//6nhAAAAwAAS7kHwNQiAodxJcmBBL7NgKW6+7c0hSFBCBdgG1K8JrDJcZm8wdaxWrfiz/jonj7PXsVXR+tMpEXyj6bn9KKIDkSeXvQ+CuJ7GKsy7D8KyHILJT/KON8YwzQ5zg5UGoJgbjj1s35YWd3jNKaUhq1R8XEx8IEVPhCA0ioYNh0rhQLMrnO9tjB1N6MCoOU4xoum73Wk4x245xbTSRuC0UbxOXz2crgM3Pn1fy3YGMZxf7Wp+rFQRxgPT2qCrvX3JU9Ai3Qhpbw2CRy1e6AzxhyFAAAAt0Gf9UURLCv/AAADAACHBmhs+3Dq8EiDIADjedHY02hhtxCxCrGeomeVPnSaWhsZb2kWvl+A+SmRxpykwyIYmlQjf/zoihGTJdGh1gdae0F7OYG+4wpupX5O4A/Hz5+CQUrhNXsXRyqiynHoWfQYaMF28XlIyi/58dpayH9c82RN+GdUSsD/5OY1ouZm9GhDFDYbPb0xthVNtvwQTca6Dpij45aXbU2J7ZNZGgYhrC1oiPbo+32q4AAAAHkBnhZqQn8AAAMAAE+trxPR/mad20jhtUlbZbgAcp7tFKU8YwUCp8o9P/ujoX7yc7tHktzJsQRUjaeA0RC/v+nRem30hGZj29BHC4xLcOnW62mlw2wPij0EJjFeJIisUmBdC1WIAgpO4992QZ4/EOjGbRo+Y4eMxYvhAAABCkGaG0moQWyZTAhv//6nhAAAAwAAS0fvW4diCnsC5ACWUBnK/ABZVIhFMJWpU77LsjQeem/b+Y/6PEVz0NEtqu+YAHm8Z5wVvI9bIqZ1k5CTMf2mWHnmiPkTH425R6ZvYwXtK7cgJXKIWnDijQgCQ9mXsdn+/dSbeJk4kC948VctKlWXlOe9Aqm5FJIQHXhu9M+yv40KkJrXw+n0jF/BkJQ8Slq0Kc8cmAkLDdxx6hQsVMj2W+7bgONJnUFbDwTgXvFf5AAHrkLTNVP4n3/ACKRmhC0Fj8khk8Wnufu6XMM9zU9Z8BhjlGvkGtQQsSAsZC/6bTXCDLIjLLbpFHrGPuhNkVU3qmSYVX9zAAAAsUGeOUUVLCv/AAADAACHBmhvbHgmjacmqHdVAkcqAFts+jv8D/6LmhoXZD4POhaZm9R4/y3DbJdPSpP+o/9cKfqvx5ZYdjpTbXIo2XZaeIAx4TxtAohRvIv3ilCh0ni86RqJSCRogVtTIvSAwHFs0d7Wqyh0NOo9f/rc5Ds7jpikkpjFK+ivGaTXteVzh8jlXg4dyS2IAnSw5ktakttEbqv/d8F8RTTOeeTVfsOIJJvRgAAAAIwBnlh0Qn8AAAMAAE+OsI5oAUxK5OYbVz2PLepJLGcs427MKtOwAhNsfx+3kTYTSr5BbT6e//A4VnbUZapuf+4mmDCwTWPDFKIOyQjhcv9wgMYMw0Ts42M33S5EtEmWcRaowSqaIznXlS6LMH0FsqvnwNeluu8+koTKDi0DEPUZXrWc4OqX+2nqauiykQAAAIMBnlpqQn8AAAMAAE0tGMSfeJHPvWAEmbBqd1F41VTnyF5mvwwNmncmQlwydQBTIOwAO5ugQT/SnrXeJlA30HmilK21pSWcl1nupFcx2UR+LlaJjibOCMr0nJijQcK4uRw7myoVOz1nppDvnOXHj5jDLaCFj3CCbWnZfk4DVIyegxNmIAAAAO1Bml9JqEFsmUwIb//+p4QAAAMAAEllEUQ4Shb/ZAAQlVmv+9uikYKge7b9likI0rZSW7h2Bil3HoqMeWglnsNjlnj6EANXxjwDLVPp6Hv6vB6T+R8+4YpkEsnhweesuxhGB0gpis83wxLCLH6aYgb8qhAzWcexyUZ3zabn96W15Y/t8P0miB0zp+pV+d4CD1WKWgwEgQskZ4pw16i1VvmcuIw6Esp9EakPB46yPXE9pDr2JhzMRH3YIPOtst1d4m8ZEm3f+FTwCNzOye4EVMBx/iRW7gdanzUBgdRIMh1B/RSO68RPcnajSd4oNI8AAACfQZ59RRUsK/8AAAMAAIcGZ92sezw11MGCHYAIXNpvl3m9t15WYSIM5VDgylXOkzbGbMPHeJ1WI6/qXY8aXM16x+mtGC4XLFnyH0D9A1EkmZ9+Oh3Kcva0ju0Z1ztKxTCCPnGvibNVeP88cuAZWP55LPWmz5oaXFBigbAZLPkOSadraWW8h5hWz6/bhHq11GLUAMun/h6bZCAuM+dZPM0jAAAAjAGenHRCfwAAAwAATXlwjwAczK/RlKAAHmpN3KIbG17VHcJRCa7UoUT/AH2A1+WJFkgzYEgYfTK7gU4pQR2WAOtQpRIyOHDmBt8dnS7Caztmzjw/mbWHKwZXH98qqJ+rwqYZE4WFKQgwGoPi6yqLz+UjiI/nRXbOk2hSVsWA0zTmg+NMUglV5stqIoJOAAAAVwGenmpCfwAAAwAATWTLwAcp8eIXN7+p9T5T/bf2mV1ah6Dv3ZpBcVbA2nz1FZcL9mdKrfOW2NLC/9fpmN3+rYegZDZnc0Zf99ZPX3efnYzCb6QzG98sswAAAMdBmoNJqEFsmUwIb//+p4QAAAMAAEmC3ufcY7WsU7qQAhT3mcr+waXPgdvAfZ/IE0sW1YzHxd5XWgb97U237LQeXKRoUTSHaUf+u8aS4XW3UwE8qomaz5LmYxysj506GMDxWnkKjlNRw6B91O/5/YFoAkreElsdefzDNuofIzHkOQF5SR21TrK3wfsTpZrw+BgcqNC4A03I407uD1oe7v1kvIQyi04V5d6/RwDBsSuI6WunRy2zxIOsCEjZcoo/5l5ARMqfWdNhAAAAjEGeoUUVLCv/AAADAACHBmfgiuyXDtndgAhc7PPa2Nhsfz2PtvE4WJO0to6bORWbsRiiYx9b9V997l4eXNH/dsRSTegcXh2wZusXv8CAIL3DgxYmRCHAE7rm8x2bAIvXaZYlS3gXaIGGrd5ul5qHRJ3liyXpIU2YyAe+YtYFOTfTVLFx1q45r7s6FatbAAAAcQGewHRCfwAAAwAATX/fwAcp8eIXN7+p8wDKHITjzYlK8/eUIgSX6wseNRAOjhGQJLgmkKemzFbvqMwwfjJ8wNyiMKVpqV5se69j9cYHVShoYflEDKgcrw8J5lKUVnM4RBZdLyPTg/pJERgzEkLfinBxAAAAewGewmpCfwAAAwAATTu7CJ+joA6wAbteC9bE5bgJlmzfVb+odMlUM3d3Hp5nYn22dJcjdaiEmcVCxh8nrNnaHRudjJp5JiMP1fxHVfIIYNX2EfuKLHLsyWVuyxa16Bpjerg73cMdzO3z3PyvJgxEjW1xyKeN42KDvLU05gAAAP9BmsdJqEFsmUwIb//+p4QAAAMAAEl21S9Zp3P0gA5y5BNikDskf8S38DUUTP/DgGHfnDYKLCWc4MptOeukpUD1XCvLHNGglg0bVGrNbGBrfXIX/D8rwvEcr1mgytlYiIxl8c4QRjnUf5B68mmeWikwnqe9xki7eVbYedEqFpHPt6lfU02aEFpuhDrjwZP9Itah4uEfc24PduRl5vfMFNwWr/7IVfOLZg4c+R6ISvAFQAcp1UU/a5NmZ6Nf/ktZfjg+dK7IzT7AB/w7WbNqz/AvAgQ5CEI5aUx+CvOylyPeFIYVyvoPA73BkACBq5WeYW2vKlF9YQKWzeFM4RMxXr0AAACvQZ7lRRUsK/8AAAMAAIcGaG0LXM0LeUNKCaRgNg0kAH8DYFqcjqazTht1qke3ia1yLsZwhba6QeO0DBclF3fCRn1AFPjY3GGjcr/+60s4vhA6VDybxzcR9JXvlBlv+3AzcurcP5Rt8MWkfXxGMIdBazUL8yZNwBJAvDSjntA4sqynziwBfTXvgyivMqnYj+QbCW4VbbOxC/c6W9xwprwnNcgW7ARW6D++1YUuzC7OgQAAAIYBnwR0Qn8AAAMAAFH1URxVcsOQAGic2cfQfP1QVF6mgp6zYuyiu5uOcdZ8zt4lhGgRlBE3NqdLPVRQIoixT7y0OiCs2+hbIHW82EAS2MsFQN2iKgq/VCFRfb7GgqMEHEjrN+sggJs/t6C6Wb5uy/pVJH4+5OLyF1rAIzAyh5s2e2JIr65hoQAAAH0BnwZqQn8AAAMAAFH89LKsQXndyAA/aYGJGdxHlQKO4cAVO+ir38sm4Ykfd4uE4LZaPKSZTO0U2PlzhpyD9DY3gz6jXATy0tyvW7JNGbe+Q/EmfVvZU5/KzF4S7/gX6EI29Tc1Ck+shn/UUlwPcAITrdT5raAG9Vs7FJVbmQAAAQRBmwpJqEFsmUwIb//+p4QAAAMAAEu+RdXKr63JVIAKk95m/Cpl5nfCU8VOJrg+BSZt9mHWbJplae6QOT/Ybkbse67zxXL+lLFTemcqUsjrbnmkBixRxIVimczKSCuRioHPJvAkUue203t9jNLHbEAMh3VKWfr1aIJ0Ey8PnIEvSfxtpZA17U1TjyojoAUeR4j4BDzIRT7o06FYahg/jGUEhf9nz07MT0zUzFvgod//k0joDxRy1jRYG0BinpLlpG3ryCBGiuqLAlrf4+dKIEuc+hbARkYolk4vrt+eaPVvSH3S0o6t2vKAdgGwv0xiUdMHvoO0uATLsOLOw6wbZAd7aKIzNAAAAJNBnyhFFSwr/wAAAwAAhwZobjg4xee8MwJjIk0vlZABj4UwMVZ6FnhM2D9sOGWacXwrcTrxmEEpOZAQoSyMiOzmpS4KmJQoZi8YgKhrE9FSkMg7NsIWqYsklv4Qe+gcWSu1C9UBZEyn2iUNt/obXI7JjifChoALUEJ1AR3Kv+BK/U4+rKhs1Amy641KKbIsrHRknxAAAACGAZ9JakJ/AAADAABQ5WZyt3+AJ9mNiAEQcyAAYVS6ybC8ExegXBGH6AjR/VD++8qVPeNuvLhxnejNi5XMkLrxDHbghC+R8MLzgqHHhTIQUT4EatMjnU9ziokl4gAbfcfTiStio7PpdKBa1s0tbK2j3bkdc160CoJrZTyaNS7CTD/9P0FrsP8AAADuQZtMSahBbJlMFEw3//6nhAAAAwAASW0TPl7cZACVfqqDbQtZPO4amxCeCqdwCsAEbxenuW6qX5T2cDhfU+/dviAVsTOSMLfc30iu1zB1FdTSygbsvdk/5g0MO5MTmPi0V+xlsN2PT5shJ1xOVn28GGqy/D6S0dXxYMAPck4KvCIKRSED8eSfTQQBD65Mj/vklhOt/UhseqfsKsK6zB/khosZ2PYlFu4ClpH5kl64tCRZr38wcHzhQJTMT7GdwEWzNw1wS6PYU/aEkfvzm2G3ReIyfRR/CJn8eSAMtOzH7NNKhxQ7RuA8bLoCW0izgAAAAGIBn2tqQn8AAAMAAFDla1g61WFOMU45E0QAdZ8eElaeVNjCqMx1DhMblflLwxdsMiFfl++GVt7QI3i2NWGA+e3o8hk/JiAeBp5hx+Z9ap7xaYW8l9Nt8nM+DPUXQxgpYOxXfAAAAOhBm29J4QpSZTAhv/6nhAAAAwAATbpvax2ycVHgI1JwzWdoV1C6/A/IMALZBZr/kn9lLpH8fTXwPSGCzYo/L6e/ukYCiVBV6Xn1fm1QDJkeeRNrua/9nJd2lTJCFKH5e//sOz9iCsVNtNGvXntvMl5QLIGhgpG5Z1CEDzHHWgFiKtPR4vJpDuoxOXUHb6m3YkmX+YcSzbYFXncbva77v3tdTkwFlC1ZyklxGx4qAr9CFl5/SXP2zMG/vholsgREc3GtokqM7ubLKfwupYtv8f+mFql1K72e0u7zkpiYArqdFPglYxrYLTlNAAAAfEGfjUU0TCv/AAADAACG+sgjVm7JK+TnQJdmz/jo1GjE8eRLFQAQ/F0cSPSEjxyjQmOPpLZAp+oIzcv/+ra3+gieme6Q1+nb3ZA16s5Yg0rhuf+z31taFiQ7Kycps4N/GJp6Jt0ndP7Vq627xiT98i8EUtJSoyI6pA4bhzEAAAB5AZ+uakJ/AAADAAAe/p3jNVlQm0ADnQAG1ESAwtYGbTNAx5zldyUvwmE7Rv5Sk+1UWsUGRjO4CT7u4jIYNtZGWxuKF3KSL2dgJnZ/PGgvdYoEmH0vmWC0nuhcJRSvEFQ+p7G7W8nWNs9Jgnv6VbEM5l0D+LTTezizqwAAASZBm7JJqEFomUwIb//+p4QAAAMAAE+AEw+84Y0SAWo+jMVEKizlgVLnyid/RjlU15fq+l4dOKWnsen27hyDKrj82HOxxfm6Tk4KvUcT6N3ryR1NWts/dSA5HFS02dJolj497PywrWZpDuNJjYYr838jhw4u+PPiF6AiL+Q8mNvjFG3s392aOJk6w4XqPoP8NLJcFHMkPsYdKSxAZhwiHC0K427BMMftUG2eZvj+oQWPeMVQfueR++fMuYkr8Umb67fhfZlyqvI1DqwCUUxMrcLft+tADvHHMC4zDmRfI+/anaYV4jfn0YTnLqireQvhhF0dPqpSnoWJ2Ljv03CVqYGAYIVNuavm1ib3v0bBFilXk+7jgZnsNVpBDzS9AOzutGmMtcnzMZMAAAB3QZ/QRREsK/8AAAMAAIcGaLT7lyiVOZg4ubFduPQsNrvLJ5udbgmYUt2Ov3lBghoADtDosf/xB2IhjP1MDRcdgAYXjnDyS1bcSV9FM1ZLoEL9pemf4vVO3CVvRjKy1LXG+LGQVaSXu+2kfZ3xeTeCntCPu0unqlYAAACEAZ/xakJ/AAADAABULxXgBuahCEvkd1a/s/vMgGYBWCsL6ujKtMWqazXl54wB0Z81Vtu/b7QrX7It/g/2ZjMVporgDInwYfC+AxStzA45DspcE91qsUQE3rtNxZOAnUS/70xffxCqjmRRmwkhk419qq4OCUsbdbVyL8+hzs3wIgyaofT1AAABFkGb9kmoQWyZTAhv//6nhAAAAwAAUbE2DRtkAVdEzle9x9sUBV4mB0ZLfkCOtqHoG9zNAyqTmNLwtsvYapVagUYaHqcBaLbK/63wv8qL+qRaKwNw3ELw2q7GLZLcmf+LDY+Sp0Q0tWEMGG3hAUQDjWb6jWSAgLdJeorCxFfVIbd/c0yhYwMGQcpkMy5DDApKPG2B8ZHvV4cyNGv5gFVd+v6olPPM4rNg9AlxjGhr7/7tJRZpSNO1AbSfin2Q1QMJO2M8M3zF/v7XZCcgSfQcSs1KzFM1Dz4ZTmJkCyghIPKWk5c9s64JSiD6KWiam6p6jpU4DB7Xk7Gm6Jd5qyYPRBzoUfSBUSHJvUVEFSKkLn+FIzv4l27OAAAAt0GeFEUVLCv/AAADAACHBmje/6c4Rcr/FMFhHjoANqOq+rtJYh3jXJtQMgGIdhN7d2kb4ij3BHQWiG0lmA9CH4EN4+y4UOkdVeMTPczJZ23IuMBuU+T2LP2mDBzlB5Z/RJRtU7psMCKuAbZRWEezgRxLdm3KLLRAlFESJ+olIVGp5OW/3FXO4Y3H8WM8XPqUjtWUo0HnUSH8JtSsVm5mdzB+ceDNOEo1NWeMwdCuAIEb6V2lEUsCQAAAAHgBnjN0Qn8AAAMAAFZRMWFSHgojerIpO4rSITgA2awMf3XRhbPwEqxjDqi5E/H+UXlfyfpWAhxKKFFKncwT9LKYkRnOIY6NUENC5vn0lmDvNMe6/VycDbEMj5IWoKFdyxovGBwtWgSvmNYtUQyZyOcAzFVNjKC1et0AAACDAZ41akJ/AAADAABWbbRTpmFCS4AIfnNO22kV/f7TdSTLNjjH/Xvjr90FeC6NE9a6kH2/aRGM7GOMpGPuNp+B4k/SaEwsZDcTutkEAVpUhQjqQOz0XcXr5+O8a2pzZbFTMQ/R98dHDvZMhI48I2/g2i+zvZPP0DqrRYTOgf/lbTU0v+wAAAFkQZo6SahBbJlMCG///qeEAAADAABR2ZR6+NkAJmRM5X30cUvOafDijVCcnL0HuyYxTIxsw4roLH0q1wOjqSqCUTw30BbhT027eiqZSEQXwE/5ywF1UqtU96OYXTQFzo82MqPac3U86csKgiKEeTvFHtlXLjFhzvoHhme3VcyeIew1boU6TUwJ/Q99OLfGaHg1949rPdInWbQ6C5hpVqWY+HIF9+4h+VZGWgwQKGgNlVELao9zcVR7WQWDO5EXGPbu1VZgecIPIVx+CaoiBw30oDx8tfDVt/rBpyT2TIJbbh5HwhpYv/mX9FxMqry2XVSmvo7VDttFUhKO+jRQyUI2UZC0wKAX8cQF/Ooq1oVQW44B9+IFyuXHd2ZmkUjiFRYVQFbEUdgEDY4OxtF/hgjlfJLUHOZUQUUy4ebq8iqyNNjEh6kDJl5PYEz8kIj7TI7KyF/mLDK2D1ifyBQEV66n9tx5V5sAAACuQZ5YRRUsK/8AAAMAAIcGaP4VTEytm9Ea8+35jIUDJ3+dtGiUj5u3kPAA3qOur+gg3aXi08oHXTnqXZagHMhKeVW/NTg3nuVReN83kcvqrkoNUf0UjissVfa2OlipWYT4tqN6zX050Ac8/cfdD9//ooT4TIgkIasdY1+vhz8j+Rcd86xE//XBpQVmArMMJ957tlfT3Ckl2m1ZlR/D45W+z321J63kQtu3kucbnpUhAAAAfwGed3RCfwAAAwAAVm9jGhAAJxp1kfytIddqr73nIyjEY8m2rdmtB2PtTK52ttVVS6/GuN4fKqKWhhvLLHwiax6qRHLDWgAlI1bIAexRVWh33cErM/2QVd1TWSx5fuxjfulN6DfEoIgHoqxm+xAcWoB94sJF+h9UUhLKXJMRr/AAAACHAZ55akJ/AAADAABWa1EBIABBqdYZ1RzUznP860zjsA3F34eE/ZvBRwZ1gLQzD+D+akIr40ZjQokMsWEVydBgxacwcFQtKTTWDXz5P+gm+q3BaZg6tj2Y9rN6JbASabotwSAHSAgYSidwScuxdR9UzljzUw6fWB7w+wSxdZ6t7fpwAk5wfMeBAAAAsUGafkmoQWyZTAhv//6nhAAAAwAAUdfqpACWQfa/nNEXU3JtP5dpN1BmXLKk7HZzZyLQQXk3uCo5MYMUZnosWjJc+e+ja8GsHYJSAihOFpzurhj8BC3POwZpGYzG6gRHcL2YIB//nCEiu53ZGC4lT0OoYlefr+POJjynbTJacgeBoeycnFd4z6budCOxnCXqHmfcnFfvSaifnxrifCsU+LR1FG/n9C43q1h8ACD4begxcAAAAKFBnpxFFSwr/wAAAwAAhwZo2fl/RUoAIRkvt6iYDD/0lbce+v7Br4zj0qNckxI16c8OLHGu4s1ROexcXmvDwe7CRcGUmlfynKg3xO5iZ9q6xjNwEk3+tAx5vwGmdL4CXOwNiPFU8EpgaUQxfZ0fJpzYhFUKJD5j0wmle0ADzdu6keEX1lewBm1f7CWqmgZKle19a+/n0+DiNUruNfst70FRwQAAAD0Bnrt0Qn8AAAMAAFZSs+ADh5v1k2fa2jPyx8tktExHsD0wHatrPh52YwVj6kpf+AQui7rnG8HxcUtRlfIlAAAAYgGevWpCfwAAAwAAVpteADbQ6D3SfY5+kwkww2Hlwv5gdB9liR537+LbwWxLCzvGHkoKuu+B5Ekzv5CaRGDUSTxNJ2amK4RoQzmhF3zkMgdjIf4SJw+qOJrDSZIHAlwD+15wAAAA30GaokmoQWyZTAhn//6eEAAAAwABPe7QlMyABa42Q5Fu4LXQHm3smL6R4NU6Bkjf+5416j947f/Ac9vG9pZjoZsq9dTALs7nudsKpIrzHBaGNnBEA76D9IdFksHt+1ai/7RoVVtyvwim+F2d8kFLH5LVGzKv0HbDooyMkrQwGMQlBXJgfgotvaYtUL8w8nmMFmcG1ffMa/f3RreuLcUXwCPypZD2r3X289qPyW9zgnn1gieivtC4QPlVU0p3aW9farsX7zwcsMwNXzB0HgPTRMlYIr4KdWeKuwlonixRFXAAAACjQZ7ARRUsK/8AAAMAAIcGaP84GpkgATjkdbp3n8T1NTg4Xy6ZmgmtIKw3RCHrQ4MkRymHxy+HI92fvKanpvB+PR8Q36yDap2bIQWTQmgi7RaNQFSLvqoI6uKKlejAj3BQn5kF4PlAaF4BnLRlMfBCO1xeOhyUtg3tjOxk6o7VkOobh7+MUlwUTgVBUBr5o67Av7wW7WJEZO02kSAWsutyXpkC4wAAAH4Bnv90Qn8AAAMAAFYxkY23CAAOs8gE1zv689gjxyCYuzdpgWaxDhdGuKtATqwOXOOb2WG+ks5U3s/ZH9UIoYAeTG0Y7UakpHPpAA8pHsdtGCxMtRBupUPaPdiE3bjkkHyNf9tFywlK3z8n/BfXH5Pa9wVKeb4Ri+jISaeBZ4AAAACBAZ7hakJ/AAADAABWa5FHgBB+F0TEZxCdhkkl4Zo6/ra0YOnvxTaVOYgeENVjLgancKct5OziYObpeucWYKC9cWPxyxOsloVH4OQTx4WpKPXDdofLoD4FAEwrI+wkyvEisCU2pADbZrtr8DoQDODWZhlhKoej+khFYrvmJH/W61OtAAAAx0Ga5kmoQWyZTAhf//6MsAAAAwABQuZcebHaGPAAiDQ7Ki1zfIKPsvtH7sfM9FSddyC9VzSMTUc8it7F7ogFXheci8wHtSTo9utfR9Kny9bMuYgszuN76LmNG2MeYeGYTOaz+t/S9WX9/Ln6qa3/AuTv2Xv/hRNB8bW/Albc9po71i8w+08CT606VA22cnr2UiX3z1FtQSqYCUrj2WvphsoaKc0hBAjXXcHm+djMh/fJ2jUGj6TN9Ur1NIk7t9gkXx7yRbjuW4AAAACLQZ8ERRUsK/8AAAMAAIcGaNdN9WDzRyGtpInoALkA5wLpvyVFP/dMhbqk+V5iJzWOHzLuC7scx72VlNiRwEbGxiRDSZ58pjIOVhSiEUnMBgTr5Sk2E2sqEbS+/i8SZuaPOR3dt2GnM2XYAzhPcoir8FYXBU9GY2zIsSe0C9yM0i9pFtpLgjE/bji7QQAAAIABnyN0Qn8AAAMAAFZOq53gASeLhd2QhoiU3obQb+uvUGi9QJw2lDKhqCEyxhfAz1TrbEiEeWMMZoaHFP2jcZxCVGna0DnplpaNyZnWLFuyjM4eDZCgQHzf1NqQEiG9YpHx7cuPM0lgudM9/J0aqtRgonhaCIAuolaGvhEaLe7xwQAAAH0BnyVqQn8AAAMAAFVnpGtAWNwG6AB2QvYWgOOF0pWuKUWkUN8MSjYiexg2/w9V9cwxHCDjVt4wAEoQ9Dia6cFUt+ysstDKrHr+AxJdygwgESCP3I0c/mOAglwXnCNT9d6RuKlKad24IuTh/KHfJ3MzQhf+2sEQJMW9L/KdYQAAAI9BmyhJqEFsmUwUTCf//fEAAAMAAAubpxRYL2cQG+37Fd2JJIMH8AgA6zB3Da7G7TcOyFpPRgkjjvpG7CdSz2bAyqjbLFZheQxuT//GDOqw4vg5VGie0xK5tkAvGJi9tz2ZWlmCHuTGgCv4Qjukgys5iNuuZxWao3VODo+eB4Rdg/gnjbydFrjbb/nhbqnt8QAAAJIBn0dqQn8AAAMAAFP2lZ+cMABtRMwy7dm/+w2SXzJdXwvCyCWcvKfgzYckGmq70yHGEgGNmR42d10uEruo4y+o1W80SUYxP0CHfNZaD8ErgBThYNW17BEcB66peE883VqFDvz3ByRQiTEDKFghGDil6lAoomUMYNn/HWIiLWvsZwQGVBwHc9tRXxwKZh8zKfJGMAAADEdtb292AAAAbG12aGQAAAAAAAAAAAAAAAAAAAPoAAAaLAABAAABAAAAAAAAAAAAAAAAAQAAAAAAAAAAAAAAAAAAAAEAAAAAAAAAAAAAAAAAAEAAAAAAAAAAAAAAAAAAAAAAAAAAAAAAAAAAAAAAAAACAAALcXRyYWsAAABcdGtoZAAAAAMAAAAAAAAAAAAAAAEAAAAAAAAaLAAAAAAAAAAAAAAAAAAAAAAAAQAAAAAAAAAAAAAAAAAAAAEAAAAAAAAAAAAAAAAAAEAAAAACWAAAAZAAAAAAACRlZHRzAAAAHGVsc3QAAAAAAAAAAQAAGiwAAAQAAAEAAAAACultZGlhAAAAIG1kaGQAAAAAAAAAAAAAAAAAADwAAAGSAFXEAAAAAAAtaGRscgAAAAAAAAAAdmlkZQAAAAAAAAAAAAAAAFZpZGVvSGFuZGxlcgAAAAqUbWluZgAAABR2bWhkAAAAAQAAAAAAAAAAAAAAJGRpbmYAAAAcZHJlZgAAAAAAAAABAAAADHVybCAAAAABAAAKVHN0YmwAAACYc3RzZAAAAAAAAAABAAAAiGF2YzEAAAAAAAAAAQAAAAAAAAAAAAAAAAAAAAACWAGQAEgAAABIAAAAAAAAAAEAAAAAAAAAAAAAAAAAAAAAAAAAAAAAAAAAAAAAAAAAAAAY//8AAAAyYXZjQwFkAB7/4QAZZ2QAHqzZQJgz5eEAAAMAAQAAAwA8DxYtlgEABmjr48siwAAAABhzdHRzAAAAAAAAAAEAAADJAAACAAAAABRzdHNzAAAAAAAAAAEAAAABAAAGIGN0dHMAAAAAAAAAwgAAAAEAAAQAAAAAAQAACgAAAAABAAAEAAAAAAEAAAAAAAAAAQAAAgAAAAABAAAGAAAAAAEAAAIAAAAAAQAABAAAAAABAAAKAAAAAAEAAAQAAAAAAQAAAAAAAAABAAACAAAAAAEAAAoAAAAAAQAABAAAAAABAAAAAAAAAAEAAAIAAAAAAQAACgAAAAABAAAEAAAAAAEAAAAAAAAAAQAAAgAAAAABAAAKAAAAAAEAAAQAAAAAAQAAAAAAAAABAAACAAAAAAEAAAgAAAAAAgAAAgAAAAABAAAKAAAAAAEAAAQAAAAAAQAAAAAAAAABAAACAAAAAAEAAAoAAAAAAQAABAAAAAABAAAAAAAAAAEAAAIAAAAAAQAACgAAAAABAAAEAAAAAAEAAAAAAAAAAQAAAgAAAAABAAAKAAAAAAEAAAQAAAAAAQAAAAAAAAABAAACAAAAAAEAAAoAAAAAAQAABAAAAAABAAAAAAAAAAEAAAIAAAAAAQAACgAAAAABAAAEAAAAAAEAAAAAAAAAAQAAAgAAAAABAAAKAAAAAAEAAAQAAAAAAQAAAAAAAAABAAACAAAAAAEAAAoAAAAAAQAABAAAAAABAAAAAAAAAAEAAAIAAAAAAQAACgAAAAABAAAEAAAAAAEAAAAAAAAAAQAAAgAAAAABAAAKAAAAAAEAAAQAAAAAAQAAAAAAAAABAAACAAAAAAEAAAgAAAAAAgAAAgAAAAABAAAKAAAAAAEAAAQAAAAAAQAAAAAAAAABAAACAAAAAAEAAAoAAAAAAQAABAAAAAABAAAAAAAAAAEAAAIAAAAAAQAACgAAAAABAAAEAAAAAAEAAAAAAAAAAQAAAgAAAAABAAAGAAAAAAEAAAIAAAAAAQAACgAAAAABAAAEAAAAAAEAAAAAAAAAAQAAAgAAAAABAAAKAAAAAAEAAAQAAAAAAQAAAAAAAAABAAACAAAAAAEAAAoAAAAAAQAABAAAAAABAAAAAAAAAAEAAAIAAAAAAQAACgAAAAABAAAEAAAAAAEAAAAAAAAAAQAAAgAAAAABAAAKAAAAAAEAAAQAAAAAAQAAAAAAAAABAAACAAAAAAEAAAoAAAAAAQAABAAAAAABAAAAAAAAAAEAAAIAAAAAAQAACgAAAAABAAAEAAAAAAEAAAAAAAAAAQAAAgAAAAABAAAKAAAAAAEAAAQAAAAAAQAAAAAAAAABAAACAAAAAAEAAAYAAAAAAQAAAgAAAAABAAAEAAAAAAEAAAoAAAAAAQAABAAAAAABAAAAAAAAAAEAAAIAAAAAAQAACgAAAAABAAAEAAAAAAEAAAAAAAAAAQAAAgAAAAABAAAEAAAAAAEAAAoAAAAAAQAABAAAAAABAAAAAAAAAAEAAAIAAAAAAQAABgAAAAABAAACAAAAAAEAAAoAAAAAAQAABAAAAAABAAAAAAAAAAEAAAIAAAAAAQAABgAAAAABAAACAAAAAAEAAAYAAAAAAQAAAgAAAAABAAAGAAAAAAEAAAIAAAAAAQAABgAAAAABAAACAAAAAAEAAAgAAAAAAgAAAgAAAAABAAAIAAAAAAIAAAIAAAAAAQAACgAAAAABAAAEAAAAAAEAAAAAAAAAAQAAAgAAAAABAAAKAAAAAAEAAAQAAAAAAQAAAAAAAAABAAACAAAAAAEAAAoAAAAAAQAABAAAAAABAAAAAAAAAAEAAAIAAAAAAQAACgAAAAABAAAEAAAAAAEAAAAAAAAAAQAAAgAAAAABAAAIAAAAAAIAAAIAAAAAAQAABgAAAAABAAACAAAAAAEAAAgAAAAAAgAAAgAAAAABAAAIAAAAAAIAAAIAAAAAAQAACgAAAAABAAAEAAAAAAEAAAAAAAAAAQAAAgAAAAABAAAKAAAAAAEAAAQAAAAAAQAAAAAAAAABAAACAAAAAAEAAAoAAAAAAQAABAAAAAABAAAAAAAAAAEAAAIAAAAAAQAACgAAAAABAAAEAAAAAAEAAAAAAAAAAQAAAgAAAAABAAAKAAAAAAEAAAQAAAAAAQAAAAAAAAABAAACAAAAAAEAAAYAAAAAAQAAAgAAAAAcc3RzYwAAAAAAAAABAAAAAQAAAMkAAAABAAADOHN0c3oAAAAAAAAAAAAAAMkAABPBAAACSgAAAMsAAACLAAAAcAAAANUAAACVAAAAwgAAAPUAAACRAAAAcQAAAGcAAADoAAAAtQAAAIAAAACBAAAA5gAAAIIAAABYAAAAYQAAAL4AAABiAAAAZgAAAHAAAADeAAAAjQAAAIgAAADUAAAAcAAAAF4AAAB1AAAA3gAAAFEAAABbAAAAIQAAAB8AAAB+AAAAQQAAAC8AAAA1AAAATwAAACMAAAAgAAAAnwAAAEUAAAAjAAAAJQAAAMcAAABjAAAAMwAAAFMAAACzAAAAKwAAADUAAABpAAAAlgAAAF8AAAA3AAAAMwAAAHQAAABRAAAAOAAAACMAAAD/AAAAhQAAAFwAAABTAAAAPAAAAFcAAAArAAAAtQAAAF8AAAAqAAAAZgAAAOIAAACTAAAASQAAAGkAAAECAAAAsQAAAGcAAACOAAABJAAAAKAAAAEQAAAAqAAAAIwAAACKAAAA+AAAAMEAAACGAAAAiwAAANUAAAB9AAAAiQAAACAAAACpAAAAkgAAAG0AAAB1AAAAwwAAAK8AAACLAAAAjAAAAP4AAACyAAAAfAAAAIAAAADqAAAAqwAAAIUAAACaAAABEQAAAMAAAACBAAAAkAAAAP8AAACIAAABIwAAAVkAAADFAAAArgAAAJwAAAEsAAAAnwAAAJwAAAB8AAAA7gAAAHUAAACSAAAAaQAAAHIAAADjAAAAYgAAAO4AAAClAAAAgwAAAHEAAAD5AAAAiwAAAQcAAACgAAABCgAAAKUAAAD4AAAAdwAAAPcAAACVAAAAmQAAAOcAAAC7AAAAfQAAAQ4AAAC1AAAAkAAAAIcAAADxAAAAowAAAJAAAABbAAAAywAAAJAAAAB1AAAAfwAAAQMAAACzAAAAigAAAIEAAAEIAAAAlwAAAIoAAADyAAAAZgAAAOwAAACAAAAAfQAAASoAAAB7AAAAiAAAARoAAAC7AAAAfAAAAIcAAAFoAAAAsgAAAIMAAACLAAAAtQAAAKUAAABBAAAAZgAAAOMAAACnAAAAggAAAIUAAADLAAAAjwAAAIQAAACBAAAAkwAAAJYAAAAUc3RjbwAAAAAAAAABAAAAMAAAAGJ1ZHRhAAAAWm1ldGEAAAAAAAAAIWhkbHIAAAAAAAAAAG1kaXJhcHBsAAAAAAAAAAAAAAAALWlsc3QAAAAlqXRvbwAAAB1kYXRhAAAAAQAAAABMYXZmNTcuODMuMTAw\" type=\"video/mp4\" />\n",
              "             </video>"
            ],
            "text/plain": [
              "<IPython.core.display.HTML object>"
            ]
          },
          "metadata": {
            "tags": []
          }
        }
      ]
    },
    {
      "cell_type": "markdown",
      "metadata": {
        "id": "0E68j0A5lwmr"
      },
      "source": [
        "### Задание 1:\n",
        "В среде MountainCar-v0 мы хотим, чтобы машина достигла флага. Давайте решим эту задачу, не используя обучение с подкреплением. Модифицируйте код функции act() ниже для выполнения этого задания. Функция получает на вход состояние среды и должна вернуть действие."
      ]
    },
    {
      "cell_type": "code",
      "metadata": {
        "id": "65_fcmjulwmr"
      },
      "source": [
        "def act(s):\n",
        "    # список возможных действий\n",
        "    left, stop, right = 0, 1, 2\n",
        "    \n",
        "    # позиция и скорость\n",
        "    position, velocity = s\n",
        "    # пример: можем попробовать ехать только влево\n",
        "    # action = right\n",
        "    ####### Здесь ваш код ########\n",
        "    if velocity < 0:\n",
        "        action = left\n",
        "    else:\n",
        "        action = right\n",
        "    ##############################\n",
        "    return action"
      ],
      "execution_count": null,
      "outputs": []
    },
    {
      "cell_type": "markdown",
      "metadata": {
        "id": "mw1YyFB2lwmr"
      },
      "source": [
        "Проверяем решение:"
      ]
    },
    {
      "cell_type": "code",
      "metadata": {
        "colab": {
          "base_uri": "https://localhost:8080/",
          "height": 438
        },
        "id": "39BSkqsqlwmr",
        "outputId": "369afabe-60fa-4eab-a08a-8b9a941eb0fa"
      },
      "source": [
        "env = gym.wrappers.TimeLimit(gym.make(\"MountainCar-v0\"), max_episode_steps=250)\n",
        "env = gym.wrappers.Monitor(env, \"./video\", force=True)\n",
        "\n",
        "# проводим инициализацию и запоминаем начальное состояние\n",
        "s = env.reset()\n",
        "done = False\n",
        "\n",
        "while not done:\n",
        "    # выполняем действие, получаем s, r, done, info\n",
        "    s, r, done, _ = env.step(act(s))\n",
        "    \n",
        "if s[0] > 0.47:\n",
        "    print(\"Принято!\")\n",
        "else:\n",
        "    print(\"\"\"Исправьте функцию выбора действия!\"\"\")\n",
        "\n",
        "\n",
        "env.close()\n",
        "show_video()"
      ],
      "execution_count": null,
      "outputs": [
        {
          "output_type": "stream",
          "text": [
            "Принято!\n"
          ],
          "name": "stdout"
        },
        {
          "output_type": "display_data",
          "data": {
            "text/html": [
              "<video alt=\"test\" autoplay \n",
              "                loop controls style=\"height: 400px;\">\n",
              "                <source src=\"data:video/mp4;base64,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\" type=\"video/mp4\" />\n",
              "             </video>"
            ],
            "text/plain": [
              "<IPython.core.display.HTML object>"
            ]
          },
          "metadata": {
            "tags": []
          }
        }
      ]
    },
    {
      "cell_type": "markdown",
      "metadata": {
        "id": "UM7vcYORuQJ1"
      },
      "source": [
        "## 2. Crossentropy Method\n",
        "\n",
        "В этой пункте мы посмотрим на то, как решить задачи RL с помощью метода crossentropy.\n",
        "\n",
        "Рассмотрим пример с задачей Taxi [Dietterich, 2000]. "
      ]
    },
    {
      "cell_type": "code",
      "metadata": {
        "colab": {
          "base_uri": "https://localhost:8080/"
        },
        "id": "i5yU3RZuuQJ2",
        "outputId": "134dc9d6-4035-45b9-a3d2-3a97b8b263cf"
      },
      "source": [
        "import numpy as np\n",
        "import matplotlib.pyplot as plt\n",
        "%matplotlib inline\n",
        "import gym\n",
        "\n",
        "env = gym.make(\"Taxi-v3\")\n",
        "env.reset()\n",
        "env.render()"
      ],
      "execution_count": null,
      "outputs": [
        {
          "output_type": "stream",
          "text": [
            "+---------+\n",
            "|\u001b[34;1mR\u001b[0m: | : :\u001b[35mG\u001b[0m|\n",
            "| :\u001b[43m \u001b[0m| : : |\n",
            "| : : : : |\n",
            "| | : | : |\n",
            "|Y| : |B: |\n",
            "+---------+\n",
            "\n"
          ],
          "name": "stdout"
        }
      ]
    },
    {
      "cell_type": "code",
      "metadata": {
        "colab": {
          "base_uri": "https://localhost:8080/"
        },
        "id": "Xyi1DDjQuQJ8",
        "outputId": "39a4685a-b8e0-4993-ba2c-26be2200aede"
      },
      "source": [
        "n_states  = env.observation_space.n\n",
        "n_actions = env.action_space.n  \n",
        "\n",
        "print(f\"состояний: {n_states} действий: {n_actions}\")"
      ],
      "execution_count": null,
      "outputs": [
        {
          "output_type": "stream",
          "text": [
            "состояний: 500 действий: 6\n"
          ],
          "name": "stdout"
        }
      ]
    },
    {
      "cell_type": "markdown",
      "metadata": {
        "id": "hR-L-rHquQKA"
      },
      "source": [
        "В этот раз нашей стратегией будет вероятностной распределение. \n",
        "\n",
        "$\\pi(s,a) = P(a|s)$\n",
        "\n",
        "Для задачи такси мы можем использовать таблицу: \n",
        "\n",
        "policy[s,a] = P(выбрать действие a | в состоянии s)\n",
        "\n",
        "Создадим \"равномерную\" стратегию в виде двумерного массива с \n",
        "равномерным распределением по действиям и сгенерируем игровую сессию с такой стратегией"
      ]
    },
    {
      "cell_type": "code",
      "metadata": {
        "id": "sVBlXo-huQKB"
      },
      "source": [
        "def initialize_policy(n_states, n_actions):\n",
        "    ####### Здесь ваш код ########\n",
        "    policy = np.full((n_states, n_actions), 1. / n_actions)\n",
        "    ##############################\n",
        "    return policy\n",
        "\n",
        "policy = initialize_policy(n_states, n_actions)"
      ],
      "execution_count": null,
      "outputs": []
    },
    {
      "cell_type": "code",
      "metadata": {
        "id": "-xqVJHT4uQKE"
      },
      "source": [
        "assert type(policy) in (np.ndarray, np.matrix)\n",
        "assert np.allclose(policy, 1./n_actions)\n",
        "assert np.allclose(np.sum(policy, axis=1), 1)"
      ],
      "execution_count": null,
      "outputs": []
    },
    {
      "cell_type": "markdown",
      "metadata": {
        "id": "iDx_ek7vuQKH"
      },
      "source": [
        "### Генерация сессий взаимодейтсвия со средой.\n",
        "\n",
        "Мы будем запоминать все состояния, действия и вознаграждения за эпизод."
      ]
    },
    {
      "cell_type": "code",
      "metadata": {
        "id": "QlsAeF7EuQKI"
      },
      "source": [
        "def generate_session(env, policy, t_max=10**4):\n",
        "    \"\"\"\n",
        "    Игра идет до конца эпизода или до t_max шагов в окружении. \n",
        "    :param policy: [n_states, n_actions] \n",
        "    :returns: states - список состояний, actions - список действий, total_reward - итоговое вознаграждение\n",
        "    \"\"\"\n",
        "    states, actions = [], []\n",
        "    total_reward = 0.\n",
        "\n",
        "    s = env.reset()\n",
        "\n",
        "    for t in range(t_max):\n",
        "        # Подсказка: вы можете использовать np.random.choice для сэмплирования\n",
        "        # https://numpy.org/doc/stable/reference/random/generated/numpy.random.choice.html\n",
        "        # a = \n",
        "        ####### Здесь ваш код ########\n",
        "        a = np.random.choice(n_actions, p=policy[s])\n",
        "        ##############################\n",
        "        new_s, r, done, info = env.step(a)\n",
        "\n",
        "        # Record information we just got from the environment.\n",
        "        states.append(s)\n",
        "        actions.append(a)\n",
        "        total_reward += r\n",
        "\n",
        "        s = new_s\n",
        "        if done:\n",
        "            break\n",
        "\n",
        "    return states, actions, total_reward"
      ],
      "execution_count": null,
      "outputs": []
    },
    {
      "cell_type": "code",
      "metadata": {
        "id": "HM2-QI3UuQKL"
      },
      "source": [
        "s, a, r = generate_session(env, policy)\n",
        "assert type(s) == type(a) == list\n",
        "assert len(s) == len(a)\n",
        "assert type(r) in [float, np.float]"
      ],
      "execution_count": null,
      "outputs": []
    },
    {
      "cell_type": "code",
      "metadata": {
        "colab": {
          "base_uri": "https://localhost:8080/",
          "height": 282
        },
        "id": "gWqyUSLJuQKP",
        "outputId": "7cf6419a-58e5-408f-951d-2ac93742403b"
      },
      "source": [
        "# посмотрим на изначальное распределение вознаграждения\n",
        "import matplotlib.pyplot as plt\n",
        "%matplotlib inline\n",
        "\n",
        "sample_rewards = [generate_session(env, policy, t_max=1000)[-1] for _ in range(200)]\n",
        "\n",
        "plt.hist(sample_rewards, bins=20)\n",
        "plt.vlines([np.percentile(sample_rewards, 50)], [0], [100], label=\"50'th percentile\", color='green')\n",
        "plt.vlines([np.percentile(sample_rewards, 90)], [0], [100], label=\"90'th percentile\", color='red')\n",
        "plt.legend()"
      ],
      "execution_count": null,
      "outputs": [
        {
          "output_type": "execute_result",
          "data": {
            "text/plain": [
              "<matplotlib.legend.Legend at 0x7f2b7b9083d0>"
            ]
          },
          "metadata": {
            "tags": []
          },
          "execution_count": 14
        },
        {
          "output_type": "display_data",
          "data": {
            "image/png": "[encoded data removed]",
            "text/plain": [
              "<Figure size 432x288 with 1 Axes>"
            ]
          },
          "metadata": {
            "tags": [],
            "needs_background": "light"
          }
        }
      ]
    },
    {
      "cell_type": "markdown",
      "metadata": {
        "id": "hUDOpKxHuQKS"
      },
      "source": [
        "### Реализация метода crossentropy  \n",
        "\n",
        "Наша задача - выделить лучшие действия и состояния, т.е. такие, при которых было лучшее вознаграждение:"
      ]
    },
    {
      "cell_type": "code",
      "metadata": {
        "id": "FGIweAi5uQKT"
      },
      "source": [
        "def select_elites(states_batch, actions_batch, \n",
        "                  rewards_batch, percentile=50):\n",
        "    \"\"\"\n",
        "    Выбирает состояния и действия с заданным перцентилем (rewards >= percentile)\n",
        "    :param states_batch: list of lists of states, states_batch[session_i][t]\n",
        "    :param actions_batch: list of lists of actions, actions_batch[session_i][t]\n",
        "    :param rewards_batch: list of rewards, rewards_batch[session_i]\n",
        "    \n",
        "    :returns: elite_states, elite_actions - одномерные \n",
        "    списки состояния и действия, выбранных сессий\n",
        "    \"\"\"\n",
        "    # s_{t+1}\n",
        "    # s_0, ..., s_t\n",
        "    # a_0, ..., a_t\n",
        "    # нужно найти порог вознаграждения по процентилю\n",
        "    # reward_threshold =\n",
        "    ####### Здесь ваш код ########\n",
        "    # rewards_batch = rewards_batch[session_i]  # \n",
        "    # [-100, -20, 20, ]\n",
        "    # states_batch = [[s1, s2, s3], [...], [...]]\n",
        "    # actions_batch = [[a2, a3, a4], [...], [...]]\n",
        "    reward_threshold = np.percentile(rewards_batch, percentile)\n",
        "    ##############################\n",
        "    \n",
        "    \n",
        "    # в соответствии с найденным порогом - отобрать \n",
        "    # подходящие состояния и действия\n",
        "    # elite_states = \n",
        "    # elite_actions =\n",
        "    elite_states = []\n",
        "    elite_actions = [] \n",
        "    ####### Здесь ваш код ########\n",
        "    for index, reward in enumerate(rewards_batch):\n",
        "        if reward >= reward_threshold:\n",
        "            elite_states += states_batch[index]\n",
        "            elite_actions += actions_batch[index]\n",
        "    ##############################\n",
        "    \n",
        "    return elite_states, elite_actions"
      ],
      "execution_count": null,
      "outputs": []
    },
    {
      "cell_type": "code",
      "metadata": {
        "colab": {
          "base_uri": "https://localhost:8080/"
        },
        "id": "Q34NZBHHuQKW",
        "outputId": "73236c94-014f-4417-b8c4-1d6135ecd92c"
      },
      "source": [
        "states_batch = [\n",
        "    [1, 2, 3],     # game1\n",
        "    [4, 2, 0, 2],  # game2\n",
        "    [3, 1],        # game3\n",
        "]\n",
        "\n",
        "actions_batch = [\n",
        "    [0, 2, 4],     # game1\n",
        "    [3, 2, 0, 1],  # game2\n",
        "    [3, 3],        # game3\n",
        "]\n",
        "rewards_batch = [\n",
        "    3,  # game1\n",
        "    4,  # game2\n",
        "    5,  # game3\n",
        "]\n",
        "\n",
        "test_result_0 = select_elites(states_batch, actions_batch, rewards_batch, percentile=0)\n",
        "test_result_30 = select_elites(states_batch, actions_batch, rewards_batch, percentile=30)\n",
        "test_result_90 = select_elites(states_batch, actions_batch, rewards_batch, percentile=90)\n",
        "test_result_100 = select_elites(states_batch, actions_batch, rewards_batch, percentile=100)\n",
        "\n",
        "assert np.all(\n",
        "    test_result_0[0] == [1, 2, 3, 4, 2, 0, 2, 3, 1]) \\\n",
        "       and np.all(\n",
        "    test_result_0[1] == [0, 2, 4, 3, 2, 0, 1, 3, 3]), \\\n",
        "    \"Для процентиля 0 необходимо выбрать все состояния \" \\\n",
        "    \"и действия в хронологическом порядке\"\n",
        "\n",
        "assert np.all(test_result_30[0] == [4, 2, 0, 2, 3, 1])\\\n",
        "   and np.all(test_result_30[1] == [3, 2, 0, 1, 3, 3]), \\\n",
        "    \"Для процентиля 30 необходимо выбрать \" \\\n",
        "    \"состояния/действия из [3:]\"\n",
        "assert np.all(test_result_90[0] == [3, 1]) and \\\n",
        "       np.all(test_result_90[1] == [3, 3]), \\\n",
        "    \"Для процентиля 90 необходимо выбрать состояния \" \\\n",
        "    \"действия одной игры\"\n",
        "assert np.all(test_result_100[0] == [3, 1]) and \\\n",
        "       np.all(test_result_100[1] == [3, 3]), \\\n",
        "    \"Проверьте использование знаков: >=,  >. \" \\\n",
        "    \"Также проверьте расчет процентиля\"\n",
        "print(\"Тесты пройдены!\")\n"
      ],
      "execution_count": null,
      "outputs": [
        {
          "output_type": "stream",
          "text": [
            "Тесты пройдены!\n"
          ],
          "name": "stdout"
        }
      ]
    },
    {
      "cell_type": "markdown",
      "metadata": {
        "id": "ZZzLzP7PuQKb"
      },
      "source": [
        "Теперь мы хотим написать обновляющуюся стратегию:"
      ]
    },
    {
      "cell_type": "code",
      "metadata": {
        "id": "PecfT_xEuQKc"
      },
      "source": [
        "def update_policy(elite_states, elite_actions):\n",
        "    \"\"\"\n",
        "    Новой стратегией будет:\n",
        "    policy[s_i,a_i] ~ #[вхождения  si/ai в лучшие states/actions]\n",
        "    \n",
        "    Не забудьте про нормализацию состояний.\n",
        "    Если какое-то состояние не было посещено, \n",
        "    то используйте равномерное распределение 1./n_actions\n",
        "    \n",
        "    :param elite_states:  список состояний\n",
        "    :param elite_actions: список действий\n",
        "    \"\"\"\n",
        "    new_policy = np.zeros([n_states,n_actions])\n",
        "    # обновляем стратегию - нормируем новые частоты \n",
        "    # действий и не забываем про непосещенные состояния\n",
        "    # s1 a1 (3) a2(0) a(0) [1.0, 0.0, 0.0]\n",
        "    # new_policy[state, a]         \n",
        "    ####### Здесь ваш код ########\n",
        "    for state, action in zip(elite_states, elite_actions):\n",
        "        new_policy[state][action] += 1\n",
        "    for state in range(len(new_policy)):\n",
        "        s = np.sum(new_policy[state])\n",
        "        if s == 0:\n",
        "            new_policy[state, :] = 1. / n_actions\n",
        "        else:\n",
        "            new_policy[state, :] /= s\n",
        "    ##############################\n",
        "    return new_policy"
      ],
      "execution_count": null,
      "outputs": []
    },
    {
      "cell_type": "code",
      "metadata": {
        "colab": {
          "base_uri": "https://localhost:8080/"
        },
        "id": "DsCFXHMRuQKf",
        "outputId": "4c5c3181-cfb1-4b29-ee82-db2910d92769"
      },
      "source": [
        "elite_states, elite_actions = (\n",
        "    [1, 2, 3, 4, 2, 0, 2, 3, 1],\n",
        "    [0, 2, 4, 3, 2, 0, 1, 3, 3])\n",
        "\n",
        "new_policy = update_policy(elite_states, elite_actions)\n",
        "\n",
        "assert np.isfinite(\n",
        "    new_policy).all(), \"Стратегия не должна содержать \" \\\n",
        "                       \"NaNs или +-inf. Проверьте \" \\\n",
        "                       \"деление на ноль. \"\n",
        "assert np.all(\n",
        "    new_policy >= 0), \"Стратегия не должна содержать \" \\\n",
        "                      \"отрицательных вероятностей \"\n",
        "assert np.allclose(new_policy.sum(axis=-1),\n",
        "                   1), \"Суммарная\\ вероятность действий\"\\\n",
        "                       \"для состояния должна равняться 1\"\n",
        "reference_answer = np.array([\n",
        "    [1., 0., 0., 0., 0.],\n",
        "    [0.5, 0., 0., 0.5, 0.],\n",
        "    [0., 0.33333333, 0.66666667, 0., 0.],\n",
        "    [0., 0., 0., 0.5, 0.5]])\n",
        "assert np.allclose(new_policy[:4, :5], reference_answer)\n",
        "print(\"Тесты пройдены!\")"
      ],
      "execution_count": null,
      "outputs": [
        {
          "output_type": "stream",
          "text": [
            "Тесты пройдены!\n"
          ],
          "name": "stdout"
        }
      ]
    },
    {
      "cell_type": "markdown",
      "metadata": {
        "id": "VYRLBwtvuQKi"
      },
      "source": [
        "### Цикл обучения\n",
        "\n",
        "Визуализириуем наш процесс обучения и также будем измерять распределение получаемых за сессию вознаграждений "
      ]
    },
    {
      "cell_type": "code",
      "metadata": {
        "id": "tmBnonZCuQKj"
      },
      "source": [
        "from IPython.display import clear_output\n",
        "\n",
        "def show_progress(rewards_batch, log, percentile, reward_range=[-990, +10]):\n",
        "    \"\"\"\n",
        "    Удобная функция, для визуализации результатов.\n",
        "    \"\"\"\n",
        "\n",
        "    mean_reward = np.mean(rewards_batch)\n",
        "    threshold = np.percentile(rewards_batch, percentile)\n",
        "    log.append([mean_reward, threshold])\n",
        "    \n",
        "    plt.figure(figsize=[8, 4])\n",
        "    plt.subplot(1, 2, 1)\n",
        "    plt.plot(list(zip(*log))[0], label='Mean rewards')\n",
        "    plt.plot(list(zip(*log))[1], label='Reward thresholds')\n",
        "    plt.legend()\n",
        "    plt.grid()\n",
        "\n",
        "    plt.subplot(1, 2, 2)\n",
        "    plt.hist(rewards_batch, range=reward_range)\n",
        "    plt.vlines([np.percentile(rewards_batch, percentile)],\n",
        "               [0], [100], label=\"percentile\", color='red')\n",
        "    plt.legend()\n",
        "    plt.grid()\n",
        "    clear_output(True)\n",
        "    print(\"mean reward = %.3f, threshold=%.3f\" % (mean_reward, threshold))\n",
        "    plt.show()"
      ],
      "execution_count": null,
      "outputs": []
    },
    {
      "cell_type": "code",
      "metadata": {
        "id": "GXhGLvjPuQKm"
      },
      "source": [
        "# инициализируем стратегию\n",
        "policy = initialize_policy(n_states, n_actions)"
      ],
      "execution_count": null,
      "outputs": []
    },
    {
      "cell_type": "code",
      "metadata": {
        "colab": {
          "base_uri": "https://localhost:8080/",
          "height": 282
        },
        "id": "vYncUOBfuQKo",
        "outputId": "b39b80d9-957b-42bd-c75b-77b71dec9a6c"
      },
      "source": [
        "n_sessions = 250  # количество сессий для сэмплирования\n",
        "percentile = 50  # перцентиль \n",
        "learning_rate = 0.5 # то как быстро стратегия будет обновляться \n",
        "\n",
        "log = []\n",
        "\n",
        "for i in range(100):\n",
        "    # генерируем n_sessions сессий\n",
        "    # sessions = []\n",
        "    ####### Здесь ваш код ########\n",
        "    sessions = [generate_session(env, policy) for _ in range(n_sessions)]\n",
        "    ##############################\n",
        "    \n",
        "    states_batch, actions_batch, rewards_batch = zip(*sessions)\n",
        "    # отбираем лучшие действия и состояния ###\n",
        "    # elite_states, elite_actions = \n",
        "    ####### Здесь ваш код ########\n",
        "    elite_states, elite_actions = select_elites(states_batch, actions_batch, rewards_batch, percentile)\n",
        "    ##############################\n",
        "    \n",
        "    # обновляем стратегию\n",
        "    # new_policy =\n",
        "    ####### Здесь ваш код ########\n",
        "    new_policy = update_policy(elite_states, elite_actions)\n",
        "    ##############################\n",
        "    \n",
        "    policy = learning_rate * new_policy + (1 - learning_rate) * policy\n",
        "\n",
        "    # выводим график с результатами\n",
        "    show_progress(rewards_batch, log, percentile)"
      ],
      "execution_count": null,
      "outputs": [
        {
          "output_type": "stream",
          "text": [
            "mean reward = -61.688, threshold=6.000\n"
          ],
          "name": "stdout"
        },
        {
          "output_type": "display_data",
          "data": {
            "image/png": "[encoded data removed]",
            "text/plain": [
              "<Figure size 576x288 with 2 Axes>"
            ]
          },
          "metadata": {
            "tags": [],
            "needs_background": "light"
          }
        }
      ]
    },
    {
      "cell_type": "markdown",
      "metadata": {
        "id": "3xIsESNpuQKr"
      },
      "source": [
        "### Посмотрим на результаты\n",
        "Задача такси быстро сходится, начиная с вознаграждения -1000 к почти оптимальному значению, а потом опять падает до -50/-100. Это вызвано случайностью в самом окружении $-$ случайное начальное состояние пассажира и такси, в начале каждого эпизода. \n",
        "\n",
        "В случае если алгоритм CEM не сможет научиться тому, как решить задачу из какого-то стартового положения, он просто отбросит этот эпизод, т.к. не будет сессий, которые переведут этот эпизод в топ лучших. \n",
        "\n",
        "Для решения этой проблемы можно уменьшить threshold (порог лучших состояний) или изменить способ инициализации окружения так, чтобы в накопленную статистику попадали все возможные расположения пассажира и такси."
      ]
    },
    {
      "cell_type": "markdown",
      "metadata": {
        "id": "_-nMGpEfuQKs"
      },
      "source": [
        "## 3. Deep CEM\n",
        "\n",
        "В данной части мы рассмотрим применение CEM вместе с нейронной сетью.\n",
        "Будем обучать многослойную нейронную сеть для решения простой задачи с непрерывным пространством действий.\n",
        "\n",
        "<img src=\"https://camo.githubusercontent.com/8f39c7f54a7798e7f80c9ec5c0bb610696e5c5b7/68747470733a2f2f7469702e64756b652e6564752f696e646570656e64656e745f6c6561726e696e672f677265656b2f6c6573736f6e2f64696767696e675f6465657065725f66696e616c2e6a7067\">"
      ]
    },
    {
      "cell_type": "markdown",
      "metadata": {
        "id": "sWFuA1hWuQKs"
      },
      "source": [
        "Будем тестировать нашего нового агента на известной задаче перевернутого маятника с непрерывным пространством состояний.\n",
        "https://gym.openai.com/envs/CartPole-v0/"
      ]
    },
    {
      "cell_type": "code",
      "metadata": {
        "colab": {
          "base_uri": "https://localhost:8080/"
        },
        "id": "-ZhZahUGuQKt",
        "outputId": "d1e0f03e-6944-4dbd-af6f-a5c22f74ecab"
      },
      "source": [
        "env = gym.make(\"CartPole-v0\")\n",
        "\n",
        "env.reset()\n",
        "n_actions = env.action_space.n\n",
        "state_dim = env.observation_space.shape[0]\n",
        "                                        \n",
        "print(f\"состояний: {state_dim} действий: {n_actions}\")"
      ],
      "execution_count": null,
      "outputs": [
        {
          "output_type": "stream",
          "text": [
            "состояний: 4 действий: 2\n"
          ],
          "name": "stdout"
        }
      ]
    },
    {
      "cell_type": "markdown",
      "metadata": {
        "id": "UgRpAtU-uQKw"
      },
      "source": [
        "### Стратегия с нейронной сетью\n",
        "\n",
        "Попробуем заменить метод обновления вероятностей на нейронную сеть. \n",
        "Будем пользоваться упрощенной реализацией нейронной сети из пакета Scikit-learn.\n",
        "Нам потребуется: \n",
        "* agent.partial_fit(states, actions) - делает один проход обучения по данным. Максимизирует вероятность :actions: из :states:\n",
        "* agent.predict_proba(states) - предсказыает вероятность каждого из действий, в виде матрицы размера [len(states), n_actions]"
      ]
    },
    {
      "cell_type": "code",
      "metadata": {
        "colab": {
          "base_uri": "https://localhost:8080/"
        },
        "id": "5fOPMKcYuQKx",
        "outputId": "3aac00a5-052d-4d1d-fac1-772328b2aa5d"
      },
      "source": [
        "from sklearn.neural_network import MLPClassifier\n",
        "\n",
        "agent = MLPClassifier(\n",
        "    hidden_layer_sizes=(20, 20),\n",
        "    activation='tanh',\n",
        ")\n",
        "\n",
        "# инициализируем агента под заданное пространство состояний и действий\n",
        "agent.partial_fit([env.reset()] * n_actions, range(n_actions), range(n_actions))"
      ],
      "execution_count": null,
      "outputs": [
        {
          "output_type": "execute_result",
          "data": {
            "text/plain": [
              "MLPClassifier(activation='tanh', alpha=0.0001, batch_size='auto', beta_1=0.9,\n",
              "              beta_2=0.999, early_stopping=False, epsilon=1e-08,\n",
              "              hidden_layer_sizes=(20, 20), learning_rate='constant',\n",
              "              learning_rate_init=0.001, max_fun=15000, max_iter=200,\n",
              "              momentum=0.9, n_iter_no_change=10, nesterovs_momentum=True,\n",
              "              power_t=0.5, random_state=None, shuffle=True, solver='adam',\n",
              "              tol=0.0001, validation_fraction=0.1, verbose=False,\n",
              "              warm_start=False)"
            ]
          },
          "metadata": {
            "tags": []
          },
          "execution_count": 23
        }
      ]
    },
    {
      "cell_type": "code",
      "metadata": {
        "id": "R9W-5nV3uQK0"
      },
      "source": [
        "def generate_session(env, agent, t_max=1000):\n",
        "    \n",
        "    states,actions = [],[]\n",
        "    total_reward = 0\n",
        "    \n",
        "    s = env.reset()\n",
        "    \n",
        "    for t in range(t_max):\n",
        "        # предсказываем вероятности действий по сети и \n",
        "        # выбираем одно действие\n",
        "        probs = agent.predict_proba([s])[0] \n",
        "        a = np.random.choice(n_actions, p=probs)\n",
        "        ####### Здесь ваш код ########\n",
        "        # raise NotImplementedError\n",
        "        ##############################\n",
        "        \n",
        "        new_s,r,done,info = env.step(a)\n",
        "        \n",
        "        states.append(s)\n",
        "        actions.append(a)\n",
        "        total_reward+=r\n",
        "        \n",
        "        s = new_s\n",
        "        if done: break\n",
        "    return states,actions,total_reward"
      ],
      "execution_count": null,
      "outputs": []
    },
    {
      "cell_type": "code",
      "metadata": {
        "colab": {
          "base_uri": "https://localhost:8080/"
        },
        "id": "0pntOSnguQK2",
        "outputId": "6c5ef297-68ed-46ed-c86f-86f25d711787"
      },
      "source": [
        "dummy_states, dummy_actions, dummy_reward = generate_session(env, agent, t_max=5)\n",
        "print(\"состояния:\", np.stack(dummy_states))\n",
        "print(\"действия:\", dummy_actions)\n",
        "print(\"вознаграждение:\", dummy_reward)"
      ],
      "execution_count": null,
      "outputs": [
        {
          "output_type": "stream",
          "text": [
            "состояния: [[ 0.03416058 -0.01550747 -0.04454452 -0.0406973 ]\n",
            " [ 0.03385043 -0.20996329 -0.04535847  0.23760533]\n",
            " [ 0.02965116 -0.40440887 -0.04060636  0.5156429 ]\n",
            " [ 0.02156298 -0.59893618 -0.03029351  0.79525834]\n",
            " [ 0.00958426 -0.40341186 -0.01438834  0.49320149]]\n",
            "действия: [0, 0, 0, 1, 0]\n",
            "вознаграждение: 5.0\n"
          ],
          "name": "stdout"
        }
      ]
    },
    {
      "cell_type": "code",
      "metadata": {
        "colab": {
          "base_uri": "https://localhost:8080/",
          "height": 299
        },
        "id": "HVDwmDFAuQK4",
        "outputId": "31f8b102-939b-47c0-c016-fa5ac4ea9c13"
      },
      "source": [
        "n_sessions = 200\n",
        "percentile = 50\n",
        "log = []\n",
        "\n",
        "for i in range(100):\n",
        "    sessions = [generate_session(env, agent) for _ in range(n_sessions)]\n",
        "    \n",
        "    states_batch, actions_batch, rewards_batch = map(np.array, zip(*sessions))\n",
        "    \n",
        "    elite_states, elite_actions = select_elites(states_batch,actions_batch,rewards_batch, percentile)\n",
        "    \n",
        "    # обновляем стратегию, обучая сеть предсказывать лучшие действия \n",
        "    # y=elite_actions[...] из X=состояний elite_states[...]\n",
        "    \"\"\"<codehere>\"\"\"\n",
        "    agent.fit(elite_states, elite_actions)\n",
        "    \"\"\"</codehere>\"\"\"\n",
        "    \n",
        "    show_progress(rewards_batch, log, percentile, reward_range=[0, np.max(rewards_batch)])\n",
        "\n",
        "    if np.mean(rewards_batch) > 190:\n",
        "        print(\"Принято!\")\n",
        "        break\n"
      ],
      "execution_count": null,
      "outputs": [
        {
          "output_type": "stream",
          "text": [
            "mean reward = 194.055, threshold=200.000\n"
          ],
          "name": "stdout"
        },
        {
          "output_type": "display_data",
          "data": {
            "image/png": "[encoded data removed]",
            "text/plain": [
              "<Figure size 576x288 with 2 Axes>"
            ]
          },
          "metadata": {
            "tags": [],
            "needs_background": "light"
          }
        },
        {
          "output_type": "stream",
          "text": [
            "Принято!\n"
          ],
          "name": "stdout"
        }
      ]
    },
    {
      "cell_type": "code",
      "metadata": {
        "id": "H6rDniBvlwms"
      },
      "source": [
        "env.close()"
      ],
      "execution_count": null,
      "outputs": []
    },
    {
      "cell_type": "code",
      "metadata": {
        "colab": {
          "base_uri": "https://localhost:8080/"
        },
        "id": "7ESsETPklwms",
        "scrolled": true,
        "outputId": "636ef0ca-f252-4e1b-e1bb-7bbbcd733f5b"
      },
      "source": [
        "env = gym.make(\"CartPole-v0\")\n",
        "env = gym.wrappers.Monitor(env, \"./video\", force=True)\n",
        "\n",
        "generate_session(env, agent)\n",
        "\n",
        "env.close()\n",
        "show_video()"
      ],
      "execution_count": null,
      "outputs": [
        {
          "output_type": "display_data",
          "data": {
            "text/html": [
              "<video alt=\"test\" autoplay \n",
              "                loop controls style=\"height: 400px;\">\n",
              "                <source src=\"data:video/mp4;base64,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\" type=\"video/mp4\" />\n",
              "             </video>"
            ],
            "text/plain": [
              "<IPython.core.display.HTML object>"
            ]
          },
          "metadata": {
            "tags": []
          }
        }
      ]
    },
    {
      "cell_type": "code",
      "metadata": {
        "id": "wxjN0BR0lwms"
      },
      "source": [
        "\n",
        "\n"
      ],
      "execution_count": null,
      "outputs": []
    }
  ]
}